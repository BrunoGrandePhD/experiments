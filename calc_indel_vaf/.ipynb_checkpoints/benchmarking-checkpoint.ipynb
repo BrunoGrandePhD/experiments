{
 "cells": [
  {
   "cell_type": "markdown",
   "metadata": {},
   "source": [
    "# Setting some variables"
   ]
  },
  {
   "cell_type": "markdown",
   "metadata": {},
   "source": [
    "**According to Strelka**\n",
    "\n",
    "```\n",
    "ref_count = 25\n",
    "alt_count = 8\n",
    "vaf = 8 / (8 + 25) = 0.24\n",
    "```"
   ]
  },
  {
   "cell_type": "code",
   "execution_count": 258,
   "metadata": {
    "collapsed": true
   },
   "outputs": [],
   "source": [
    "from __future__ import print_function\n",
    "from __future__ import division"
   ]
  },
  {
   "cell_type": "code",
   "execution_count": 259,
   "metadata": {
    "collapsed": true
   },
   "outputs": [],
   "source": [
    "ref_seq = \"CTAAGCTTCATATATGAAAGAAAGATACAGTATTTTTCAGAAAAACAAATGCTGAAACAATTCACACTATCAAGCCACCACTACAAGAATTGCTAAAAGGAGTTCTAAATCTTGAAAAAAATCCTGGAAACACATCAAAACAGATCCTCTTTAAGCATAAATCTTACAGGACCTATAAAACAAAAATACAATTACAAAACAAAAAATCAAGGTATACAGCCAACAAATAGCATGATGAATGAAATGGTACGTCACATCTCAATACCAGTGTTGAATGTAAATGGTATAAATGCTCCACTTAAAAGACACAGAATTGTAGAATGGATAAGAATTCGCCAAACAACTATCTGCTGCCTTCAAGAGATTCACCTAACACATAAGGACTCACACAAACTTAAGGTAAAGGGGTAGAAAGAGACATTTCATGCAAATGGACACCAAAACCAAGTAGGAGTAGCTATCCTTATATCAGACAAAACAACCTTTAAAGCAAAAACAGTTAAAAATACAAAAAGGAAAATTATATGATGATAAAAGGTATTATCCAACAGGAAAATATCACAATCCTAAACATATATGCACCTATAACGCTGGGGCTCACAAATTTATAAAACAATTACTATTAGATCTAAGAAATGAAAGAGACAGCAACACAATAATAGTGGGGGACTTCAGTACTACACTAAGAGCACAAGACAGGTCATCAAGACAGAAAGTCAACAAAGAAACAATGAATTTAAACTATAGCCTGAAACAAATGGACTTAATGTATATGCAAAGAACATTCCATCCAACAACCACAGAATATACATGCTATTCAACAGCACATGAAACTTTCTCCAAGCTAGACCATATGATAAACCACAAAAGAAGCCACAGTAAAATTAAGAAAATTGAAATTATATCAAGCACTCTCTCAGACCACAGTGGAATAAAACTGCAAATCAACTCTAAAAGGAACCCTCAAAATCATGCAAATACAGGATAAATAACCTGCTCCT\"\n",
    "alt_seq = \"CTAAGCTTCATATATGAAAGAAAGATACAGTATTTTTCAGAAAAACAAATGCTGAAACAATTCACACTATCAAGCCACCACTACAAGAATTGCTAAAAGGAGTTCTAAATCTTGAAAAAAATCCTGGAAACACATCAAAACAGATCCTCTTTAAGCATAAATCTTACAGGACCTATAAAACAAAAATACAATTACAAAACAAAAAATCAAGGTATACAGCCAACAAATAGCATGATGAATGAAATGGTACGTCACATCTCAATACCAGTGTTGAATGTAAATGGTATAAATGCTCCACTTAAAAGACACAGAATTGTAGAATGGATAAGAATTCGCCAAACAACTATCTGCTGCCTTCAAGAGATTCACCTAACACATAAGGACTCACACAAACTTAAGGTAAAGGGGTAGAAAGAGACATTTCATGCAAATGGACACCAAAACCAAGTAGGAGTAGCTATCCTTATATCAGACAAAACAACCTTTAAAGCAAAAACAGTTAAAAAATACAAAAAGGAAAATTATATGATGATAAAAGGTATTATCCAACAGGAAAATATCACAATCCTAAACATATATGCACCTATAACGCTGGGGCTCACAAATTTATAAAACAATTACTATTAGATCTAAGAAATGAAAGAGACAGCAACACAATAATAGTGGGGGACTTCAGTACTACACTAAGAGCACAAGACAGGTCATCAAGACAGAAAGTCAACAAAGAAACAATGAATTTAAACTATAGCCTGAAACAAATGGACTTAATGTATATGCAAAGAACATTCCATCCAACAACCACAGAATATACATGCTATTCAACAGCACATGAAACTTTCTCCAAGCTAGACCATATGATAAACCACAAAAGAAGCCACAGTAAAATTAAGAAAATTGAAATTATATCAAGCACTCTCTCAGACCACAGTGGAATAAAACTGCAAATCAACTCTAAAAGGAACCCTCAAAATCATGCAAATACAGGATAAATAACCTGCTCCT\""
   ]
  },
  {
   "cell_type": "code",
   "execution_count": 260,
   "metadata": {
    "collapsed": true
   },
   "outputs": [],
   "source": [
    "infile = \"reads.txt\""
   ]
  },
  {
   "cell_type": "code",
   "execution_count": 30,
   "metadata": {
    "collapsed": true
   },
   "outputs": [],
   "source": [
    "import requests\n",
    "def get_seqs(chrom, pos, ref, alt, margin):\n",
    "    \"\"\"Obtain reference and alternate sequences \n",
    "    from Ensembl\n",
    "    \"\"\"\n",
    "    # Calculate start and end positions\n",
    "    start = pos - margin\n",
    "    end = pos + margin\n",
    "    server = \"http://grch37.rest.ensembl.org/\"\n",
    "    ext = \"/sequence/region/human/{}:{}..{}:1?\".format(chrom, start, end)\n",
    "    r = requests.get(server+ext, headers={ \"Content-Type\" : \"text/plain\"})\n",
    "    ref_seq = r.text\n",
    "    alt_seq = \"\"\n",
    "    ref_len = len(ref.strip(\"-\"))\n",
    "    alt_len = len(alt.strip(\"-\"))\n",
    "    # Insertion\n",
    "    if ref_len < alt_len:\n",
    "        prefix = ref_seq[:margin+1]\n",
    "        suffix = ref_seq[margin+1:]\n",
    "        alt_seq = prefix + alt + suffix\n",
    "    # Deletion\n",
    "    elif ref_len > alt_len:\n",
    "        prefix = ref_seq[:margin]\n",
    "        suffix = ref_seq[margin+len(ref):]\n",
    "        alt_seq = prefix + suffix\n",
    "    # SNP\n",
    "    else:\n",
    "        prefix = ref_seq[:margin]\n",
    "        suffix = ref_seq[margin+1:]\n",
    "        alt_seq = prefix + alt + suffix\n",
    "    return ref_seq, alt_seq"
   ]
  },
  {
   "cell_type": "markdown",
   "metadata": {},
   "source": [
    "# K-mer approach"
   ]
  },
  {
   "cell_type": "code",
   "execution_count": 261,
   "metadata": {
    "collapsed": true
   },
   "outputs": [],
   "source": [
    "K = 10\n",
    "IVAL = 2"
   ]
  },
  {
   "cell_type": "code",
   "execution_count": 262,
   "metadata": {
    "collapsed": true
   },
   "outputs": [],
   "source": [
    "def kmer_iter(text, k, step, ival):\n",
    "    num_kmers = (len(text) - k * ival)//step + 1\n",
    "    for i in range(num_kmers):\n",
    "        kmer = text[i*step:i*step+k*ival:ival]\n",
    "        yield kmer"
   ]
  },
  {
   "cell_type": "code",
   "execution_count": 263,
   "metadata": {
    "collapsed": false
   },
   "outputs": [],
   "source": [
    "def get_kmer_set(text, k, step, ival):\n",
    "    kmers = set()\n",
    "    for kmer in kmer_iter(text, k, step, ival):\n",
    "        kmers.add(kmer)\n",
    "    return kmers"
   ]
  },
  {
   "cell_type": "code",
   "execution_count": 264,
   "metadata": {
    "collapsed": false
   },
   "outputs": [],
   "source": [
    "ref_kmers = get_kmer_set(ref_seq, k=K, step=1, ival=IVAL)\n",
    "alt_kmers = get_kmer_set(alt_seq, k=K, step=1, ival=IVAL)"
   ]
  },
  {
   "cell_type": "code",
   "execution_count": 265,
   "metadata": {
    "collapsed": true
   },
   "outputs": [],
   "source": [
    "from collections import defaultdict\n",
    "def kmer_count(text, k, step, ival):\n",
    "    kmer_counts = defaultdict(int)\n",
    "    num_kmers = (len(text) - k)//step + 1\n",
    "    for kmer in kmer_iter(text, k, step, ival):\n",
    "        kmer_counts[kmer] += 1\n",
    "    return kmer_counts"
   ]
  },
  {
   "cell_type": "code",
   "execution_count": 266,
   "metadata": {
    "collapsed": true
   },
   "outputs": [],
   "source": [
    "def calc_score(kmer_counts, kmer_set):\n",
    "    common = set(kmer_counts.keys()).intersection(kmer_set)\n",
    "    counts = [kmer_counts[kmer] for kmer in common]\n",
    "    score = sum(counts)\n",
    "    return score"
   ]
  },
  {
   "cell_type": "code",
   "execution_count": 271,
   "metadata": {
    "collapsed": false
   },
   "outputs": [
    {
     "name": "stdout",
     "output_type": "stream",
     "text": [
      "29 8 4 0.22\n",
      "CPU times: user 5.18 ms, sys: 2.25 ms, total: 7.43 ms\n",
      "Wall time: 5.58 ms\n"
     ]
    }
   ],
   "source": [
    "%%time\n",
    "with open(infile) as reads:\n",
    "    ref_count = 0\n",
    "    alt_count = 0\n",
    "    amb_count = 0  # Ambiguous count\n",
    "    for read in reads:\n",
    "        kmer_counts = kmer_count(read, k=K, step=1, ival=IVAL)\n",
    "        score_ref = calc_score(kmer_counts, ref_kmers)\n",
    "        score_alt = calc_score(kmer_counts, alt_kmers)\n",
    "        if score_ref > score_alt:\n",
    "            ref_count += 1\n",
    "        elif score_ref < score_alt:\n",
    "            alt_count += 1\n",
    "        else:\n",
    "            amb_count += 1\n",
    "vaf = round(alt_count/(alt_count + ref_count), 2)\n",
    "print(ref_count, alt_count, amb_count, vaf)"
   ]
  },
  {
   "cell_type": "markdown",
   "metadata": {},
   "source": [
    "# Local alignment approach"
   ]
  },
  {
   "cell_type": "code",
   "execution_count": 272,
   "metadata": {
    "collapsed": true
   },
   "outputs": [],
   "source": [
    "alphabet = ['A', 'C', 'G', 'T']\n",
    "score = [[0, 4, 2, 4, 8],\n",
    "         [4, 0, 4, 2, 8],\n",
    "         [2, 4, 0, 4, 8],\n",
    "         [4, 2, 4, 0, 8],\n",
    "         [8, 8, 8, 8, 8]]"
   ]
  },
  {
   "cell_type": "code",
   "execution_count": 273,
   "metadata": {
    "collapsed": true
   },
   "outputs": [],
   "source": [
    "import numpy as np\n",
    "def local_aln_score(t, p):\n",
    "\n",
    "    # Create distance matrix\n",
    "    D = np.zeros((len(p)+1,len(t)+1), dtype=np.int)\n",
    "    \n",
    "    # Initialize first row\n",
    "    for i in range(1, len(t)+1):\n",
    "        D[0,i] = 0\n",
    "    \n",
    "    # Initialize first column\n",
    "    for i in range(1, len(p)+1):\n",
    "        D[i,0] = D[i-1,0] + score[alphabet.index(p[i-1])][-1]\n",
    "        \n",
    "    # Fill rest of the matrix\n",
    "    for i in range(1, len(p)+1):\n",
    "        for j in range(1, len(t)+1):\n",
    "            distHor = D[i,j-1] + score[-1][alphabet.index(t[j-1])]\n",
    "            distVer = D[i-1,j] + score[alphabet.index(p[i-1])][-1]\n",
    "            distDiag = D[i-1,j-1] + score[alphabet.index(p[i-1])][alphabet.index(t[j-1])]\n",
    "            D[i][j] = min(distHor, distVer, distDiag)\n",
    "    \n",
    "    # Return min of bottom row\n",
    "    return min(D[-1])"
   ]
  },
  {
   "cell_type": "code",
   "execution_count": 275,
   "metadata": {
    "collapsed": false
   },
   "outputs": [
    {
     "name": "stdout",
     "output_type": "stream",
     "text": [
      "9 29 3 0.76\n",
      "CPU times: user 31.2 s, sys: 854 ms, total: 32.1 s\n",
      "Wall time: 31.4 s\n"
     ]
    }
   ],
   "source": [
    "%%time\n",
    "with open(infile) as reads:\n",
    "    ref_count = 0\n",
    "    alt_count = 0\n",
    "    amb_count = 0  # Ambiguous count\n",
    "    for read in reads:\n",
    "        read = read.rstrip()\n",
    "        score_ref = local_aln_score(ref_seq, read)\n",
    "        score_alt = local_aln_score(alt_seq, read)\n",
    "        if score_ref > score_alt:\n",
    "            ref_count += 1\n",
    "        elif score_ref < score_alt:\n",
    "            alt_count += 1\n",
    "        else:\n",
    "            amb_count += 1\n",
    "vaf = round(alt_count/(alt_count + ref_count), 2)\n",
    "print(ref_count, alt_count, amb_count, vaf)"
   ]
  },
  {
   "cell_type": "code",
   "execution_count": null,
   "metadata": {
    "collapsed": true
   },
   "outputs": [],
   "source": []
  }
 ],
 "metadata": {
  "kernelspec": {
   "display_name": "Python 2",
   "language": "python",
   "name": "python2"
  },
  "language_info": {
   "codemirror_mode": {
    "name": "ipython",
    "version": 2
   },
   "file_extension": ".py",
   "mimetype": "text/x-python",
   "name": "python",
   "nbconvert_exporter": "python",
   "pygments_lexer": "ipython2",
   "version": "2.7.10"
  }
 },
 "nbformat": 4,
 "nbformat_minor": 0
}
