{
 "cells": [
  {
   "cell_type": "markdown",
   "metadata": {},
   "source": [
    "# Shared Code"
   ]
  },
  {
   "cell_type": "code",
   "execution_count": 507,
   "metadata": {
    "collapsed": true
   },
   "outputs": [],
   "source": [
    "from __future__ import print_function\n",
    "from __future__ import division"
   ]
  },
  {
   "cell_type": "code",
   "execution_count": 508,
   "metadata": {
    "collapsed": true
   },
   "outputs": [],
   "source": [
    "from collections import defaultdict"
   ]
  },
  {
   "cell_type": "code",
   "execution_count": 509,
   "metadata": {
    "collapsed": true
   },
   "outputs": [],
   "source": [
    "MARGIN = 200\n",
    "MAX_ID = 100"
   ]
  },
  {
   "cell_type": "code",
   "execution_count": 510,
   "metadata": {
    "collapsed": true
   },
   "outputs": [],
   "source": [
    "import requests\n",
    "def get_seqs(chrom, pos, ref, alt, margin):\n",
    "    \"\"\"Obtain reference and alternate sequences \n",
    "    from Ensembl.\n",
    "    \n",
    "    Returns (ref_seq, alt_seq) tuple\n",
    "    \"\"\"\n",
    "    # Calculate start and end positions\n",
    "    start = pos - margin\n",
    "    end = pos + margin\n",
    "    # Construct the URL for the REST query\n",
    "    server = \"http://grch37.rest.ensembl.org/\"\n",
    "    ext = \"/sequence/region/human/{}:{}..{}:1?\".format(chrom, start, end)\n",
    "    # Send the HTTP request\n",
    "    r = requests.get(server+ext, headers={ \"Content-Type\" : \"text/plain\"})\n",
    "    # Extract reference sequence\n",
    "    ref_seq = str(r.text)\n",
    "    # Strip away any gaps when calculating length\n",
    "    ref_len = len(ref.strip(\"-\"))\n",
    "    alt_len = len(alt.strip(\"-\"))\n",
    "    # Categorize the variant\n",
    "    if ref_len < alt_len:  # Insertion\n",
    "        prefix = ref_seq[:margin+1]\n",
    "        suffix = ref_seq[margin+1:]\n",
    "        alt_seq = prefix + alt + suffix\n",
    "    elif ref_len > alt_len:  # Deletion\n",
    "        prefix = ref_seq[:margin]\n",
    "        suffix = ref_seq[margin+len(ref):]\n",
    "        alt_seq = prefix + suffix\n",
    "    else:  # SNP\n",
    "        prefix = ref_seq[:margin]\n",
    "        suffix = ref_seq[margin+1:]\n",
    "        alt_seq = prefix + alt + suffix\n",
    "    return ref_seq, alt_seq"
   ]
  },
  {
   "cell_type": "code",
   "execution_count": 511,
   "metadata": {
    "collapsed": true
   },
   "outputs": [],
   "source": [
    "def rev_comp(seq):\n",
    "    \"\"\"Return reverse complement\"\"\"\n",
    "    cbases = {\"A\": \"T\",\n",
    "              \"T\": \"A\",\n",
    "              \"G\": \"C\",\n",
    "              \"C\": \"G\",\n",
    "              \"N\": \"N\"}\n",
    "    comp = \"\"\n",
    "    for base in seq[::-1]:\n",
    "        comp += cbases[base]\n",
    "    return comp"
   ]
  },
  {
   "cell_type": "code",
   "execution_count": 512,
   "metadata": {
    "collapsed": false
   },
   "outputs": [],
   "source": [
    "from tabulate import tabulate\n",
    "def print_results(results, headers):\n",
    "    \"\"\"Return results in pretty format\"\"\"\n",
    "    s_results = sorted(results.items(), key=lambda x: int(x[0]))\n",
    "    table = [[int(i)] + [(method.get(\"ref_count\", 0), method.get(\"alt_count\", 0), \n",
    "                     method.get(\"amb_count\", 0), method.get(\"vaf\", 0)) for method in result] for i, result in s_results]\n",
    "    return tabulate(table, headers)"
   ]
  },
  {
   "cell_type": "code",
   "execution_count": 513,
   "metadata": {
    "collapsed": false
   },
   "outputs": [],
   "source": [
    "# Parse indels file\n",
    "indels = {}\n",
    "headers = [\"id\", \"chrom\", \"start\", \"end\", \"ref\", \"alt\", \"ref_count\", \"alt_count\", \"vaf\"]\n",
    "with open(\"indels.txt\") as infile:\n",
    "    for line in infile:\n",
    "        # Parse line\n",
    "        indel = dict(zip(headers, line.rstrip(\"\\n\").split(\"\\t\")))\n",
    "        id_num = int(indel[\"id\"])\n",
    "        # Obtain sequences\n",
    "        ref_seq, alt_seq = get_seqs(indel[\"chrom\"], int(indel[\"start\"]), indel[\"ref\"], indel[\"alt\"], margin=MARGIN)\n",
    "        indel[\"ref_seq\"], indel[\"alt_seq\"] = ref_seq, alt_seq\n",
    "        # Create SeqIndexSet objects for ref and alt sequences\n",
    "        ref_idxs = SeqIndexSet(ref_seq)\n",
    "        alt_idxs = SeqIndexSet(alt_seq)\n",
    "        indel[\"ref_idxs\"], indel[\"alt_idxs\"] = ref_idxs, alt_idxs\n",
    "        # Store them for later\n",
    "        indels[id_num] = indel\n",
    "        # Limit number of indels for now\n",
    "        if id_num >= MAX_ID:\n",
    "            break"
   ]
  },
  {
   "cell_type": "code",
   "execution_count": 514,
   "metadata": {
    "collapsed": true
   },
   "outputs": [],
   "source": [
    "# Build dictionary of indels holding the values predicted by various methods\n",
    "# key: id\n",
    "# value: list of dict(ref_count, alt_count, amb_count, vaf) for each method\n",
    "HEADERS = [\"id\", \"original\", \"kmer\", \"aln\", \"seeded_aln\", \"hybrid\"]\n",
    "results = defaultdict(lambda: [{}] * (len(HEADERS) - 1))"
   ]
  },
  {
   "cell_type": "code",
   "execution_count": 515,
   "metadata": {
    "collapsed": false
   },
   "outputs": [],
   "source": [
    "# Add original results from MAF file to results dict\n",
    "for i in range(1, MAX_ID+1):\n",
    "    # Iterate over reads\n",
    "    indel = indels[i]\n",
    "    results[indel[\"id\"]][0] = {\n",
    "            \"ref_count\": int(indel[\"ref_count\"]),\n",
    "            \"alt_count\": int(indel[\"alt_count\"]),\n",
    "            \"amb_count\": 0,\n",
    "            \"vaf\": round(float(indel[\"vaf\"]), 2)\n",
    "        }"
   ]
  },
  {
   "cell_type": "markdown",
   "metadata": {},
   "source": [
    "# K-mer Approach"
   ]
  },
  {
   "cell_type": "code",
   "execution_count": 516,
   "metadata": {
    "collapsed": true
   },
   "outputs": [],
   "source": [
    "# Some constants\n",
    "K = 10\n",
    "IVAL = 2"
   ]
  },
  {
   "cell_type": "code",
   "execution_count": 517,
   "metadata": {
    "collapsed": true
   },
   "outputs": [],
   "source": [
    "from random import shuffle\n",
    "def kmer_iter(seq, k, step, ival):\n",
    "    \"\"\"Iterate over k-mers using the same \n",
    "    subsequence pattern.\n",
    "    \n",
    "    Yields (offset, kmer).\n",
    "    \"\"\"\n",
    "    num_kmers = (len(seq) - k * ival)//step + 1\n",
    "    kmer_ids = range(num_kmers)\n",
    "    shuffle(kmer_ids)\n",
    "    for i in kmer_ids:\n",
    "        start = i*step\n",
    "        end = i*step+k*ival\n",
    "        kmer = seq[start:end:ival]\n",
    "        yield start, kmer"
   ]
  },
  {
   "cell_type": "code",
   "execution_count": 518,
   "metadata": {
    "collapsed": true
   },
   "outputs": [],
   "source": [
    "class SeqIndexSet(object):\n",
    "    \n",
    "    def __init__(self, seq):\n",
    "        self.seq = seq\n",
    "        self.kmer_idxs = {}\n",
    "    \n",
    "    def get_idx(self, k, step, ival):\n",
    "        \"\"\"Return k-mer index. Create it if not \n",
    "        precomputed.\n",
    "        \"\"\"\n",
    "        # Create param key\n",
    "        key = (k, step, ival)\n",
    "        # Check if precomputed\n",
    "        if key in self.kmer_idxs:\n",
    "            idx = self.kmer_idxs[key]\n",
    "        else:\n",
    "            # Create a new index\n",
    "            idx = defaultdict(set)\n",
    "            for offset, kmer in kmer_iter(self.seq, k, step, ival):\n",
    "                idx[kmer].add(offset)\n",
    "            # Store it for later\n",
    "            self.kmer_idxs[key] = idx\n",
    "        return idx"
   ]
  },
  {
   "cell_type": "code",
   "execution_count": 519,
   "metadata": {
    "collapsed": true
   },
   "outputs": [],
   "source": [
    "def kmer_count(seq, kmer_idx, k, step, ival):\n",
    "    \"\"\"Returns score for k-mers present\n",
    "    in the given k-mer index.\n",
    "    \n",
    "    Returns the count/score.\n",
    "    \"\"\"\n",
    "    kmer_count = 0\n",
    "    num_kmers = (len(seq) - k)//step + 1\n",
    "    for offset, kmer in kmer_iter(seq, k, step, ival):\n",
    "        if kmer in kmer_idx:\n",
    "            kmer_count += 1\n",
    "    return kmer_count"
   ]
  },
  {
   "cell_type": "code",
   "execution_count": 520,
   "metadata": {
    "collapsed": true
   },
   "outputs": [],
   "source": [
    "def calc_kmer_delta(read_seq, ref_idxs, alt_idxs, min_delta=1, max_ival=3):\n",
    "    \"\"\"Determines whether read has more k-mers\n",
    "    in common with reference sequence or alternate\n",
    "    sequence. \n",
    "    \n",
    "    abs(difference) >= min_delta\n",
    "    Attempts with interval lengths <= max_ival\n",
    "    \n",
    "    Returns delta in score between the two.\n",
    "    If positive, aligns better to reference.\n",
    "    If negative, aligns better to alternate.\n",
    "    If zero, abs(difference) < min_delta\n",
    "    \"\"\"\n",
    "    ival = 1\n",
    "    ref_score = 0\n",
    "    alt_score = 0\n",
    "    while (abs(ref_score - alt_score) < min_delta) and ival <= max_ival:\n",
    "        # Generate k-mer indexes for this ival\n",
    "        ref_idx = ref_idxs.get_idx(k=K, step=1, ival=ival)\n",
    "        alt_idx = alt_idxs.get_idx(k=K, step=1, ival=ival)\n",
    "        # Find ref scores for forward and reverse and take max\n",
    "        ref_score += kmer_count(read_seq, ref_idx, k=K, step=1, ival=ival)\n",
    "        # Find alt scores for forward and reverse and take max\n",
    "        alt_score += kmer_count(read_seq, alt_idx, k=K, step=1, ival=ival)\n",
    "        # Increment ival\n",
    "        ival += 1\n",
    "    if abs(ref_score - alt_score) < min_delta:\n",
    "        delta = 0\n",
    "    else:\n",
    "        delta = ref_score - alt_score\n",
    "    return delta"
   ]
  },
  {
   "cell_type": "code",
   "execution_count": 521,
   "metadata": {
    "collapsed": true
   },
   "outputs": [],
   "source": [
    "def is_forward(read_seq, ref_idxs):\n",
    "    \"\"\"Returns whether read is forward.\"\"\"\n",
    "    fread = read_seq\n",
    "    rread = rev_comp(read_seq)\n",
    "    ref_idx = ref_idxs.get_idx(k=K, step=1, ival=2)\n",
    "    fscore = kmer_count(fread, ref_idx, k=K, step=1, ival=2)\n",
    "    rscore = kmer_count(rread, ref_idx, k=K, step=1, ival=2)\n",
    "    return fscore > rscore"
   ]
  },
  {
   "cell_type": "code",
   "execution_count": 522,
   "metadata": {
    "collapsed": false
   },
   "outputs": [
    {
     "name": "stdout",
     "output_type": "stream",
     "text": [
      "CPU times: user 6.78 s, sys: 118 ms, total: 6.9 s\n",
      "Wall time: 6.95 s\n"
     ]
    }
   ],
   "source": [
    "%%time\n",
    "for i in range(1, MAX_ID+1):\n",
    "    # Iterate over reads\n",
    "    temp = \"reads/reads_{}.txt\"\n",
    "    with open(temp.format(i)) as reads:\n",
    "        ref_count = 0\n",
    "        alt_count = 0\n",
    "        amb_count = 0\n",
    "        indel = indels[i]\n",
    "        ref_idxs = indel[\"ref_idxs\"]\n",
    "        alt_idxs = indel[\"alt_idxs\"]\n",
    "        # Iterate over reads\n",
    "        for read in reads:\n",
    "            read = read.rstrip(\"\\n\").replace(\"N\", \"A\")\n",
    "            # Reverse read if applicable\n",
    "            if not is_forward(read, ref_idxs):\n",
    "                read = rev_comp(read)\n",
    "            # Calculate score delta\n",
    "            kmer_delta = calc_kmer_delta(read, ref_idxs, alt_idxs, min_delta=3, max_ival=5)\n",
    "            if kmer_delta > 0:\n",
    "                ref_count += 1\n",
    "            elif kmer_delta < 0:\n",
    "                alt_count += 1\n",
    "            else:\n",
    "                amb_count += 1\n",
    "        if alt_count + ref_count == 0:\n",
    "            vaf = 0\n",
    "        else:\n",
    "            vaf = round(alt_count/(alt_count + ref_count), 2)\n",
    "        results[indel[\"id\"]][1] = {\n",
    "            \"ref_count\": ref_count,\n",
    "            \"alt_count\": alt_count,\n",
    "            \"amb_count\": amb_count,\n",
    "            \"vaf\": vaf\n",
    "        }"
   ]
  },
  {
   "cell_type": "code",
   "execution_count": 523,
   "metadata": {
    "collapsed": false
   },
   "outputs": [
    {
     "name": "stdout",
     "output_type": "stream",
     "text": [
      "  id  original              kmer                   aln           seeded_aln    hybrid\n",
      "----  --------------------  ---------------------  ------------  ------------  ------------\n",
      "   1  (13, 7, 0, 0.35)      (16, 20, 7, 0.56)      (0, 0, 0, 0)  (0, 0, 0, 0)  (0, 0, 0, 0)\n",
      "   2  (36, 0, 0, 0.0)       (33, 0, 9, 0.0)        (0, 0, 0, 0)  (0, 0, 0, 0)  (0, 0, 0, 0)\n",
      "   3  (30, 0, 0, 0.0)       (30, 0, 4, 0.0)        (0, 0, 0, 0)  (0, 0, 0, 0)  (0, 0, 0, 0)\n",
      "   4  (79, 0, 0, 0.0)       (71, 0, 19, 0.0)       (0, 0, 0, 0)  (0, 0, 0, 0)  (0, 0, 0, 0)\n",
      "   5  (12, 0, 0, 0.0)       (8, 0, 12, 0.0)        (0, 0, 0, 0)  (0, 0, 0, 0)  (0, 0, 0, 0)\n",
      "   6  (11, 0, 0, 0.0)       (11, 0, 5, 0.0)        (0, 0, 0, 0)  (0, 0, 0, 0)  (0, 0, 0, 0)\n",
      "   7  (8, 0, 0, 0.0)        (8, 0, 7, 0.0)         (0, 0, 0, 0)  (0, 0, 0, 0)  (0, 0, 0, 0)\n",
      "   8  (7, 4, 0, 0.36)       (7, 4, 0, 0.36)        (0, 0, 0, 0)  (0, 0, 0, 0)  (0, 0, 0, 0)\n",
      "   9  (11, 0, 0, 0.0)       (10, 0, 4, 0.0)        (0, 0, 0, 0)  (0, 0, 0, 0)  (0, 0, 0, 0)\n",
      "  10  (69, 0, 0, 0.0)       (69, 12, 1, 0.15)      (0, 0, 0, 0)  (0, 0, 0, 0)  (0, 0, 0, 0)\n",
      "  11  (62, 0, 0, 0.0)       (58, 46, 13, 0.44)     (0, 0, 0, 0)  (0, 0, 0, 0)  (0, 0, 0, 0)\n",
      "  12  (21, 0, 0, 0.0)       (17, 3, 3, 0.15)       (0, 0, 0, 0)  (0, 0, 0, 0)  (0, 0, 0, 0)\n",
      "  13  (10, 0, 0, 0.0)       (10, 7, 5, 0.41)       (0, 0, 0, 0)  (0, 0, 0, 0)  (0, 0, 0, 0)\n",
      "  14  (88, 4, 0, 0.04)      (82, 0, 10, 0.0)       (0, 0, 0, 0)  (0, 0, 0, 0)  (0, 0, 0, 0)\n",
      "  15  (85, 4, 0, 0.04)      (76, 0, 14, 0.0)       (0, 0, 0, 0)  (0, 0, 0, 0)  (0, 0, 0, 0)\n",
      "  16  (84, 0, 0, 0.0)       (59, 3, 31, 0.05)      (0, 0, 0, 0)  (0, 0, 0, 0)  (0, 0, 0, 0)\n",
      "  17  (41, 0, 0, 0.0)       (31, 0, 17, 0.0)       (0, 0, 0, 0)  (0, 0, 0, 0)  (0, 0, 0, 0)\n",
      "  18  (35, 2, 0, 0.05)      (31, 0, 13, 0.0)       (0, 0, 0, 0)  (0, 0, 0, 0)  (0, 0, 0, 0)\n",
      "  19  (23, 2, 0, 0.08)      (22, 0, 3, 0.0)        (0, 0, 0, 0)  (0, 0, 0, 0)  (0, 0, 0, 0)\n",
      "  20  (14, 0, 0, 0.0)       (11, 66, 2, 0.86)      (0, 0, 0, 0)  (0, 0, 0, 0)  (0, 0, 0, 0)\n",
      "  21  (10, 4, 0, 0.29)      (7, 4, 3, 0.36)        (0, 0, 0, 0)  (0, 0, 0, 0)  (0, 0, 0, 0)\n",
      "  22  (45, 16, 0, 0.26)     (0, 23, 38, 1.0)       (0, 0, 0, 0)  (0, 0, 0, 0)  (0, 0, 0, 0)\n",
      "  23  (24, 5, 0, 0.17)      (25, 5, 0, 0.17)       (0, 0, 0, 0)  (0, 0, 0, 0)  (0, 0, 0, 0)\n",
      "  24  (13, 0, 0, 0.0)       (29, 0, 6, 0.0)        (0, 0, 0, 0)  (0, 0, 0, 0)  (0, 0, 0, 0)\n",
      "  25  (126, 17, 0, 0.12)    (114, 16, 0, 0.12)     (0, 0, 0, 0)  (0, 0, 0, 0)  (0, 0, 0, 0)\n",
      "  26  (41, 1, 0, 0.02)      (42, 6, 0, 0.13)       (0, 0, 0, 0)  (0, 0, 0, 0)  (0, 0, 0, 0)\n",
      "  27  (7, 0, 0, 0.0)        (6, 10, 2, 0.63)       (0, 0, 0, 0)  (0, 0, 0, 0)  (0, 0, 0, 0)\n",
      "  28  (13, 0, 0, 0.0)       (11, 4, 0, 0.27)       (0, 0, 0, 0)  (0, 0, 0, 0)  (0, 0, 0, 0)\n",
      "  29  (12, 2, 0, 0.14)      (10, 0, 4, 0.0)        (0, 0, 0, 0)  (0, 0, 0, 0)  (0, 0, 0, 0)\n",
      "  30  (10, 0, 0, 0.0)       (10, 0, 4, 0.0)        (0, 0, 0, 0)  (0, 0, 0, 0)  (0, 0, 0, 0)\n",
      "  31  (12, 1, 0, 0.08)      (14, 21, 6, 0.6)       (0, 0, 0, 0)  (0, 0, 0, 0)  (0, 0, 0, 0)\n",
      "  32  (143, 0, 0, 0.0)      (34, 85, 18, 0.71)     (0, 0, 0, 0)  (0, 0, 0, 0)  (0, 0, 0, 0)\n",
      "  33  (23, 3, 0, 0.12)      (19, 3, 2, 0.14)       (0, 0, 0, 0)  (0, 0, 0, 0)  (0, 0, 0, 0)\n",
      "  34  (30, 3, 0, 0.09)      (20, 3, 8, 0.13)       (0, 0, 0, 0)  (0, 0, 0, 0)  (0, 0, 0, 0)\n",
      "  35  (11, 0, 0, 0.0)       (11, 0, 5, 0.0)        (0, 0, 0, 0)  (0, 0, 0, 0)  (0, 0, 0, 0)\n",
      "  36  (47, 33, 0, 0.41)     (46, 31, 2, 0.4)       (0, 0, 0, 0)  (0, 0, 0, 0)  (0, 0, 0, 0)\n",
      "  37  (12, 0, 0, 0.0)       (9, 3, 10, 0.25)       (0, 0, 0, 0)  (0, 0, 0, 0)  (0, 0, 0, 0)\n",
      "  38  (8, 10, 0, 0.56)      (8, 10, 0, 0.56)       (0, 0, 0, 0)  (0, 0, 0, 0)  (0, 0, 0, 0)\n",
      "  39  (107, 0, 0, 0.0)      (98, 75, 3, 0.43)      (0, 0, 0, 0)  (0, 0, 0, 0)  (0, 0, 0, 0)\n",
      "  40  (4, 0, 0, 0.0)        (4, 13, 0, 0.76)       (0, 0, 0, 0)  (0, 0, 0, 0)  (0, 0, 0, 0)\n",
      "  41  (12, 0, 0, 0.0)       (14, 2, 4, 0.13)       (0, 0, 0, 0)  (0, 0, 0, 0)  (0, 0, 0, 0)\n",
      "  42  (9, 0, 0, 0.0)        (10, 3, 6, 0.23)       (0, 0, 0, 0)  (0, 0, 0, 0)  (0, 0, 0, 0)\n",
      "  43  (51, 1, 0, 0.02)      (0, 0, 55, 0)          (0, 0, 0, 0)  (0, 0, 0, 0)  (0, 0, 0, 0)\n",
      "  44  (41, 0, 0, 0.0)       (131, 0, 8, 0.0)       (0, 0, 0, 0)  (0, 0, 0, 0)  (0, 0, 0, 0)\n",
      "  45  (9, 9, 0, 0.5)        (18, 0, 5, 0.0)        (0, 0, 0, 0)  (0, 0, 0, 0)  (0, 0, 0, 0)\n",
      "  46  (14, 2, 0, 0.13)      (12, 3, 0, 0.2)        (0, 0, 0, 0)  (0, 0, 0, 0)  (0, 0, 0, 0)\n",
      "  47  (28, 1, 0, 0.03)      (27, 0, 7, 0.0)        (0, 0, 0, 0)  (0, 0, 0, 0)  (0, 0, 0, 0)\n",
      "  48  (42, 0, 0, 0.0)       (32, 2, 14, 0.06)      (0, 0, 0, 0)  (0, 0, 0, 0)  (0, 0, 0, 0)\n",
      "  49  (8, 2, 0, 0.2)        (6, 0, 4, 0.0)         (0, 0, 0, 0)  (0, 0, 0, 0)  (0, 0, 0, 0)\n",
      "  50  (19, 0, 0, 0.0)       (14, 0, 3, 0.0)        (0, 0, 0, 0)  (0, 0, 0, 0)  (0, 0, 0, 0)\n",
      "  51  (29, 1, 0, 0.03)      (27, 0, 6, 0.0)        (0, 0, 0, 0)  (0, 0, 0, 0)  (0, 0, 0, 0)\n",
      "  52  (66, 0, 0, 0.0)       (54, 0, 7, 0.0)        (0, 0, 0, 0)  (0, 0, 0, 0)  (0, 0, 0, 0)\n",
      "  53  (12, 2, 0, 0.14)      (10, 2, 2, 0.17)       (0, 0, 0, 0)  (0, 0, 0, 0)  (0, 0, 0, 0)\n",
      "  54  (2, 3, 0, 0.6)        (3, 0, 8, 0.0)         (0, 0, 0, 0)  (0, 0, 0, 0)  (0, 0, 0, 0)\n",
      "  55  (74, 0, 0, 0.0)       (72, 14, 9, 0.16)      (0, 0, 0, 0)  (0, 0, 0, 0)  (0, 0, 0, 0)\n",
      "  56  (90, 0, 0, 0.0)       (86, 0, 16, 0.0)       (0, 0, 0, 0)  (0, 0, 0, 0)  (0, 0, 0, 0)\n",
      "  57  (4, 0, 0, 0.0)        (4, 0, 4, 0.0)         (0, 0, 0, 0)  (0, 0, 0, 0)  (0, 0, 0, 0)\n",
      "  58  (70, 2, 0, 0.03)      (61, 0, 8, 0.0)        (0, 0, 0, 0)  (0, 0, 0, 0)  (0, 0, 0, 0)\n",
      "  59  (37, 0, 0, 0.0)       (29, 3, 2, 0.09)       (0, 0, 0, 0)  (0, 0, 0, 0)  (0, 0, 0, 0)\n",
      "  60  (70, 0, 0, 0.0)       (64, 7, 6, 0.1)        (0, 0, 0, 0)  (0, 0, 0, 0)  (0, 0, 0, 0)\n",
      "  61  (37, 2, 0, 0.05)      (32, 31, 0, 0.49)      (0, 0, 0, 0)  (0, 0, 0, 0)  (0, 0, 0, 0)\n",
      "  62  (20, 0, 0, 0.0)       (17, 0, 3, 0.0)        (0, 0, 0, 0)  (0, 0, 0, 0)  (0, 0, 0, 0)\n",
      "  63  (18, 0, 0, 0.0)       (15, 0, 3, 0.0)        (0, 0, 0, 0)  (0, 0, 0, 0)  (0, 0, 0, 0)\n",
      "  64  (19, 2, 0, 0.1)       (17, 0, 3, 0.0)        (0, 0, 0, 0)  (0, 0, 0, 0)  (0, 0, 0, 0)\n",
      "  65  (21, 0, 0, 0.0)       (17, 0, 3, 0.0)        (0, 0, 0, 0)  (0, 0, 0, 0)  (0, 0, 0, 0)\n",
      "  66  (5, 0, 0, 0.0)        (3, 0, 3, 0.0)         (0, 0, 0, 0)  (0, 0, 0, 0)  (0, 0, 0, 0)\n",
      "  67  (173, 2, 0, 0.01)     (152, 0, 17, 0.0)      (0, 0, 0, 0)  (0, 0, 0, 0)  (0, 0, 0, 0)\n",
      "  68  (37, 4, 0, 0.1)       (37, 2, 13, 0.05)      (0, 0, 0, 0)  (0, 0, 0, 0)  (0, 0, 0, 0)\n",
      "  69  (34, 4, 0, 0.11)      (36, 0, 12, 0.0)       (0, 0, 0, 0)  (0, 0, 0, 0)  (0, 0, 0, 0)\n",
      "  70  (34, 0, 0, 0.0)       (36, 0, 12, 0.0)       (0, 0, 0, 0)  (0, 0, 0, 0)  (0, 0, 0, 0)\n",
      "  71  (7, 2, 0, 0.22)       (6, 2, 6, 0.25)        (0, 0, 0, 0)  (0, 0, 0, 0)  (0, 0, 0, 0)\n",
      "  72  (13, 0, 0, 0.0)       (14, 0, 14, 0.0)       (0, 0, 0, 0)  (0, 0, 0, 0)  (0, 0, 0, 0)\n",
      "  73  (7, 0, 0, 0.0)        (6, 4, 1, 0.4)         (0, 0, 0, 0)  (0, 0, 0, 0)  (0, 0, 0, 0)\n",
      "  74  (21, 4, 0, 0.16)      (4, 0, 23, 0.0)        (0, 0, 0, 0)  (0, 0, 0, 0)  (0, 0, 0, 0)\n",
      "  75  (11, 0, 0, 0.0)       (9, 0, 11, 0.0)        (0, 0, 0, 0)  (0, 0, 0, 0)  (0, 0, 0, 0)\n",
      "  76  (30, 0, 0, 0.0)       (30, 0, 3, 0.0)        (0, 0, 0, 0)  (0, 0, 0, 0)  (0, 0, 0, 0)\n",
      "  77  (19, 0, 0, 0.0)       (19, 0, 3, 0.0)        (0, 0, 0, 0)  (0, 0, 0, 0)  (0, 0, 0, 0)\n",
      "  78  (17, 0, 0, 0.0)       (16, 0, 4, 0.0)        (0, 0, 0, 0)  (0, 0, 0, 0)  (0, 0, 0, 0)\n",
      "  79  (24, 0, 0, 0.0)       (104, 0, 3, 0.0)       (0, 0, 0, 0)  (0, 0, 0, 0)  (0, 0, 0, 0)\n",
      "  80  (0, 25, 0, 1.0)       (44, 4, 7, 0.08)       (0, 0, 0, 0)  (0, 0, 0, 0)  (0, 0, 0, 0)\n",
      "  81  (124, 75, 0, 0.38)    (130, 74, 5, 0.36)     (0, 0, 0, 0)  (0, 0, 0, 0)  (0, 0, 0, 0)\n",
      "  82  (1, 28, 0, 0.97)      (0, 20, 14, 1.0)       (0, 0, 0, 0)  (0, 0, 0, 0)  (0, 0, 0, 0)\n",
      "  83  (24, 27, 0, 0.53)     (26, 12, 20, 0.32)     (0, 0, 0, 0)  (0, 0, 0, 0)  (0, 0, 0, 0)\n",
      "  84  (0, 2, 0, 1.0)        (0, 2, 0, 1.0)         (0, 0, 0, 0)  (0, 0, 0, 0)  (0, 0, 0, 0)\n",
      "  85  (68, 2, 0, 0.03)      (120, 42, 2, 0.26)     (0, 0, 0, 0)  (0, 0, 0, 0)  (0, 0, 0, 0)\n",
      "  86  (73, 54, 0, 0.43)     (73, 56, 13, 0.43)     (0, 0, 0, 0)  (0, 0, 0, 0)  (0, 0, 0, 0)\n",
      "  87  (40, 8, 0, 0.17)      (54, 38, 4, 0.41)      (0, 0, 0, 0)  (0, 0, 0, 0)  (0, 0, 0, 0)\n",
      "  88  (494, 14, 0, 0.03)    (904, 21, 63, 0.02)    (0, 0, 0, 0)  (0, 0, 0, 0)  (0, 0, 0, 0)\n",
      "  89  (1095, 75, 0, 0.06)   (1245, 83, 26, 0.06)   (0, 0, 0, 0)  (0, 0, 0, 0)  (0, 0, 0, 0)\n",
      "  90  (163, 33, 0, 0.17)    (184, 34, 2, 0.16)     (0, 0, 0, 0)  (0, 0, 0, 0)  (0, 0, 0, 0)\n",
      "  91  (282, 69, 0, 0.2)     (425, 77, 8, 0.15)     (0, 0, 0, 0)  (0, 0, 0, 0)  (0, 0, 0, 0)\n",
      "  92  (549, 134, 0, 0.2)    (554, 137, 5, 0.2)     (0, 0, 0, 0)  (0, 0, 0, 0)  (0, 0, 0, 0)\n",
      "  93  (1119, 219, 0, 0.16)  (1136, 221, 11, 0.16)  (0, 0, 0, 0)  (0, 0, 0, 0)  (0, 0, 0, 0)\n",
      "  94  (1092, 200, 0, 0.15)  (1161, 207, 1, 0.15)   (0, 0, 0, 0)  (0, 0, 0, 0)  (0, 0, 0, 0)\n",
      "  95  (770, 50, 0, 0.06)    (1071, 111, 30, 0.09)  (0, 0, 0, 0)  (0, 0, 0, 0)  (0, 0, 0, 0)\n",
      "  96  (19, 10, 0, 0.34)     (26, 13, 4, 0.33)      (0, 0, 0, 0)  (0, 0, 0, 0)  (0, 0, 0, 0)\n",
      "  97  (46, 6, 0, 0.12)      (55, 7, 4, 0.11)       (0, 0, 0, 0)  (0, 0, 0, 0)  (0, 0, 0, 0)\n",
      "  98  (19, 3, 0, 0.14)      (20, 3, 1, 0.13)       (0, 0, 0, 0)  (0, 0, 0, 0)  (0, 0, 0, 0)\n",
      "  99  (22, 3, 0, 0.12)      (21, 3, 1, 0.13)       (0, 0, 0, 0)  (0, 0, 0, 0)  (0, 0, 0, 0)\n",
      " 100  (171, 6, 0, 0.03)     (174, 6, 2, 0.03)      (0, 0, 0, 0)  (0, 0, 0, 0)  (0, 0, 0, 0)\n"
     ]
    }
   ],
   "source": [
    "print(print_results(results, headers=HEADERS))"
   ]
  },
  {
   "cell_type": "markdown",
   "metadata": {},
   "source": [
    "# Alignment Approach"
   ]
  },
  {
   "cell_type": "code",
   "execution_count": 524,
   "metadata": {
    "collapsed": true
   },
   "outputs": [],
   "source": [
    "alphabet = ['A', 'C', 'G', 'T']\n",
    "score = [[0, 4, 2, 4, 8],\n",
    "         [4, 0, 4, 2, 8],\n",
    "         [2, 4, 0, 4, 8],\n",
    "         [4, 2, 4, 0, 8],\n",
    "         [8, 8, 8, 8, 8]]"
   ]
  },
  {
   "cell_type": "code",
   "execution_count": 525,
   "metadata": {
    "collapsed": true
   },
   "outputs": [],
   "source": [
    "import numpy as np\n",
    "def aln_score(read, ref, offset=None, margin=5):\n",
    "    \n",
    "    # Edit ref if offset is given\n",
    "    if offset:\n",
    "        ref = ref[offset-margin:offset+len(read)+margin]\n",
    "\n",
    "    # Create distance matrix\n",
    "    D = np.zeros((len(read)+1,len(ref)+1), dtype=np.int)\n",
    "    \n",
    "    # Initialize first row\n",
    "    for i in range(1, len(ref)+1):\n",
    "        D[0,i] = 0\n",
    "    \n",
    "    # Initialize first column\n",
    "    for i in range(1, len(read)+1):\n",
    "        D[i,0] = D[i-1,0] + score[alphabet.index(read[i-1])][-1]\n",
    "        \n",
    "    # Fill rest of the matrix\n",
    "    for i in range(1, len(read)+1):\n",
    "        for j in range(1, len(ref)+1):\n",
    "            distHor = D[i,j-1] + score[-1][alphabet.index(ref[j-1])]\n",
    "            distVer = D[i-1,j] + score[alphabet.index(read[i-1])][-1]\n",
    "            distDiag = D[i-1,j-1] + score[alphabet.index(read[i-1])][alphabet.index(ref[j-1])]\n",
    "            D[i][j] = min(distHor, distVer, distDiag)\n",
    "    \n",
    "    # Return min of bottom row\n",
    "    return min(D[-1])"
   ]
  },
  {
   "cell_type": "code",
   "execution_count": 526,
   "metadata": {
    "collapsed": true
   },
   "outputs": [],
   "source": [
    "def calc_aln_delta(read_seq, ref_seq, alt_seq, min_delta=8, offset=None, margin=None):\n",
    "    \"\"\"Calculate difference in score between\n",
    "    a local alignment to the reference sequence\n",
    "    and one to the alternate sequence.\n",
    "    \n",
    "    Returns the difference in score.\n",
    "    If positive, alignment to reference is better\n",
    "    If negative, alignment to alternate is better\n",
    "    If zero, abs(difference) < min_delta\n",
    "    \"\"\"\n",
    "    ref_score = aln_score(read_seq, ref_seq, offset=offset, margin=margin)\n",
    "    alt_score = aln_score(read_seq, alt_seq, offset=offset, margin=margin)\n",
    "    if abs(ref_score - alt_score) < min_delta:\n",
    "        delta = 0\n",
    "    else:\n",
    "        delta = -(ref_score - alt_score)\n",
    "    return delta"
   ]
  },
  {
   "cell_type": "code",
   "execution_count": 527,
   "metadata": {
    "collapsed": false
   },
   "outputs": [
    {
     "name": "stdout",
     "output_type": "stream",
     "text": [
      "CPU times: user 54min 26s, sys: 37.7 s, total: 55min 4s\n",
      "Wall time: 54min 35s\n"
     ]
    }
   ],
   "source": [
    "%%time\n",
    "for i in range(1, MAX_ID+1):\n",
    "    # Iterate over reads\n",
    "    temp = \"reads/reads_{}.txt\"\n",
    "    with open(temp.format(i)) as reads:\n",
    "        ref_count = 0\n",
    "        alt_count = 0\n",
    "        amb_count = 0\n",
    "        indel = indels[i]\n",
    "        ref_seq, alt_seq = indel[\"ref_seq\"], indel[\"alt_seq\"]\n",
    "        ref_idxs = indel[\"ref_idxs\"]\n",
    "        for read in reads:\n",
    "            read = read.rstrip(\"\\n\").replace(\"N\", \"A\")\n",
    "            # Reverse read if applicable\n",
    "            if not is_forward(read, ref_idxs):\n",
    "                read = rev_comp(read)\n",
    "            # Find offset\n",
    "            offset = find_offset(read, ref_idxs, k=K, step=1, ival=IVAL)\n",
    "            # Determine if overlaps with mutation position\n",
    "            if offset and not is_overlap(read, ref_seq, offset, min_olap=2):\n",
    "                continue\n",
    "            # Lower score is better\n",
    "            aln_delta = calc_aln_delta(read, ref_seq, alt_seq)\n",
    "            if aln_delta > 0:\n",
    "                ref_count += 1\n",
    "            elif aln_delta < 0:\n",
    "                alt_count += 1\n",
    "            else:\n",
    "                amb_count += 1\n",
    "        if alt_count + ref_count == 0:\n",
    "            vaf = 0\n",
    "        else:\n",
    "            vaf = round(alt_count/(alt_count + ref_count), 2)\n",
    "        results[indel[\"id\"]][2] = {\n",
    "            \"ref_count\": ref_count,\n",
    "            \"alt_count\": alt_count,\n",
    "            \"amb_count\": amb_count,\n",
    "            \"vaf\": vaf\n",
    "        }"
   ]
  },
  {
   "cell_type": "code",
   "execution_count": 528,
   "metadata": {
    "collapsed": false
   },
   "outputs": [
    {
     "name": "stdout",
     "output_type": "stream",
     "text": [
      "  id  original              kmer                   aln                 seeded_aln    hybrid\n",
      "----  --------------------  ---------------------  ------------------  ------------  ------------\n",
      "   1  (13, 7, 0, 0.35)      (16, 20, 7, 0.56)      (12, 14, 13, 0.54)  (0, 0, 0, 0)  (0, 0, 0, 0)\n",
      "   2  (36, 0, 0, 0.0)       (33, 0, 9, 0.0)        (30, 0, 3, 0.0)     (0, 0, 0, 0)  (0, 0, 0, 0)\n",
      "   3  (30, 0, 0, 0.0)       (30, 0, 4, 0.0)        (27, 0, 3, 0.0)     (0, 0, 0, 0)  (0, 0, 0, 0)\n",
      "   4  (79, 0, 0, 0.0)       (71, 0, 19, 0.0)       (64, 0, 6, 0.0)     (0, 0, 0, 0)  (0, 0, 0, 0)\n",
      "   5  (12, 0, 0, 0.0)       (8, 0, 12, 0.0)        (8, 0, 0, 0.0)      (0, 0, 0, 0)  (0, 0, 0, 0)\n",
      "   6  (11, 0, 0, 0.0)       (11, 0, 5, 0.0)        (10, 0, 0, 0.0)     (0, 0, 0, 0)  (0, 0, 0, 0)\n",
      "   7  (8, 0, 0, 0.0)        (8, 0, 7, 0.0)         (6, 0, 2, 0.0)      (0, 0, 0, 0)  (0, 0, 0, 0)\n",
      "   8  (7, 4, 0, 0.36)       (7, 4, 0, 0.36)        (7, 4, 0, 0.36)     (0, 0, 0, 0)  (0, 0, 0, 0)\n",
      "   9  (11, 0, 0, 0.0)       (10, 0, 4, 0.0)        (6, 0, 4, 0.0)      (0, 0, 0, 0)  (0, 0, 0, 0)\n",
      "  10  (69, 0, 0, 0.0)       (69, 12, 1, 0.15)      (64, 12, 2, 0.16)   (0, 0, 0, 0)  (0, 0, 0, 0)\n",
      "  11  (62, 0, 0, 0.0)       (58, 46, 13, 0.44)     (41, 11, 61, 0.21)  (0, 0, 0, 0)  (0, 0, 0, 0)\n",
      "  12  (21, 0, 0, 0.0)       (17, 3, 3, 0.15)       (14, 0, 8, 0.0)     (0, 0, 0, 0)  (0, 0, 0, 0)\n",
      "  13  (10, 0, 0, 0.0)       (10, 7, 5, 0.41)       (4, 0, 15, 0.0)     (0, 0, 0, 0)  (0, 0, 0, 0)\n",
      "  14  (88, 4, 0, 0.04)      (82, 0, 10, 0.0)       (73, 0, 9, 0.0)     (0, 0, 0, 0)  (0, 0, 0, 0)\n",
      "  15  (85, 4, 0, 0.04)      (76, 0, 14, 0.0)       (71, 0, 10, 0.0)    (0, 0, 0, 0)  (0, 0, 0, 0)\n",
      "  16  (84, 0, 0, 0.0)       (59, 3, 31, 0.05)      (67, 0, 5, 0.0)     (0, 0, 0, 0)  (0, 0, 0, 0)\n",
      "  17  (41, 0, 0, 0.0)       (31, 0, 17, 0.0)       (29, 0, 0, 0.0)     (0, 0, 0, 0)  (0, 0, 0, 0)\n",
      "  18  (35, 2, 0, 0.05)      (31, 0, 13, 0.0)       (28, 0, 0, 0.0)     (0, 0, 0, 0)  (0, 0, 0, 0)\n",
      "  19  (23, 2, 0, 0.08)      (22, 0, 3, 0.0)        (17, 2, 0, 0.11)    (0, 0, 0, 0)  (0, 0, 0, 0)\n",
      "  20  (14, 0, 0, 0.0)       (11, 66, 2, 0.86)      (1, 1, 77, 0.5)     (0, 0, 0, 0)  (0, 0, 0, 0)\n",
      "  21  (10, 4, 0, 0.29)      (7, 4, 3, 0.36)        (7, 4, 2, 0.36)     (0, 0, 0, 0)  (0, 0, 0, 0)\n",
      "  22  (45, 16, 0, 0.26)     (0, 23, 38, 1.0)       (0, 1, 26, 1.0)     (0, 0, 0, 0)  (0, 0, 0, 0)\n",
      "  23  (24, 5, 0, 0.17)      (25, 5, 0, 0.17)       (20, 5, 1, 0.2)     (0, 0, 0, 0)  (0, 0, 0, 0)\n",
      "  24  (13, 0, 0, 0.0)       (29, 0, 6, 0.0)        (29, 0, 0, 0.0)     (0, 0, 0, 0)  (0, 0, 0, 0)\n",
      "  25  (126, 17, 0, 0.12)    (114, 16, 0, 0.12)     (111, 16, 0, 0.13)  (0, 0, 0, 0)  (0, 0, 0, 0)\n",
      "  26  (41, 1, 0, 0.02)      (42, 6, 0, 0.13)       (41, 0, 0, 0.0)     (0, 0, 0, 0)  (0, 0, 0, 0)\n",
      "  27  (7, 0, 0, 0.0)        (6, 10, 2, 0.63)       (6, 8, 4, 0.57)     (0, 0, 0, 0)  (0, 0, 0, 0)\n",
      "  28  (13, 0, 0, 0.0)       (11, 4, 0, 0.27)       (10, 2, 1, 0.17)    (0, 0, 0, 0)  (0, 0, 0, 0)\n",
      "  29  (12, 2, 0, 0.14)      (10, 0, 4, 0.0)        (9, 0, 5, 0.0)      (0, 0, 0, 0)  (0, 0, 0, 0)\n",
      "  30  (10, 0, 0, 0.0)       (10, 0, 4, 0.0)        (9, 0, 5, 0.0)      (0, 0, 0, 0)  (0, 0, 0, 0)\n",
      "  31  (12, 1, 0, 0.08)      (14, 21, 6, 0.6)       (12, 22, 6, 0.65)   (0, 0, 0, 0)  (0, 0, 0, 0)\n",
      "  32  (143, 0, 0, 0.0)      (34, 85, 18, 0.71)     (15, 15, 100, 0.5)  (0, 0, 0, 0)  (0, 0, 0, 0)\n",
      "  33  (23, 3, 0, 0.12)      (19, 3, 2, 0.14)       (19, 3, 2, 0.14)    (0, 0, 0, 0)  (0, 0, 0, 0)\n",
      "  34  (30, 3, 0, 0.09)      (20, 3, 8, 0.13)       (18, 3, 8, 0.14)    (0, 0, 0, 0)  (0, 0, 0, 0)\n",
      "  35  (11, 0, 0, 0.0)       (11, 0, 5, 0.0)        (7, 0, 4, 0.0)      (0, 0, 0, 0)  (0, 0, 0, 0)\n",
      "  36  (47, 33, 0, 0.41)     (46, 31, 2, 0.4)       (45, 31, 2, 0.41)   (0, 0, 0, 0)  (0, 0, 0, 0)\n",
      "  37  (12, 0, 0, 0.0)       (9, 3, 10, 0.25)       (8, 0, 9, 0.0)      (0, 0, 0, 0)  (0, 0, 0, 0)\n",
      "  38  (8, 10, 0, 0.56)      (8, 10, 0, 0.56)       (8, 10, 0, 0.56)    (0, 0, 0, 0)  (0, 0, 0, 0)\n",
      "  39  (107, 0, 0, 0.0)      (98, 75, 3, 0.43)      (95, 74, 2, 0.44)   (0, 0, 0, 0)  (0, 0, 0, 0)\n",
      "  40  (4, 0, 0, 0.0)        (4, 13, 0, 0.76)       (4, 3, 10, 0.43)    (0, 0, 0, 0)  (0, 0, 0, 0)\n",
      "  41  (12, 0, 0, 0.0)       (14, 2, 4, 0.13)       (9, 2, 1, 0.18)     (0, 0, 0, 0)  (0, 0, 0, 0)\n",
      "  42  (9, 0, 0, 0.0)        (10, 3, 6, 0.23)       (8, 0, 3, 0.0)      (0, 0, 0, 0)  (0, 0, 0, 0)\n",
      "  43  (51, 1, 0, 0.02)      (0, 0, 55, 0)          (26, 2, 24, 0.07)   (0, 0, 0, 0)  (0, 0, 0, 0)\n",
      "  44  (41, 0, 0, 0.0)       (131, 0, 8, 0.0)       (123, 0, 2, 0.0)    (0, 0, 0, 0)  (0, 0, 0, 0)\n",
      "  45  (9, 9, 0, 0.5)        (18, 0, 5, 0.0)        (6, 0, 13, 0.0)     (0, 0, 0, 0)  (0, 0, 0, 0)\n",
      "  46  (14, 2, 0, 0.13)      (12, 3, 0, 0.2)        (10, 2, 1, 0.17)    (0, 0, 0, 0)  (0, 0, 0, 0)\n",
      "  47  (28, 1, 0, 0.03)      (27, 0, 7, 0.0)        (25, 0, 2, 0.0)     (0, 0, 0, 0)  (0, 0, 0, 0)\n",
      "  48  (42, 0, 0, 0.0)       (32, 2, 14, 0.06)      (30, 0, 7, 0.0)     (0, 0, 0, 0)  (0, 0, 0, 0)\n",
      "  49  (8, 2, 0, 0.2)        (6, 0, 4, 0.0)         (5, 0, 1, 0.0)      (0, 0, 0, 0)  (0, 0, 0, 0)\n",
      "  50  (19, 0, 0, 0.0)       (14, 0, 3, 0.0)        (14, 0, 0, 0.0)     (0, 0, 0, 0)  (0, 0, 0, 0)\n",
      "  51  (29, 1, 0, 0.03)      (27, 0, 6, 0.0)        (27, 0, 0, 0.0)     (0, 0, 0, 0)  (0, 0, 0, 0)\n",
      "  52  (66, 0, 0, 0.0)       (54, 0, 7, 0.0)        (52, 0, 6, 0.0)     (0, 0, 0, 0)  (0, 0, 0, 0)\n",
      "  53  (12, 2, 0, 0.14)      (10, 2, 2, 0.17)       (3, 0, 10, 0.0)     (0, 0, 0, 0)  (0, 0, 0, 0)\n",
      "  54  (2, 3, 0, 0.6)        (3, 0, 8, 0.0)         (4, 0, 4, 0.0)      (0, 0, 0, 0)  (0, 0, 0, 0)\n",
      "  55  (74, 0, 0, 0.0)       (72, 14, 9, 0.16)      (62, 0, 10, 0.0)    (0, 0, 0, 0)  (0, 0, 0, 0)\n",
      "  56  (90, 0, 0, 0.0)       (86, 0, 16, 0.0)       (83, 0, 4, 0.0)     (0, 0, 0, 0)  (0, 0, 0, 0)\n",
      "  57  (4, 0, 0, 0.0)        (4, 0, 4, 0.0)         (4, 0, 0, 0.0)      (0, 0, 0, 0)  (0, 0, 0, 0)\n",
      "  58  (70, 2, 0, 0.03)      (61, 0, 8, 0.0)        (52, 0, 14, 0.0)    (0, 0, 0, 0)  (0, 0, 0, 0)\n",
      "  59  (37, 0, 0, 0.0)       (29, 3, 2, 0.09)       (29, 3, 0, 0.09)    (0, 0, 0, 0)  (0, 0, 0, 0)\n",
      "  60  (70, 0, 0, 0.0)       (64, 7, 6, 0.1)        (59, 7, 7, 0.11)    (0, 0, 0, 0)  (0, 0, 0, 0)\n",
      "  61  (37, 2, 0, 0.05)      (32, 31, 0, 0.49)      (32, 29, 2, 0.48)   (0, 0, 0, 0)  (0, 0, 0, 0)\n",
      "  62  (20, 0, 0, 0.0)       (17, 0, 3, 0.0)        (17, 0, 1, 0.0)     (0, 0, 0, 0)  (0, 0, 0, 0)\n",
      "  63  (18, 0, 0, 0.0)       (15, 0, 3, 0.0)        (13, 0, 3, 0.0)     (0, 0, 0, 0)  (0, 0, 0, 0)\n",
      "  64  (19, 2, 0, 0.1)       (17, 0, 3, 0.0)        (15, 0, 1, 0.0)     (0, 0, 0, 0)  (0, 0, 0, 0)\n",
      "  65  (21, 0, 0, 0.0)       (17, 0, 3, 0.0)        (17, 0, 3, 0.0)     (0, 0, 0, 0)  (0, 0, 0, 0)\n",
      "  66  (5, 0, 0, 0.0)        (3, 0, 3, 0.0)         (3, 0, 1, 0.0)      (0, 0, 0, 0)  (0, 0, 0, 0)\n",
      "  67  (173, 2, 0, 0.01)     (152, 0, 17, 0.0)      (144, 0, 1, 0.0)    (0, 0, 0, 0)  (0, 0, 0, 0)\n",
      "  68  (37, 4, 0, 0.1)       (37, 2, 13, 0.05)      (35, 0, 4, 0.0)     (0, 0, 0, 0)  (0, 0, 0, 0)\n",
      "  69  (34, 4, 0, 0.11)      (36, 0, 12, 0.0)       (34, 0, 2, 0.0)     (0, 0, 0, 0)  (0, 0, 0, 0)\n",
      "  70  (34, 0, 0, 0.0)       (36, 0, 12, 0.0)       (35, 0, 1, 0.0)     (0, 0, 0, 0)  (0, 0, 0, 0)\n",
      "  71  (7, 2, 0, 0.22)       (6, 2, 6, 0.25)        (2, 0, 1, 0.0)      (0, 0, 0, 0)  (0, 0, 0, 0)\n",
      "  72  (13, 0, 0, 0.0)       (14, 0, 14, 0.0)       (14, 0, 0, 0.0)     (0, 0, 0, 0)  (0, 0, 0, 0)\n",
      "  73  (7, 0, 0, 0.0)        (6, 4, 1, 0.4)         (6, 4, 1, 0.4)      (0, 0, 0, 0)  (0, 0, 0, 0)\n",
      "  74  (21, 4, 0, 0.16)      (4, 0, 23, 0.0)        (4, 0, 0, 0.0)      (0, 0, 0, 0)  (0, 0, 0, 0)\n",
      "  75  (11, 0, 0, 0.0)       (9, 0, 11, 0.0)        (5, 0, 0, 0.0)      (0, 0, 0, 0)  (0, 0, 0, 0)\n",
      "  76  (30, 0, 0, 0.0)       (30, 0, 3, 0.0)        (24, 0, 5, 0.0)     (0, 0, 0, 0)  (0, 0, 0, 0)\n",
      "  77  (19, 0, 0, 0.0)       (19, 0, 3, 0.0)        (17, 0, 0, 0.0)     (0, 0, 0, 0)  (0, 0, 0, 0)\n",
      "  78  (17, 0, 0, 0.0)       (16, 0, 4, 0.0)        (16, 0, 0, 0.0)     (0, 0, 0, 0)  (0, 0, 0, 0)\n",
      "  79  (24, 0, 0, 0.0)       (104, 0, 3, 0.0)       (103, 0, 2, 0.0)    (0, 0, 0, 0)  (0, 0, 0, 0)\n",
      "  80  (0, 25, 0, 1.0)       (44, 4, 7, 0.08)       (41, 0, 8, 0.0)     (0, 0, 0, 0)  (0, 0, 0, 0)\n",
      "  81  (124, 75, 0, 0.38)    (130, 74, 5, 0.36)     (0, 0, 200, 0)      (0, 0, 0, 0)  (0, 0, 0, 0)\n",
      "  82  (1, 28, 0, 0.97)      (0, 20, 14, 1.0)       (0, 0, 17, 0)       (0, 0, 0, 0)  (0, 0, 0, 0)\n",
      "  83  (24, 27, 0, 0.53)     (26, 12, 20, 0.32)     (0, 0, 44, 0)       (0, 0, 0, 0)  (0, 0, 0, 0)\n",
      "  84  (0, 2, 0, 1.0)        (0, 2, 0, 1.0)         (0, 0, 2, 0)        (0, 0, 0, 0)  (0, 0, 0, 0)\n",
      "  85  (68, 2, 0, 0.03)      (120, 42, 2, 0.26)     (0, 0, 159, 0)      (0, 0, 0, 0)  (0, 0, 0, 0)\n",
      "  86  (73, 54, 0, 0.43)     (73, 56, 13, 0.43)     (0, 0, 130, 0)      (0, 0, 0, 0)  (0, 0, 0, 0)\n",
      "  87  (40, 8, 0, 0.17)      (54, 38, 4, 0.41)      (0, 0, 90, 0)       (0, 0, 0, 0)  (0, 0, 0, 0)\n",
      "  88  (494, 14, 0, 0.03)    (904, 21, 63, 0.02)    (0, 0, 927, 0)      (0, 0, 0, 0)  (0, 0, 0, 0)\n",
      "  89  (1095, 75, 0, 0.06)   (1245, 83, 26, 0.06)   (0, 0, 1321, 0)     (0, 0, 0, 0)  (0, 0, 0, 0)\n",
      "  90  (163, 33, 0, 0.17)    (184, 34, 2, 0.16)     (0, 0, 203, 0)      (0, 0, 0, 0)  (0, 0, 0, 0)\n",
      "  91  (282, 69, 0, 0.2)     (425, 77, 8, 0.15)     (0, 0, 472, 0)      (0, 0, 0, 0)  (0, 0, 0, 0)\n",
      "  92  (549, 134, 0, 0.2)    (554, 137, 5, 0.2)     (0, 0, 661, 0)      (0, 0, 0, 0)  (0, 0, 0, 0)\n",
      "  93  (1119, 219, 0, 0.16)  (1136, 221, 11, 0.16)  (0, 0, 1316, 0)     (0, 0, 0, 0)  (0, 0, 0, 0)\n",
      "  94  (1092, 200, 0, 0.15)  (1161, 207, 1, 0.15)   (0, 0, 1326, 0)     (0, 0, 0, 0)  (0, 0, 0, 0)\n",
      "  95  (770, 50, 0, 0.06)    (1071, 111, 30, 0.09)  (0, 0, 1175, 0)     (0, 0, 0, 0)  (0, 0, 0, 0)\n",
      "  96  (19, 10, 0, 0.34)     (26, 13, 4, 0.33)      (0, 0, 36, 0)       (0, 0, 0, 0)  (0, 0, 0, 0)\n",
      "  97  (46, 6, 0, 0.12)      (55, 7, 4, 0.11)       (0, 0, 50, 0)       (0, 0, 0, 0)  (0, 0, 0, 0)\n",
      "  98  (19, 3, 0, 0.14)      (20, 3, 1, 0.13)       (0, 0, 23, 0)       (0, 0, 0, 0)  (0, 0, 0, 0)\n",
      "  99  (22, 3, 0, 0.12)      (21, 3, 1, 0.13)       (0, 0, 24, 0)       (0, 0, 0, 0)  (0, 0, 0, 0)\n",
      " 100  (171, 6, 0, 0.03)     (174, 6, 2, 0.03)      (0, 0, 178, 0)      (0, 0, 0, 0)  (0, 0, 0, 0)\n"
     ]
    }
   ],
   "source": [
    "print(print_results(results, headers=HEADERS))"
   ]
  },
  {
   "cell_type": "markdown",
   "metadata": {
    "collapsed": true
   },
   "source": [
    "# Seeded Alignment Approach"
   ]
  },
  {
   "cell_type": "code",
   "execution_count": 529,
   "metadata": {
    "collapsed": true
   },
   "outputs": [],
   "source": [
    "def find_offset(read, ref_idxs, k, step, ival, min_support=3):\n",
    "    \"\"\"Find offset of pattern p in k-mer index.\n",
    "    \n",
    "    Returns offset as int.\n",
    "    \"\"\"\n",
    "    offset_support = defaultdict(int)\n",
    "    ref_idx = ref_idxs.get_idx(k, step, ival)\n",
    "    for pos, kmer in kmer_iter(read, k, step, ival):\n",
    "        offsets = ref_idx[kmer]\n",
    "        for offset in offsets:\n",
    "            offset_support[offset - pos] += 1\n",
    "        vals = offset_support.values()\n",
    "        if any(map(lambda x: x >= min_support, vals)):\n",
    "            max_support = max(vals)\n",
    "            best_offsets = [offset for offset, support in offset_support.items() if support == max_support]\n",
    "            if len(best_offsets) > 1:\n",
    "                continue\n",
    "            else:\n",
    "                return best_offsets[0]\n",
    "    return None"
   ]
  },
  {
   "cell_type": "code",
   "execution_count": 530,
   "metadata": {
    "collapsed": true
   },
   "outputs": [],
   "source": [
    "def is_overlap(read, ref_seq, offset, min_olap=2):\n",
    "    \"\"\"Returns whether read overlaps with\n",
    "    mutation position.\n",
    "    \"\"\"\n",
    "    mid = len(ref_seq) / 2\n",
    "    return (offset + min_olap <= mid) and (offset + len(read) - min_olap >= mid)"
   ]
  },
  {
   "cell_type": "code",
   "execution_count": 531,
   "metadata": {
    "collapsed": false
   },
   "outputs": [
    {
     "name": "stdout",
     "output_type": "stream",
     "text": [
      "CPU times: user 15min 15s, sys: 5.56 s, total: 15min 21s\n",
      "Wall time: 15min 17s\n"
     ]
    }
   ],
   "source": [
    "%%time\n",
    "for i in range(1, MAX_ID+1):\n",
    "    # Iterate over reads\n",
    "    temp = \"reads/reads_{}.txt\"\n",
    "    with open(temp.format(i)) as reads:\n",
    "        ref_count = 0\n",
    "        alt_count = 0\n",
    "        amb_count = 0\n",
    "        indel = indels[i]\n",
    "        ref_seq, alt_seq = indel[\"ref_seq\"], indel[\"alt_seq\"]\n",
    "        ref_idxs = indel[\"ref_idxs\"]\n",
    "        for read in reads:\n",
    "            read = read.rstrip(\"\\n\").replace(\"N\", \"A\")\n",
    "            # Reverse read if applicable\n",
    "            if not is_forward(read, ref_idxs):\n",
    "                read = rev_comp(read)\n",
    "            # Find offset\n",
    "            offset = find_offset(read, ref_idxs, k=K, step=1, ival=IVAL)\n",
    "            # Determine if overlaps with mutation position\n",
    "            if offset and not is_overlap(read, ref_seq, offset, min_olap=2):\n",
    "                continue\n",
    "            # Estimate appropriate margin (esp. if insertion)\n",
    "            if len(alt_seq) - len(ref_seq) > 0:\n",
    "                margin = len(alt_seq) - len(ref_seq) + 5\n",
    "            else:\n",
    "                margin = 5\n",
    "            aln_delta = calc_aln_delta(read, ref_seq, alt_seq, min_delta=2, offset=offset, margin=margin)\n",
    "            if aln_delta > 0:\n",
    "                ref_count += 1\n",
    "            elif aln_delta < 0:\n",
    "                alt_count += 1\n",
    "            else:\n",
    "                amb_count += 1\n",
    "        if alt_count + ref_count == 0:\n",
    "            vaf = 0\n",
    "        else:\n",
    "            vaf = round(alt_count/(alt_count + ref_count), 2)\n",
    "        results[indel[\"id\"]][3] = {\n",
    "            \"ref_count\": ref_count,\n",
    "            \"alt_count\": alt_count,\n",
    "            \"amb_count\": amb_count,\n",
    "            \"vaf\": vaf\n",
    "        }"
   ]
  },
  {
   "cell_type": "code",
   "execution_count": 532,
   "metadata": {
    "collapsed": false
   },
   "outputs": [
    {
     "name": "stdout",
     "output_type": "stream",
     "text": [
      "  id  original              kmer                   aln                 seeded_aln            hybrid\n",
      "----  --------------------  ---------------------  ------------------  --------------------  ------------\n",
      "   1  (13, 7, 0, 0.35)      (16, 20, 7, 0.56)      (12, 14, 13, 0.54)  (14, 24, 2, 0.63)     (0, 0, 0, 0)\n",
      "   2  (36, 0, 0, 0.0)       (33, 0, 9, 0.0)        (30, 0, 3, 0.0)     (33, 0, 0, 0.0)       (0, 0, 0, 0)\n",
      "   3  (30, 0, 0, 0.0)       (30, 0, 4, 0.0)        (27, 0, 3, 0.0)     (30, 0, 0, 0.0)       (0, 0, 0, 0)\n",
      "   4  (79, 0, 0, 0.0)       (71, 0, 19, 0.0)       (64, 0, 6, 0.0)     (70, 0, 0, 0.0)       (0, 0, 0, 0)\n",
      "   5  (12, 0, 0, 0.0)       (8, 0, 12, 0.0)        (8, 0, 0, 0.0)      (8, 0, 0, 0.0)        (0, 0, 0, 0)\n",
      "   6  (11, 0, 0, 0.0)       (11, 0, 5, 0.0)        (10, 0, 0, 0.0)     (10, 0, 0, 0.0)       (0, 0, 0, 0)\n",
      "   7  (8, 0, 0, 0.0)        (8, 0, 7, 0.0)         (6, 0, 2, 0.0)      (8, 0, 0, 0.0)        (0, 0, 0, 0)\n",
      "   8  (7, 4, 0, 0.36)       (7, 4, 0, 0.36)        (7, 4, 0, 0.36)     (7, 4, 0, 0.36)       (0, 0, 0, 0)\n",
      "   9  (11, 0, 0, 0.0)       (10, 0, 4, 0.0)        (6, 0, 4, 0.0)      (8, 2, 0, 0.2)        (0, 0, 0, 0)\n",
      "  10  (69, 0, 0, 0.0)       (69, 12, 1, 0.15)      (64, 12, 2, 0.16)   (66, 12, 0, 0.15)     (0, 0, 0, 0)\n",
      "  11  (62, 0, 0, 0.0)       (58, 46, 13, 0.44)     (41, 11, 61, 0.21)  (59, 38, 16, 0.39)    (0, 0, 0, 0)\n",
      "  12  (21, 0, 0, 0.0)       (17, 3, 3, 0.15)       (14, 0, 8, 0.0)     (18, 0, 4, 0.0)       (0, 0, 0, 0)\n",
      "  13  (10, 0, 0, 0.0)       (10, 7, 5, 0.41)       (4, 0, 15, 0.0)     (15, 3, 1, 0.17)      (0, 0, 0, 0)\n",
      "  14  (88, 4, 0, 0.04)      (82, 0, 10, 0.0)       (73, 0, 9, 0.0)     (80, 1, 1, 0.01)      (0, 0, 0, 0)\n",
      "  15  (85, 4, 0, 0.04)      (76, 0, 14, 0.0)       (71, 0, 10, 0.0)    (80, 0, 1, 0.0)       (0, 0, 0, 0)\n",
      "  16  (84, 0, 0, 0.0)       (59, 3, 31, 0.05)      (67, 0, 5, 0.0)     (70, 1, 1, 0.01)      (0, 0, 0, 0)\n",
      "  17  (41, 0, 0, 0.0)       (31, 0, 17, 0.0)       (29, 0, 0, 0.0)     (29, 0, 0, 0.0)       (0, 0, 0, 0)\n",
      "  18  (35, 2, 0, 0.05)      (31, 0, 13, 0.0)       (28, 0, 0, 0.0)     (28, 0, 0, 0.0)       (0, 0, 0, 0)\n",
      "  19  (23, 2, 0, 0.08)      (22, 0, 3, 0.0)        (17, 2, 0, 0.11)    (17, 2, 0, 0.11)      (0, 0, 0, 0)\n",
      "  20  (14, 0, 0, 0.0)       (11, 66, 2, 0.86)      (1, 1, 77, 0.5)     (31, 41, 6, 0.57)     (0, 0, 0, 0)\n",
      "  21  (10, 4, 0, 0.29)      (7, 4, 3, 0.36)        (7, 4, 2, 0.36)     (7, 6, 0, 0.46)       (0, 0, 0, 0)\n",
      "  22  (45, 16, 0, 0.26)     (0, 23, 38, 1.0)       (0, 1, 26, 1.0)     (25, 1, 0, 0.04)      (0, 0, 0, 0)\n",
      "  23  (24, 5, 0, 0.17)      (25, 5, 0, 0.17)       (20, 5, 1, 0.2)     (21, 5, 0, 0.19)      (0, 0, 0, 0)\n",
      "  24  (13, 0, 0, 0.0)       (29, 0, 6, 0.0)        (29, 0, 0, 0.0)     (29, 0, 0, 0.0)       (0, 0, 0, 0)\n",
      "  25  (126, 17, 0, 0.12)    (114, 16, 0, 0.12)     (111, 16, 0, 0.13)  (111, 16, 0, 0.13)    (0, 0, 0, 0)\n",
      "  26  (41, 1, 0, 0.02)      (42, 6, 0, 0.13)       (41, 0, 0, 0.0)     (41, 0, 0, 0.0)       (0, 0, 0, 0)\n",
      "  27  (7, 0, 0, 0.0)        (6, 10, 2, 0.63)       (6, 8, 4, 0.57)     (6, 9, 2, 0.6)        (0, 0, 0, 0)\n",
      "  28  (13, 0, 0, 0.0)       (11, 4, 0, 0.27)       (10, 2, 1, 0.17)    (10, 3, 0, 0.23)      (0, 0, 0, 0)\n",
      "  29  (12, 2, 0, 0.14)      (10, 0, 4, 0.0)        (9, 0, 5, 0.0)      (14, 0, 0, 0.0)       (0, 0, 0, 0)\n",
      "  30  (10, 0, 0, 0.0)       (10, 0, 4, 0.0)        (9, 0, 5, 0.0)      (11, 1, 2, 0.08)      (0, 0, 0, 0)\n",
      "  31  (12, 1, 0, 0.08)      (14, 21, 6, 0.6)       (12, 22, 6, 0.65)   (14, 26, 0, 0.65)     (0, 0, 0, 0)\n",
      "  32  (143, 0, 0, 0.0)      (34, 85, 18, 0.71)     (15, 15, 100, 0.5)  (49, 62, 19, 0.56)    (0, 0, 0, 0)\n",
      "  33  (23, 3, 0, 0.12)      (19, 3, 2, 0.14)       (19, 3, 2, 0.14)    (19, 3, 2, 0.14)      (0, 0, 0, 0)\n",
      "  34  (30, 3, 0, 0.09)      (20, 3, 8, 0.13)       (18, 3, 8, 0.14)    (23, 3, 3, 0.12)      (0, 0, 0, 0)\n",
      "  35  (11, 0, 0, 0.0)       (11, 0, 5, 0.0)        (7, 0, 4, 0.0)      (11, 0, 0, 0.0)       (0, 0, 0, 0)\n",
      "  36  (47, 33, 0, 0.41)     (46, 31, 2, 0.4)       (45, 31, 2, 0.41)   (47, 31, 0, 0.4)      (0, 0, 0, 0)\n",
      "  37  (12, 0, 0, 0.0)       (9, 3, 10, 0.25)       (8, 0, 9, 0.0)      (11, 2, 4, 0.15)      (0, 0, 0, 0)\n",
      "  38  (8, 10, 0, 0.56)      (8, 10, 0, 0.56)       (8, 10, 0, 0.56)    (8, 10, 0, 0.56)      (0, 0, 0, 0)\n",
      "  39  (107, 0, 0, 0.0)      (98, 75, 3, 0.43)      (95, 74, 2, 0.44)   (97, 74, 0, 0.43)     (0, 0, 0, 0)\n",
      "  40  (4, 0, 0, 0.0)        (4, 13, 0, 0.76)       (4, 3, 10, 0.43)    (14, 3, 0, 0.18)      (0, 0, 0, 0)\n",
      "  41  (12, 0, 0, 0.0)       (14, 2, 4, 0.13)       (9, 2, 1, 0.18)     (8, 2, 0, 0.2)        (0, 0, 0, 0)\n",
      "  42  (9, 0, 0, 0.0)        (10, 3, 6, 0.23)       (8, 0, 3, 0.0)      (9, 2, 0, 0.18)       (0, 0, 0, 0)\n",
      "  43  (51, 1, 0, 0.02)      (0, 0, 55, 0)          (26, 2, 24, 0.07)   (43, 1, 8, 0.02)      (0, 0, 0, 0)\n",
      "  44  (41, 0, 0, 0.0)       (131, 0, 8, 0.0)       (123, 0, 2, 0.0)    (125, 0, 0, 0.0)      (0, 0, 0, 0)\n",
      "  45  (9, 9, 0, 0.5)        (18, 0, 5, 0.0)        (6, 0, 13, 0.0)     (11, 5, 4, 0.31)      (0, 0, 0, 0)\n",
      "  46  (14, 2, 0, 0.13)      (12, 3, 0, 0.2)        (10, 2, 1, 0.17)    (10, 3, 0, 0.23)      (0, 0, 0, 0)\n",
      "  47  (28, 1, 0, 0.03)      (27, 0, 7, 0.0)        (25, 0, 2, 0.0)     (26, 0, 1, 0.0)       (0, 0, 0, 0)\n",
      "  48  (42, 0, 0, 0.0)       (32, 2, 14, 0.06)      (30, 0, 7, 0.0)     (30, 1, 6, 0.03)      (0, 0, 0, 0)\n",
      "  49  (8, 2, 0, 0.2)        (6, 0, 4, 0.0)         (5, 0, 1, 0.0)      (6, 0, 0, 0.0)        (0, 0, 0, 0)\n",
      "  50  (19, 0, 0, 0.0)       (14, 0, 3, 0.0)        (14, 0, 0, 0.0)     (14, 0, 0, 0.0)       (0, 0, 0, 0)\n",
      "  51  (29, 1, 0, 0.03)      (27, 0, 6, 0.0)        (27, 0, 0, 0.0)     (27, 0, 0, 0.0)       (0, 0, 0, 0)\n",
      "  52  (66, 0, 0, 0.0)       (54, 0, 7, 0.0)        (52, 0, 6, 0.0)     (53, 5, 0, 0.09)      (0, 0, 0, 0)\n",
      "  53  (12, 2, 0, 0.14)      (10, 2, 2, 0.17)       (3, 0, 10, 0.0)     (8, 3, 2, 0.27)       (0, 0, 0, 0)\n",
      "  54  (2, 3, 0, 0.6)        (3, 0, 8, 0.0)         (4, 0, 4, 0.0)      (7, 0, 1, 0.0)        (0, 0, 0, 0)\n",
      "  55  (74, 0, 0, 0.0)       (72, 14, 9, 0.16)      (62, 0, 10, 0.0)    (68, 3, 0, 0.04)      (0, 0, 0, 0)\n",
      "  56  (90, 0, 0, 0.0)       (86, 0, 16, 0.0)       (83, 0, 4, 0.0)     (83, 1, 0, 0.01)      (0, 0, 0, 0)\n",
      "  57  (4, 0, 0, 0.0)        (4, 0, 4, 0.0)         (4, 0, 0, 0.0)      (4, 0, 0, 0.0)        (0, 0, 0, 0)\n",
      "  58  (70, 2, 0, 0.03)      (61, 0, 8, 0.0)        (52, 0, 14, 0.0)    (62, 1, 3, 0.02)      (0, 0, 0, 0)\n",
      "  59  (37, 0, 0, 0.0)       (29, 3, 2, 0.09)       (29, 3, 0, 0.09)    (29, 3, 0, 0.09)      (0, 0, 0, 0)\n",
      "  60  (70, 0, 0, 0.0)       (64, 7, 6, 0.1)        (59, 7, 7, 0.11)    (62, 11, 0, 0.15)     (0, 0, 0, 0)\n",
      "  61  (37, 2, 0, 0.05)      (32, 31, 0, 0.49)      (32, 29, 2, 0.48)   (32, 31, 0, 0.49)     (0, 0, 0, 0)\n",
      "  62  (20, 0, 0, 0.0)       (17, 0, 3, 0.0)        (17, 0, 1, 0.0)     (18, 0, 0, 0.0)       (0, 0, 0, 0)\n",
      "  63  (18, 0, 0, 0.0)       (15, 0, 3, 0.0)        (13, 0, 3, 0.0)     (15, 1, 0, 0.06)      (0, 0, 0, 0)\n",
      "  64  (19, 2, 0, 0.1)       (17, 0, 3, 0.0)        (15, 0, 1, 0.0)     (15, 1, 0, 0.06)      (0, 0, 0, 0)\n",
      "  65  (21, 0, 0, 0.0)       (17, 0, 3, 0.0)        (17, 0, 3, 0.0)     (20, 0, 0, 0.0)       (0, 0, 0, 0)\n",
      "  66  (5, 0, 0, 0.0)        (3, 0, 3, 0.0)         (3, 0, 1, 0.0)      (3, 0, 0, 0.0)        (0, 0, 0, 0)\n",
      "  67  (173, 2, 0, 0.01)     (152, 0, 17, 0.0)      (144, 0, 1, 0.0)    (144, 0, 1, 0.0)      (0, 0, 0, 0)\n",
      "  68  (37, 4, 0, 0.1)       (37, 2, 13, 0.05)      (35, 0, 4, 0.0)     (37, 0, 2, 0.0)       (0, 0, 0, 0)\n",
      "  69  (34, 4, 0, 0.11)      (36, 0, 12, 0.0)       (34, 0, 2, 0.0)     (36, 0, 0, 0.0)       (0, 0, 0, 0)\n",
      "  70  (34, 0, 0, 0.0)       (36, 0, 12, 0.0)       (35, 0, 1, 0.0)     (36, 0, 0, 0.0)       (0, 0, 0, 0)\n",
      "  71  (7, 2, 0, 0.22)       (6, 2, 6, 0.25)        (2, 0, 1, 0.0)      (2, 0, 0, 0.0)        (0, 0, 0, 0)\n",
      "  72  (13, 0, 0, 0.0)       (14, 0, 14, 0.0)       (14, 0, 0, 0.0)     (14, 0, 0, 0.0)       (0, 0, 0, 0)\n",
      "  73  (7, 0, 0, 0.0)        (6, 4, 1, 0.4)         (6, 4, 1, 0.4)      (7, 4, 0, 0.36)       (0, 0, 0, 0)\n",
      "  74  (21, 4, 0, 0.16)      (4, 0, 23, 0.0)        (4, 0, 0, 0.0)      (4, 0, 0, 0.0)        (0, 0, 0, 0)\n",
      "  75  (11, 0, 0, 0.0)       (9, 0, 11, 0.0)        (5, 0, 0, 0.0)      (5, 0, 0, 0.0)        (0, 0, 0, 0)\n",
      "  76  (30, 0, 0, 0.0)       (30, 0, 3, 0.0)        (24, 0, 5, 0.0)     (29, 0, 0, 0.0)       (0, 0, 0, 0)\n",
      "  77  (19, 0, 0, 0.0)       (19, 0, 3, 0.0)        (17, 0, 0, 0.0)     (17, 0, 0, 0.0)       (0, 0, 0, 0)\n",
      "  78  (17, 0, 0, 0.0)       (16, 0, 4, 0.0)        (16, 0, 0, 0.0)     (16, 0, 0, 0.0)       (0, 0, 0, 0)\n",
      "  79  (24, 0, 0, 0.0)       (104, 0, 3, 0.0)       (103, 0, 2, 0.0)    (104, 0, 1, 0.0)      (0, 0, 0, 0)\n",
      "  80  (0, 25, 0, 1.0)       (44, 4, 7, 0.08)       (41, 0, 8, 0.0)     (43, 3, 3, 0.07)      (0, 0, 0, 0)\n",
      "  81  (124, 75, 0, 0.38)    (130, 74, 5, 0.36)     (0, 0, 200, 0)      (130, 70, 0, 0.35)    (0, 0, 0, 0)\n",
      "  82  (1, 28, 0, 0.97)      (0, 20, 14, 1.0)       (0, 0, 17, 0)       (1, 17, 1, 0.94)      (0, 0, 0, 0)\n",
      "  83  (24, 27, 0, 0.53)     (26, 12, 20, 0.32)     (0, 0, 44, 0)       (23, 27, 1, 0.54)     (0, 0, 0, 0)\n",
      "  84  (0, 2, 0, 1.0)        (0, 2, 0, 1.0)         (0, 0, 2, 0)        (0, 2, 0, 1.0)        (0, 0, 0, 0)\n",
      "  85  (68, 2, 0, 0.03)      (120, 42, 2, 0.26)     (0, 0, 159, 0)      (116, 43, 0, 0.27)    (0, 0, 0, 0)\n",
      "  86  (73, 54, 0, 0.43)     (73, 56, 13, 0.43)     (0, 0, 130, 0)      (73, 57, 0, 0.44)     (0, 0, 0, 0)\n",
      "  87  (40, 8, 0, 0.17)      (54, 38, 4, 0.41)      (0, 0, 90, 0)       (50, 40, 0, 0.44)     (0, 0, 0, 0)\n",
      "  88  (494, 14, 0, 0.03)    (904, 21, 63, 0.02)    (0, 0, 927, 0)      (902, 21, 5, 0.02)    (0, 0, 0, 0)\n",
      "  89  (1095, 75, 0, 0.06)   (1245, 83, 26, 0.06)   (0, 0, 1321, 0)     (1233, 85, 3, 0.06)   (0, 0, 0, 0)\n",
      "  90  (163, 33, 0, 0.17)    (184, 34, 2, 0.16)     (0, 0, 203, 0)      (171, 32, 0, 0.16)    (0, 0, 0, 0)\n",
      "  91  (282, 69, 0, 0.2)     (425, 77, 8, 0.15)     (0, 0, 472, 0)      (396, 76, 0, 0.16)    (0, 0, 0, 0)\n",
      "  92  (549, 134, 0, 0.2)    (554, 137, 5, 0.2)     (0, 0, 661, 0)      (524, 137, 0, 0.21)   (0, 0, 0, 0)\n",
      "  93  (1119, 219, 0, 0.16)  (1136, 221, 11, 0.16)  (0, 0, 1316, 0)     (1101, 215, 0, 0.16)  (0, 0, 0, 0)\n",
      "  94  (1092, 200, 0, 0.15)  (1161, 207, 1, 0.15)   (0, 0, 1326, 0)     (1122, 205, 0, 0.15)  (0, 0, 0, 0)\n",
      "  95  (770, 50, 0, 0.06)    (1071, 111, 30, 0.09)  (0, 0, 1175, 0)     (1064, 111, 0, 0.09)  (0, 0, 0, 0)\n",
      "  96  (19, 10, 0, 0.34)     (26, 13, 4, 0.33)      (0, 0, 36, 0)       (23, 13, 0, 0.36)     (0, 0, 0, 0)\n",
      "  97  (46, 6, 0, 0.12)      (55, 7, 4, 0.11)       (0, 0, 50, 0)       (45, 5, 0, 0.1)       (0, 0, 0, 0)\n",
      "  98  (19, 3, 0, 0.14)      (20, 3, 1, 0.13)       (0, 0, 23, 0)       (20, 3, 0, 0.13)      (0, 0, 0, 0)\n",
      "  99  (22, 3, 0, 0.12)      (21, 3, 1, 0.13)       (0, 0, 24, 0)       (21, 3, 0, 0.13)      (0, 0, 0, 0)\n",
      " 100  (171, 6, 0, 0.03)     (174, 6, 2, 0.03)      (0, 0, 178, 0)      (172, 6, 0, 0.03)     (0, 0, 0, 0)\n"
     ]
    }
   ],
   "source": [
    "print(print_results(results, headers=HEADERS))"
   ]
  },
  {
   "cell_type": "markdown",
   "metadata": {},
   "source": [
    "# Hybrid Approach"
   ]
  },
  {
   "cell_type": "code",
   "execution_count": 533,
   "metadata": {
    "collapsed": false
   },
   "outputs": [
    {
     "name": "stdout",
     "output_type": "stream",
     "text": [
      "CPU times: user 25.1 s, sys: 193 ms, total: 25.3 s\n",
      "Wall time: 25.2 s\n"
     ]
    }
   ],
   "source": [
    "%%time\n",
    "for i in range(1, MAX_ID+1):\n",
    "    # Iterate over reads\n",
    "    temp = \"reads/reads_{}.txt\"\n",
    "    with open(temp.format(i)) as reads:\n",
    "        ref_count = 0\n",
    "        alt_count = 0\n",
    "        amb_count = 0\n",
    "        indel = indels[i]\n",
    "        ref_idxs = indel[\"ref_idxs\"]\n",
    "        alt_idxs = indel[\"alt_idxs\"]\n",
    "        # Iterate over reads\n",
    "        for read in reads:\n",
    "            read = read.rstrip(\"\\n\").replace(\"N\", \"A\")\n",
    "            # Reverse read if applicable\n",
    "            if not is_forward(read, ref_idxs):\n",
    "                read = rev_comp(read)\n",
    "            # Find offset\n",
    "            offset = find_offset(read, ref_idxs, k=K, step=1, ival=IVAL)\n",
    "            # Determine if overlaps with mutation position\n",
    "            if offset and not is_overlap(read, ref_seq, offset, min_olap=0):\n",
    "                continue\n",
    "            # Calculate score delta\n",
    "            kmer_delta = calc_kmer_delta(read, ref_idxs, alt_idxs, min_delta=3, max_ival=5)\n",
    "            if kmer_delta > 0:\n",
    "                ref_count += 1\n",
    "            elif kmer_delta < 0:\n",
    "                alt_count += 1\n",
    "            else:\n",
    "                # If k-mer method can't discriminate between ref and alt, use alignment method\n",
    "                # Estimate appropriate margin (esp. if insertion)\n",
    "                if len(alt_seq) - len(ref_seq) > 0:\n",
    "                    margin = len(alt_seq) - len(ref_seq) + 5\n",
    "                else:\n",
    "                    margin = 5\n",
    "                aln_delta = calc_aln_delta(read, ref_seq, alt_seq, min_delta=2, offset=offset, margin=margin)\n",
    "                if aln_delta > 0:\n",
    "                    ref_count += 1\n",
    "                elif aln_delta < 0:\n",
    "                    alt_count += 1\n",
    "                else:\n",
    "                    amb_count += 1\n",
    "        vaf = round(alt_count/(alt_count + ref_count), 2)\n",
    "        results[indel[\"id\"]][4] = {\n",
    "            \"ref_count\": ref_count,\n",
    "            \"alt_count\": alt_count,\n",
    "            \"amb_count\": amb_count,\n",
    "            \"vaf\": vaf\n",
    "        }"
   ]
  },
  {
   "cell_type": "code",
   "execution_count": 534,
   "metadata": {
    "collapsed": false
   },
   "outputs": [
    {
     "name": "stdout",
     "output_type": "stream",
     "text": [
      "  id  original              kmer                   aln                 seeded_aln            hybrid\n",
      "----  --------------------  ---------------------  ------------------  --------------------  --------------------\n",
      "   1  (13, 7, 0, 0.35)      (16, 20, 7, 0.56)      (12, 14, 13, 0.54)  (14, 24, 2, 0.63)     (27, 13, 1, 0.33)\n",
      "   2  (36, 0, 0, 0.0)       (33, 0, 9, 0.0)        (30, 0, 3, 0.0)     (33, 0, 0, 0.0)       (33, 0, 5, 0.0)\n",
      "   3  (30, 0, 0, 0.0)       (30, 0, 4, 0.0)        (27, 0, 3, 0.0)     (30, 0, 0, 0.0)       (30, 0, 0, 0.0)\n",
      "   4  (79, 0, 0, 0.0)       (71, 0, 19, 0.0)       (64, 0, 6, 0.0)     (70, 0, 0, 0.0)       (73, 0, 7, 0.0)\n",
      "   5  (12, 0, 0, 0.0)       (8, 0, 12, 0.0)        (8, 0, 0, 0.0)      (8, 0, 0, 0.0)        (8, 0, 0, 0.0)\n",
      "   6  (11, 0, 0, 0.0)       (11, 0, 5, 0.0)        (10, 0, 0, 0.0)     (10, 0, 0, 0.0)       (11, 0, 0, 0.0)\n",
      "   7  (8, 0, 0, 0.0)        (8, 0, 7, 0.0)         (6, 0, 2, 0.0)      (8, 0, 0, 0.0)        (8, 0, 2, 0.0)\n",
      "   8  (7, 4, 0, 0.36)       (7, 4, 0, 0.36)        (7, 4, 0, 0.36)     (7, 4, 0, 0.36)       (7, 4, 0, 0.36)\n",
      "   9  (11, 0, 0, 0.0)       (10, 0, 4, 0.0)        (6, 0, 4, 0.0)      (8, 2, 0, 0.2)        (11, 0, 1, 0.0)\n",
      "  10  (69, 0, 0, 0.0)       (69, 12, 1, 0.15)      (64, 12, 2, 0.16)   (66, 12, 0, 0.15)     (70, 12, 0, 0.15)\n",
      "  11  (62, 0, 0, 0.0)       (58, 46, 13, 0.44)     (41, 11, 61, 0.21)  (59, 38, 16, 0.39)    (102, 15, 0, 0.13)\n",
      "  12  (21, 0, 0, 0.0)       (17, 3, 3, 0.15)       (14, 0, 8, 0.0)     (18, 0, 4, 0.0)       (19, 3, 0, 0.14)\n",
      "  13  (10, 0, 0, 0.0)       (10, 7, 5, 0.41)       (4, 0, 15, 0.0)     (15, 3, 1, 0.17)      (19, 1, 0, 0.05)\n",
      "  14  (88, 4, 0, 0.04)      (82, 0, 10, 0.0)       (73, 0, 9, 0.0)     (80, 1, 1, 0.01)      (86, 0, 0, 0.0)\n",
      "  15  (85, 4, 0, 0.04)      (76, 0, 14, 0.0)       (71, 0, 10, 0.0)    (80, 0, 1, 0.0)       (81, 0, 3, 0.0)\n",
      "  16  (84, 0, 0, 0.0)       (59, 3, 31, 0.05)      (67, 0, 5, 0.0)     (70, 1, 1, 0.01)      (72, 0, 4, 0.0)\n",
      "  17  (41, 0, 0, 0.0)       (31, 0, 17, 0.0)       (29, 0, 0, 0.0)     (29, 0, 0, 0.0)       (31, 6, 0, 0.16)\n",
      "  18  (35, 2, 0, 0.05)      (31, 0, 13, 0.0)       (28, 0, 0, 0.0)     (28, 0, 0, 0.0)       (30, 0, 2, 0.0)\n",
      "  19  (23, 2, 0, 0.08)      (22, 0, 3, 0.0)        (17, 2, 0, 0.11)    (17, 2, 0, 0.11)      (22, 0, 0, 0.0)\n",
      "  20  (14, 0, 0, 0.0)       (11, 66, 2, 0.86)      (1, 1, 77, 0.5)     (31, 41, 6, 0.57)     (16, 63, 0, 0.8)\n",
      "  21  (10, 4, 0, 0.29)      (7, 4, 3, 0.36)        (7, 4, 2, 0.36)     (7, 6, 0, 0.46)       (7, 6, 1, 0.46)\n",
      "  22  (45, 16, 0, 0.26)     (0, 23, 38, 1.0)       (0, 1, 26, 1.0)     (25, 1, 0, 0.04)      (4, 4, 20, 0.5)\n",
      "  23  (24, 5, 0, 0.17)      (25, 5, 0, 0.17)       (20, 5, 1, 0.2)     (21, 5, 0, 0.19)      (22, 5, 0, 0.19)\n",
      "  24  (13, 0, 0, 0.0)       (29, 0, 6, 0.0)        (29, 0, 0, 0.0)     (29, 0, 0, 0.0)       (29, 0, 0, 0.0)\n",
      "  25  (126, 17, 0, 0.12)    (114, 16, 0, 0.12)     (111, 16, 0, 0.13)  (111, 16, 0, 0.13)    (114, 16, 0, 0.12)\n",
      "  26  (41, 1, 0, 0.02)      (42, 6, 0, 0.13)       (41, 0, 0, 0.0)     (41, 0, 0, 0.0)       (41, 0, 0, 0.0)\n",
      "  27  (7, 0, 0, 0.0)        (6, 10, 2, 0.63)       (6, 8, 4, 0.57)     (6, 9, 2, 0.6)        (12, 6, 0, 0.33)\n",
      "  28  (13, 0, 0, 0.0)       (11, 4, 0, 0.27)       (10, 2, 1, 0.17)    (10, 3, 0, 0.23)      (11, 3, 0, 0.21)\n",
      "  29  (12, 2, 0, 0.14)      (10, 0, 4, 0.0)        (9, 0, 5, 0.0)      (14, 0, 0, 0.0)       (14, 0, 0, 0.0)\n",
      "  30  (10, 0, 0, 0.0)       (10, 0, 4, 0.0)        (9, 0, 5, 0.0)      (11, 1, 2, 0.08)      (14, 0, 0, 0.0)\n",
      "  31  (12, 1, 0, 0.08)      (14, 21, 6, 0.6)       (12, 22, 6, 0.65)   (14, 26, 0, 0.65)     (33, 8, 0, 0.2)\n",
      "  32  (143, 0, 0, 0.0)      (34, 85, 18, 0.71)     (15, 15, 100, 0.5)  (49, 62, 19, 0.56)    (128, 3, 0, 0.02)\n",
      "  33  (23, 3, 0, 0.12)      (19, 3, 2, 0.14)       (19, 3, 2, 0.14)    (19, 3, 2, 0.14)      (21, 3, 0, 0.13)\n",
      "  34  (30, 3, 0, 0.09)      (20, 3, 8, 0.13)       (18, 3, 8, 0.14)    (23, 3, 3, 0.12)      (25, 3, 3, 0.11)\n",
      "  35  (11, 0, 0, 0.0)       (11, 0, 5, 0.0)        (7, 0, 4, 0.0)      (11, 0, 0, 0.0)       (13, 0, 0, 0.0)\n",
      "  36  (47, 33, 0, 0.41)     (46, 31, 2, 0.4)       (45, 31, 2, 0.41)   (47, 31, 0, 0.4)      (46, 31, 2, 0.4)\n",
      "  37  (12, 0, 0, 0.0)       (9, 3, 10, 0.25)       (8, 0, 9, 0.0)      (11, 2, 4, 0.15)      (14, 3, 3, 0.18)\n",
      "  38  (8, 10, 0, 0.56)      (8, 10, 0, 0.56)       (8, 10, 0, 0.56)    (8, 10, 0, 0.56)      (8, 10, 0, 0.56)\n",
      "  39  (107, 0, 0, 0.0)      (98, 75, 3, 0.43)      (95, 74, 2, 0.44)   (97, 74, 0, 0.43)     (98, 78, 0, 0.44)\n",
      "  40  (4, 0, 0, 0.0)        (4, 13, 0, 0.76)       (4, 3, 10, 0.43)    (14, 3, 0, 0.18)      (4, 13, 0, 0.76)\n",
      "  41  (12, 0, 0, 0.0)       (14, 2, 4, 0.13)       (9, 2, 1, 0.18)     (8, 2, 0, 0.2)        (13, 0, 0, 0.0)\n",
      "  42  (9, 0, 0, 0.0)        (10, 3, 6, 0.23)       (8, 0, 3, 0.0)      (9, 2, 0, 0.18)       (10, 1, 0, 0.09)\n",
      "  43  (51, 1, 0, 0.02)      (0, 0, 55, 0)          (26, 2, 24, 0.07)   (43, 1, 8, 0.02)      (7, 34, 11, 0.83)\n",
      "  44  (41, 0, 0, 0.0)       (131, 0, 8, 0.0)       (123, 0, 2, 0.0)    (125, 0, 0, 0.0)      (131, 0, 5, 0.0)\n",
      "  45  (9, 9, 0, 0.5)        (18, 0, 5, 0.0)        (6, 0, 13, 0.0)     (11, 5, 4, 0.31)      (20, 0, 0, 0.0)\n",
      "  46  (14, 2, 0, 0.13)      (12, 3, 0, 0.2)        (10, 2, 1, 0.17)    (10, 3, 0, 0.23)      (14, 0, 0, 0.0)\n",
      "  47  (28, 1, 0, 0.03)      (27, 0, 7, 0.0)        (25, 0, 2, 0.0)     (26, 0, 1, 0.0)       (31, 0, 0, 0.0)\n",
      "  48  (42, 0, 0, 0.0)       (32, 2, 14, 0.06)      (30, 0, 7, 0.0)     (30, 1, 6, 0.03)      (37, 2, 0, 0.05)\n",
      "  49  (8, 2, 0, 0.2)        (6, 0, 4, 0.0)         (5, 0, 1, 0.0)      (6, 0, 0, 0.0)        (6, 0, 0, 0.0)\n",
      "  50  (19, 0, 0, 0.0)       (14, 0, 3, 0.0)        (14, 0, 0, 0.0)     (14, 0, 0, 0.0)       (14, 0, 0, 0.0)\n",
      "  51  (29, 1, 0, 0.03)      (27, 0, 6, 0.0)        (27, 0, 0, 0.0)     (27, 0, 0, 0.0)       (27, 0, 0, 0.0)\n",
      "  52  (66, 0, 0, 0.0)       (54, 0, 7, 0.0)        (52, 0, 6, 0.0)     (53, 5, 0, 0.09)      (60, 0, 0, 0.0)\n",
      "  53  (12, 2, 0, 0.14)      (10, 2, 2, 0.17)       (3, 0, 10, 0.0)     (8, 3, 2, 0.27)       (13, 0, 1, 0.0)\n",
      "  54  (2, 3, 0, 0.6)        (3, 0, 8, 0.0)         (4, 0, 4, 0.0)      (7, 0, 1, 0.0)        (7, 0, 1, 0.0)\n",
      "  55  (74, 0, 0, 0.0)       (72, 14, 9, 0.16)      (62, 0, 10, 0.0)    (68, 3, 0, 0.04)      (74, 0, 3, 0.0)\n",
      "  56  (90, 0, 0, 0.0)       (86, 0, 16, 0.0)       (83, 0, 4, 0.0)     (83, 1, 0, 0.01)      (91, 0, 0, 0.0)\n",
      "  57  (4, 0, 0, 0.0)        (4, 0, 4, 0.0)         (4, 0, 0, 0.0)      (4, 0, 0, 0.0)        (4, 0, 0, 0.0)\n",
      "  58  (70, 2, 0, 0.03)      (61, 0, 8, 0.0)        (52, 0, 14, 0.0)    (62, 1, 3, 0.02)      (68, 0, 0, 0.0)\n",
      "  59  (37, 0, 0, 0.0)       (29, 3, 2, 0.09)       (29, 3, 0, 0.09)    (29, 3, 0, 0.09)      (34, 0, 0, 0.0)\n",
      "  60  (70, 0, 0, 0.0)       (64, 7, 6, 0.1)        (59, 7, 7, 0.11)    (62, 11, 0, 0.15)     (68, 7, 0, 0.09)\n",
      "  61  (37, 2, 0, 0.05)      (32, 31, 0, 0.49)      (32, 29, 2, 0.48)   (32, 31, 0, 0.49)     (32, 31, 0, 0.49)\n",
      "  62  (20, 0, 0, 0.0)       (17, 0, 3, 0.0)        (17, 0, 1, 0.0)     (18, 0, 0, 0.0)       (18, 0, 0, 0.0)\n",
      "  63  (18, 0, 0, 0.0)       (15, 0, 3, 0.0)        (13, 0, 3, 0.0)     (15, 1, 0, 0.06)      (16, 0, 0, 0.0)\n",
      "  64  (19, 2, 0, 0.1)       (17, 0, 3, 0.0)        (15, 0, 1, 0.0)     (15, 1, 0, 0.06)      (18, 0, 2, 0.0)\n",
      "  65  (21, 0, 0, 0.0)       (17, 0, 3, 0.0)        (17, 0, 3, 0.0)     (20, 0, 0, 0.0)       (20, 0, 0, 0.0)\n",
      "  66  (5, 0, 0, 0.0)        (3, 0, 3, 0.0)         (3, 0, 1, 0.0)      (3, 0, 0, 0.0)        (5, 0, 0, 0.0)\n",
      "  67  (173, 2, 0, 0.01)     (152, 0, 17, 0.0)      (144, 0, 1, 0.0)    (144, 0, 1, 0.0)      (151, 0, 11, 0.0)\n",
      "  68  (37, 4, 0, 0.1)       (37, 2, 13, 0.05)      (35, 0, 4, 0.0)     (37, 0, 2, 0.0)       (39, 0, 1, 0.0)\n",
      "  69  (34, 4, 0, 0.11)      (36, 0, 12, 0.0)       (34, 0, 2, 0.0)     (36, 0, 0, 0.0)       (36, 0, 0, 0.0)\n",
      "  70  (34, 0, 0, 0.0)       (36, 0, 12, 0.0)       (35, 0, 1, 0.0)     (36, 0, 0, 0.0)       (36, 0, 0, 0.0)\n",
      "  71  (7, 2, 0, 0.22)       (6, 2, 6, 0.25)        (2, 0, 1, 0.0)      (2, 0, 0, 0.0)        (6, 2, 0, 0.25)\n",
      "  72  (13, 0, 0, 0.0)       (14, 0, 14, 0.0)       (14, 0, 0, 0.0)     (14, 0, 0, 0.0)       (14, 0, 0, 0.0)\n",
      "  73  (7, 0, 0, 0.0)        (6, 4, 1, 0.4)         (6, 4, 1, 0.4)      (7, 4, 0, 0.36)       (7, 4, 0, 0.36)\n",
      "  74  (21, 4, 0, 0.16)      (4, 0, 23, 0.0)        (4, 0, 0, 0.0)      (4, 0, 0, 0.0)        (4, 0, 0, 0.0)\n",
      "  75  (11, 0, 0, 0.0)       (9, 0, 11, 0.0)        (5, 0, 0, 0.0)      (5, 0, 0, 0.0)        (9, 0, 0, 0.0)\n",
      "  76  (30, 0, 0, 0.0)       (30, 0, 3, 0.0)        (24, 0, 5, 0.0)     (29, 0, 0, 0.0)       (30, 0, 0, 0.0)\n",
      "  77  (19, 0, 0, 0.0)       (19, 0, 3, 0.0)        (17, 0, 0, 0.0)     (17, 0, 0, 0.0)       (19, 0, 0, 0.0)\n",
      "  78  (17, 0, 0, 0.0)       (16, 0, 4, 0.0)        (16, 0, 0, 0.0)     (16, 0, 0, 0.0)       (17, 0, 0, 0.0)\n",
      "  79  (24, 0, 0, 0.0)       (104, 0, 3, 0.0)       (103, 0, 2, 0.0)    (104, 0, 1, 0.0)      (105, 0, 0, 0.0)\n",
      "  80  (0, 25, 0, 1.0)       (44, 4, 7, 0.08)       (41, 0, 8, 0.0)     (43, 3, 3, 0.07)      (50, 0, 1, 0.0)\n",
      "  81  (124, 75, 0, 0.38)    (130, 74, 5, 0.36)     (0, 0, 200, 0)      (130, 70, 0, 0.35)    (130, 71, 8, 0.35)\n",
      "  82  (1, 28, 0, 0.97)      (0, 20, 14, 1.0)       (0, 0, 17, 0)       (1, 17, 1, 0.94)      (12, 5, 4, 0.29)\n",
      "  83  (24, 27, 0, 0.53)     (26, 12, 20, 0.32)     (0, 0, 44, 0)       (23, 27, 1, 0.54)     (41, 8, 1, 0.16)\n",
      "  84  (0, 2, 0, 1.0)        (0, 2, 0, 1.0)         (0, 0, 2, 0)        (0, 2, 0, 1.0)        (0, 2, 0, 1.0)\n",
      "  85  (68, 2, 0, 0.03)      (120, 42, 2, 0.26)     (0, 0, 159, 0)      (116, 43, 0, 0.27)    (125, 39, 0, 0.24)\n",
      "  86  (73, 54, 0, 0.43)     (73, 56, 13, 0.43)     (0, 0, 130, 0)      (73, 57, 0, 0.44)     (89, 51, 2, 0.36)\n",
      "  87  (40, 8, 0, 0.17)      (54, 38, 4, 0.41)      (0, 0, 90, 0)       (50, 40, 0, 0.44)     (61, 34, 1, 0.36)\n",
      "  88  (494, 14, 0, 0.03)    (904, 21, 63, 0.02)    (0, 0, 927, 0)      (902, 21, 5, 0.02)    (944, 21, 19, 0.02)\n",
      "  89  (1095, 75, 0, 0.06)   (1245, 83, 26, 0.06)   (0, 0, 1321, 0)     (1233, 85, 3, 0.06)   (1271, 82, 1, 0.06)\n",
      "  90  (163, 33, 0, 0.17)    (184, 34, 2, 0.16)     (0, 0, 203, 0)      (171, 32, 0, 0.16)    (186, 34, 0, 0.15)\n",
      "  91  (282, 69, 0, 0.2)     (425, 77, 8, 0.15)     (0, 0, 472, 0)      (396, 76, 0, 0.16)    (433, 77, 0, 0.15)\n",
      "  92  (549, 134, 0, 0.2)    (554, 137, 5, 0.2)     (0, 0, 661, 0)      (524, 137, 0, 0.21)   (558, 137, 1, 0.2)\n",
      "  93  (1119, 219, 0, 0.16)  (1136, 221, 11, 0.16)  (0, 0, 1316, 0)     (1101, 215, 0, 0.16)  (1153, 215, 0, 0.16)\n",
      "  94  (1092, 200, 0, 0.15)  (1161, 207, 1, 0.15)   (0, 0, 1326, 0)     (1122, 205, 0, 0.15)  (1163, 205, 1, 0.15)\n",
      "  95  (770, 50, 0, 0.06)    (1071, 111, 30, 0.09)  (0, 0, 1175, 0)     (1064, 111, 0, 0.09)  (1093, 111, 7, 0.09)\n",
      "  96  (19, 10, 0, 0.34)     (26, 13, 4, 0.33)      (0, 0, 36, 0)       (23, 13, 0, 0.36)     (33, 8, 0, 0.2)\n",
      "  97  (46, 6, 0, 0.12)      (55, 7, 4, 0.11)       (0, 0, 50, 0)       (45, 5, 0, 0.1)       (61, 4, 0, 0.06)\n",
      "  98  (19, 3, 0, 0.14)      (20, 3, 1, 0.13)       (0, 0, 23, 0)       (20, 3, 0, 0.13)      (20, 3, 1, 0.13)\n",
      "  99  (22, 3, 0, 0.12)      (21, 3, 1, 0.13)       (0, 0, 24, 0)       (21, 3, 0, 0.13)      (21, 3, 1, 0.13)\n",
      " 100  (171, 6, 0, 0.03)     (174, 6, 2, 0.03)      (0, 0, 178, 0)      (172, 6, 0, 0.03)     (176, 6, 0, 0.03)\n"
     ]
    }
   ],
   "source": [
    "print(print_results(results, headers=HEADERS))"
   ]
  },
  {
   "cell_type": "markdown",
   "metadata": {},
   "source": [
    "# BWA Approach"
   ]
  },
  {
   "cell_type": "markdown",
   "metadata": {},
   "source": [
    "**Note:** This method requires `bwa` and `samtools` to be installed in PATH."
   ]
  },
  {
   "cell_type": "code",
   "execution_count": 535,
   "metadata": {
    "collapsed": true
   },
   "outputs": [],
   "source": [
    "import os\n",
    "import subprocess\n",
    "def bwa_index(name, ref_seq, alt_seq):\n",
    "    # Create directory and FASTA file\n",
    "    try:\n",
    "        os.mkdir(\"bams/{}\".format(name))\n",
    "    except OSError:\n",
    "        pass\n",
    "    with open(\"bams/{}/genome.fa\".format(name), \"w\") as fasta:\n",
    "        fasta.write(\">ref_allele\\n{}\\n>alt_allele\\n{}\\n\".format(ref_seq, alt_seq))\n",
    "    # Index FASTA file\n",
    "    output = subprocess.check_output([\"bwa\", \"index\", \"bams/{}/genome.fa\".format(name)])\n",
    "    return output"
   ]
  },
  {
   "cell_type": "code",
   "execution_count": 536,
   "metadata": {
    "collapsed": false
   },
   "outputs": [],
   "source": [
    "def bwa_mem(name, reads):\n",
    "    # Create FASTQ file\n",
    "    with open(\"bams/{}/reads.fa\".format(name), \"w\") as fasta:\n",
    "        for i, read in enumerate(reads, 1):\n",
    "            fasta.write(\">read_{}\\n{}\\n\".format(i, read))\n",
    "    # Call BWA MEM\n",
    "    output = subprocess.check_output(\"bwa mem bams/{0}/genome.fa bams/{0}/reads.fa | \"\n",
    "                                     \"samtools view -bS - > bams/{0}/{0}.bam\".format(name), shell=True)\n",
    "    return output"
   ]
  },
  {
   "cell_type": "code",
   "execution_count": 537,
   "metadata": {
    "collapsed": true
   },
   "outputs": [],
   "source": [
    "def sort_and_index(name):\n",
    "    # Sort BAM file\n",
    "    output = subprocess.check_output(\"samtools sort bams/{0}/{0}.bam bams/{0}/{0}.sort\".format(name), shell=True)\n",
    "    # Index sorted BAM file\n",
    "    output = subprocess.check_output(\"samtools index bams/{0}/{0}.sort.bam\".format(name), shell=True)"
   ]
  },
  {
   "cell_type": "code",
   "execution_count": 538,
   "metadata": {
    "collapsed": false
   },
   "outputs": [
    {
     "name": "stdout",
     "output_type": "stream",
     "text": [
      "CPU times: user 148 ms, sys: 670 ms, total: 818 ms\n",
      "Wall time: 4.49 s\n"
     ]
    }
   ],
   "source": [
    "%%time\n",
    "for i in range(1, MAX_ID+1):\n",
    "    # Iterate over reads\n",
    "    temp = \"reads/reads_{}.txt\"\n",
    "    with open(temp.format(i)) as reads:\n",
    "        ref_count = 0\n",
    "        alt_count = 0\n",
    "        amb_count = 0\n",
    "        indel = indels[i]\n",
    "        ref_seq = indel[\"ref_seq\"]\n",
    "        alt_seq = indel[\"alt_seq\"]\n",
    "        ref_idxs = indel[\"ref_idxs\"]\n",
    "        alt_idxs = indel[\"alt_idxs\"]\n",
    "        name = \"indel_{}\".format(str(i))\n",
    "        try:\n",
    "            os.mkdir(\"bams\")\n",
    "        except OSError:\n",
    "            pass\n",
    "        # Index reference\n",
    "        bwa_index(name, ref_seq, alt_seq)\n",
    "        # Align reads\n",
    "        reads = [read.rstrip(\"\\n\") for read in reads]\n",
    "        bwa_mem(name, reads)\n",
    "        # Sort and index BAM file\n",
    "        sort_and_index(name)"
   ]
  },
  {
   "cell_type": "code",
   "execution_count": null,
   "metadata": {
    "collapsed": true
   },
   "outputs": [],
   "source": []
  }
 ],
 "metadata": {
  "kernelspec": {
   "display_name": "Python 2",
   "language": "python",
   "name": "python2"
  },
  "language_info": {
   "codemirror_mode": {
    "name": "ipython",
    "version": 2
   },
   "file_extension": ".py",
   "mimetype": "text/x-python",
   "name": "python",
   "nbconvert_exporter": "python",
   "pygments_lexer": "ipython2",
   "version": "2.7.10"
  }
 },
 "nbformat": 4,
 "nbformat_minor": 0
}
