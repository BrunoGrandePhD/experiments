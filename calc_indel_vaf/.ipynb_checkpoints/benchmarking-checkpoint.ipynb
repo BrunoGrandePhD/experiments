{
 "cells": [
  {
   "cell_type": "markdown",
   "metadata": {},
   "source": [
    "# Setting some variables"
   ]
  },
  {
   "cell_type": "code",
   "execution_count": 193,
   "metadata": {
    "collapsed": true
   },
   "outputs": [],
   "source": [
    "from __future__ import print_function\n",
    "from __future__ import division"
   ]
  },
  {
   "cell_type": "code",
   "execution_count": 194,
   "metadata": {
    "collapsed": true
   },
   "outputs": [],
   "source": [
    "ref_seq = \"CTTACAATAGAGCTAAGGTAGTACTTTACCAAAAATGGTTTTGATTTAAGGTAAAATCATACCTCATCAACTTGAGTTTTATTTACCTAAGGACCAAAAGAAGAAAAAGCCTGGTTACAAATAGTTTCTTCTATACCCAGGTCAGTGGTTCTTAAAAGTGGTTTTAGTACCCACAGCATCAGCATAATTTGTGAATGTGTTAGGAAGTCAAATTCGTGGGTCCCACCCCGACCTAAACGGAATCAGAATCTCTGGGGATAGGGCCCAGAAACGAGTTCTCTGTTGATTGTCATGAACTTTAAAGGTTGTGAACCACTGACTTAAACAATTGAGGAACATTAAGGAACTTAACAGTATATTCTCTCAATAAAATGTTTGATTATTCTTACTAGCCCCTTAGGATAGTTACCAAAACAAAACTACTAATTTATACTCTTTTAAAACTACAAGTTGCCTGTGTTATGTAGGAGAGATATAAGATTGTGAAATTTTCCAAAAATACCTGCCACACCCCTAACAGACAGGAGATGATAAGAGTAAAAGAGAGAATTGGGAGGCTTTAGAAGCCCTATTGTAATATTTCTTAAAACACATTATTTATTGCTAAATATATTTAGTGTGAGCCATGTAAAAATTGCCATTTTTGGAGGTCAAAAACCGTTGAATATCAGCAATTTAGTATGGTTCAATTTATGTGGTTTCTAATCAAATGTACAAAGTACAATAATTTGGTTTCATACTTGATTTTTTATTTCTTAGGCTGAGTCATTAAAAGTTGATCAGTGATATATGGCAAAATTATTTAAAGTGCTTGAGGAATTGGGGAGACTTGCTGCTTATGTGATCAGATATACAAAAATAAAGTTTTTCATTTCATTAAATATTTGATTAAAACTGCTAAGTTTGAAAATGTTTACCAAGAAATAGTTTTCAGAAATTTTGCTAACTTGATAAAGGCTTTTGAGCAATATCTTTCAGACTTTTTACTAATTAAATAGGGA\"\n",
    "alt_seq = \"CTTACAATAGAGCTAAGGTAGTACTTTACCAAAAATGGTTTTGATTTAAGGTAAAATCATACCTCATCAACTTGAGTTTTATTTACCTAAGGACCAAAAGAAGAAAAAGCCTGGTTACAAATAGTTTCTTCTATACCCAGGTCAGTGGTTCTTAAAAGTGGTTTTAGTACCCACAGCATCAGCATAATTTGTGAATGTGTTAGGAAGTCAAATTCGTGGGTCCCACCCCGACCTAAACGGAATCAGAATCTCTGGGGATAGGGCCCAGAAACGAGTTCTCTGTTGATTGTCATGAACTTTAAAGGTTGTGAACCACTGACTTAAACAATTGAGGAACATTAAGGAACTTAACAGTATATTCTCTCAATAAAATGTTTGATTATTCTTACTAGCCCCTTAGGATAGTTACCAAAACAAAACTACTAATTTATACTCTTTTAAAACTACAAGTTGCCTGTGTTATGTAGGAGAGATATAAGATTGTGAAATTTTCCAAAAATACCCCTGCCACACCCCTAACAGACAGGAGATGATAAGAGTAAAAGAGAGAATTGGGAGGCTTTAGAAGCCCTATTGTAATATTTCTTAAAACACATTATTTATTGCTAAATATATTTAGTGTGAGCCATGTAAAAATTGCCATTTTTGGAGGTCAAAAACCGTTGAATATCAGCAATTTAGTATGGTTCAATTTATGTGGTTTCTAATCAAATGTACAAAGTACAATAATTTGGTTTCATACTTGATTTTTTATTTCTTAGGCTGAGTCATTAAAAGTTGATCAGTGATATATGGCAAAATTATTTAAAGTGCTTGAGGAATTGGGGAGACTTGCTGCTTATGTGATCAGATATACAAAAATAAAGTTTTTCATTTCATTAAATATTTGATTAAAACTGCTAAGTTTGAAAATGTTTACCAAGAAATAGTTTTCAGAAATTTTGCTAACTTGATAAAGGCTTTTGAGCAATATCTTTCAGACTTTTTACTAATTAAATAGGGA\""
   ]
  },
  {
   "cell_type": "code",
   "execution_count": 195,
   "metadata": {
    "collapsed": true
   },
   "outputs": [],
   "source": [
    "infile = \"reads.txt\""
   ]
  },
  {
   "cell_type": "markdown",
   "metadata": {},
   "source": [
    "# K-mer approach"
   ]
  },
  {
   "cell_type": "code",
   "execution_count": 232,
   "metadata": {
    "collapsed": true
   },
   "outputs": [],
   "source": [
    "K = 10\n",
    "IVAL = 2"
   ]
  },
  {
   "cell_type": "code",
   "execution_count": 233,
   "metadata": {
    "collapsed": true
   },
   "outputs": [],
   "source": [
    "def kmer_iter(text, k, step, ival):\n",
    "    num_kmers = (len(text) - k * ival)//step + 1\n",
    "    for i in range(num_kmers):\n",
    "        kmer = text[i*step:i*step+k*ival:ival]\n",
    "        yield kmer"
   ]
  },
  {
   "cell_type": "code",
   "execution_count": 234,
   "metadata": {
    "collapsed": false
   },
   "outputs": [],
   "source": [
    "def get_kmer_set(text, k, step, ival):\n",
    "    kmers = set()\n",
    "    for kmer in kmer_iter(text, k, step, ival):\n",
    "        kmers.add(kmer)\n",
    "    return kmers"
   ]
  },
  {
   "cell_type": "code",
   "execution_count": 235,
   "metadata": {
    "collapsed": false
   },
   "outputs": [],
   "source": [
    "ref_kmers = get_kmer_set(ref_seq, k=K, step=1, ival=IVAL)\n",
    "alt_kmers = get_kmer_set(alt_seq, k=K, step=1, ival=IVAL)"
   ]
  },
  {
   "cell_type": "code",
   "execution_count": 245,
   "metadata": {
    "collapsed": true
   },
   "outputs": [],
   "source": [
    "from collections import defaultdict\n",
    "def kmer_count(text, k, step, ival):\n",
    "    kmer_counts = defaultdict(int)\n",
    "    num_kmers = (len(text) - k)//step + 1\n",
    "    for kmer in kmer_iter(text, k, step, ival):\n",
    "        kmer_counts[kmer] += 1\n",
    "    return kmer_counts"
   ]
  },
  {
   "cell_type": "code",
   "execution_count": 246,
   "metadata": {
    "collapsed": true
   },
   "outputs": [],
   "source": [
    "def calc_score(kmer_counts, kmer_set):\n",
    "    common = set(kmer_counts.keys()).intersection(kmer_set)\n",
    "    counts = [kmer_counts[kmer] for kmer in common]\n",
    "    score = sum(counts)\n",
    "    return score"
   ]
  },
  {
   "cell_type": "code",
   "execution_count": 253,
   "metadata": {
    "collapsed": false
   },
   "outputs": [
    {
     "name": "stdout",
     "output_type": "stream",
     "text": [
      "21 36 2 0.631578947368\n",
      "CPU times: user 7.45 ms, sys: 3.2 ms, total: 10.7 ms\n",
      "Wall time: 8.01 ms\n"
     ]
    }
   ],
   "source": [
    "%%time\n",
    "with open(infile) as reads:\n",
    "    ref_count = 0\n",
    "    alt_count = 0\n",
    "    amb_count = 0  # Ambiguous count\n",
    "    for read in reads:\n",
    "        kmer_counts = kmer_count(read, k=K, step=1, ival=IVAL)\n",
    "        score_ref = calc_score(kmer_counts, ref_kmers)\n",
    "        score_alt = calc_score(kmer_counts, alt_kmers)\n",
    "        if score_ref > score_alt:\n",
    "            ref_count += 1\n",
    "        elif score_ref < score_alt:\n",
    "            alt_count += 1\n",
    "        else:\n",
    "            amb_count += 1\n",
    "print(ref_count, alt_count, amb_count, alt_count/(alt_count + ref_count))"
   ]
  },
  {
   "cell_type": "markdown",
   "metadata": {},
   "source": [
    "# Local alignment approach"
   ]
  },
  {
   "cell_type": "code",
   "execution_count": 94,
   "metadata": {
    "collapsed": true
   },
   "outputs": [],
   "source": [
    "alphabet = ['A', 'C', 'G', 'T']\n",
    "score = [[0, 4, 2, 4, 8],\n",
    "         [4, 0, 4, 2, 8],\n",
    "         [2, 4, 0, 4, 8],\n",
    "         [4, 2, 4, 0, 8],\n",
    "         [8, 8, 8, 8, 8]]"
   ]
  },
  {
   "cell_type": "code",
   "execution_count": 150,
   "metadata": {
    "collapsed": true
   },
   "outputs": [],
   "source": [
    "import numpy as np\n",
    "def local_aln_score(t, p):\n",
    "\n",
    "    # Create distance matrix\n",
    "    D = np.zeros((len(p)+1,len(t)+1), dtype=np.int)\n",
    "    \n",
    "    # Initialize first row\n",
    "    for i in range(1, len(t)+1):\n",
    "        D[0,i] = 0\n",
    "    \n",
    "    # Initialize first column\n",
    "    for i in range(1, len(p)+1):\n",
    "        D[i,0] = D[i-1,0] + score[alphabet.index(p[i-1])][-1]\n",
    "        \n",
    "    # Fill rest of the matrix\n",
    "    for i in range(1, len(p)+1):\n",
    "        for j in range(1, len(t)+1):\n",
    "            distHor = D[i,j-1] + score[-1][alphabet.index(t[j-1])]\n",
    "            distVer = D[i-1,j] + score[alphabet.index(p[i-1])][-1]\n",
    "            distDiag = D[i-1,j-1] + score[alphabet.index(p[i-1])][alphabet.index(t[j-1])]\n",
    "            D[i][j] = min(distHor, distVer, distDiag)\n",
    "    \n",
    "    # Return min of bottom row\n",
    "    return min(D[-1])"
   ]
  },
  {
   "cell_type": "code",
   "execution_count": 154,
   "metadata": {
    "collapsed": false
   },
   "outputs": [
    {
     "name": "stdout",
     "output_type": "stream",
     "text": [
      "22 36 1 0.620689655172\n",
      "CPU times: user 45.9 s, sys: 1.12 s, total: 47 s\n",
      "Wall time: 46.2 s\n"
     ]
    }
   ],
   "source": [
    "%%time\n",
    "with open(infile) as reads:\n",
    "    ref_count = 0\n",
    "    alt_count = 0\n",
    "    amb_count = 0  # Ambiguous count\n",
    "    for read in reads:\n",
    "        read = read.rstrip()\n",
    "        score_ref = local_aln_score(ref_seq, read)\n",
    "        score_alt = local_aln_score(alt_seq, read)\n",
    "        if score_ref > score_alt:\n",
    "            ref_count += 1\n",
    "        elif score_ref < score_alt:\n",
    "            alt_count += 1\n",
    "        else:\n",
    "            amb_count += 1\n",
    "print(ref_count, alt_count, amb_count, alt_count/(alt_count + ref_count))"
   ]
  }
 ],
 "metadata": {
  "kernelspec": {
   "display_name": "Python 2",
   "language": "python",
   "name": "python2"
  },
  "language_info": {
   "codemirror_mode": {
    "name": "ipython",
    "version": 2
   },
   "file_extension": ".py",
   "mimetype": "text/x-python",
   "name": "python",
   "nbconvert_exporter": "python",
   "pygments_lexer": "ipython2",
   "version": "2.7.10"
  }
 },
 "nbformat": 4,
 "nbformat_minor": 0
}
