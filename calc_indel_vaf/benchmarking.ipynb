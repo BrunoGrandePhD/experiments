{
 "cells": [
  {
   "cell_type": "markdown",
   "metadata": {},
   "source": [
    "# Shared Code"
   ]
  },
  {
   "cell_type": "code",
   "execution_count": 302,
   "metadata": {
    "collapsed": true
   },
   "outputs": [],
   "source": [
    "from __future__ import print_function\n",
    "from __future__ import division"
   ]
  },
  {
   "cell_type": "code",
   "execution_count": 303,
   "metadata": {
    "collapsed": true
   },
   "outputs": [],
   "source": [
    "from collections import defaultdict"
   ]
  },
  {
   "cell_type": "code",
   "execution_count": 304,
   "metadata": {
    "collapsed": true
   },
   "outputs": [],
   "source": [
    "MARGIN = 200\n",
    "MAX_ID = 10"
   ]
  },
  {
   "cell_type": "code",
   "execution_count": 305,
   "metadata": {
    "collapsed": true
   },
   "outputs": [],
   "source": [
    "import requests\n",
    "def get_seqs(chrom, pos, ref, alt, margin):\n",
    "    \"\"\"Obtain reference and alternate sequences \n",
    "    from Ensembl.\n",
    "    \n",
    "    Returns (ref_seq, alt_seq) tuple\n",
    "    \"\"\"\n",
    "    # Calculate start and end positions\n",
    "    start = pos - margin\n",
    "    end = pos + margin\n",
    "    # Construct the URL for the REST query\n",
    "    server = \"http://grch37.rest.ensembl.org/\"\n",
    "    ext = \"/sequence/region/human/{}:{}..{}:1?\".format(chrom, start, end)\n",
    "    # Send the HTTP request\n",
    "    r = requests.get(server+ext, headers={ \"Content-Type\" : \"text/plain\"})\n",
    "    # Extract reference sequence\n",
    "    ref_seq = str(r.text)\n",
    "    # Strip away any gaps when calculating length\n",
    "    ref_len = len(ref.strip(\"-\"))\n",
    "    alt_len = len(alt.strip(\"-\"))\n",
    "    # Categorize the variant\n",
    "    if ref_len < alt_len:  # Insertion\n",
    "        prefix = ref_seq[:margin+1]\n",
    "        suffix = ref_seq[margin+1:]\n",
    "        alt_seq = prefix + alt + suffix\n",
    "    elif ref_len > alt_len:  # Deletion\n",
    "        prefix = ref_seq[:margin]\n",
    "        suffix = ref_seq[margin+len(ref):]\n",
    "        alt_seq = prefix + suffix\n",
    "    else:  # SNP\n",
    "        prefix = ref_seq[:margin]\n",
    "        suffix = ref_seq[margin+1:]\n",
    "        alt_seq = prefix + alt + suffix\n",
    "    return ref_seq, alt_seq"
   ]
  },
  {
   "cell_type": "code",
   "execution_count": 306,
   "metadata": {
    "collapsed": true
   },
   "outputs": [],
   "source": [
    "def rev_comp(seq):\n",
    "    \"\"\"Return reverse complement\"\"\"\n",
    "    cbases = {\"A\": \"T\",\n",
    "              \"T\": \"A\",\n",
    "              \"G\": \"C\",\n",
    "              \"C\": \"G\",\n",
    "              \"N\": \"N\"}\n",
    "    comp = \"\"\n",
    "    for base in seq[::-1]:\n",
    "        comp += cbases[base]\n",
    "    return comp"
   ]
  },
  {
   "cell_type": "code",
   "execution_count": 316,
   "metadata": {
    "collapsed": false
   },
   "outputs": [],
   "source": [
    "from tabulate import tabulate\n",
    "def print_results(results, headers):\n",
    "    \"\"\"Return results in pretty format\"\"\"\n",
    "    s_results = sorted(results.items(), key=lambda x: x[0])\n",
    "    table = [[i] + [(method.get(\"ref_count\"), method.get(\"alt_count\"), method.get(\"amb_count\"), method.get(\"vaf\")) for method in result] for i, result in s_results]\n",
    "    return tabulate(table, headers)"
   ]
  },
  {
   "cell_type": "code",
   "execution_count": 317,
   "metadata": {
    "collapsed": false
   },
   "outputs": [],
   "source": [
    "# Parse indels file\n",
    "indels = {}\n",
    "headers = [\"id\", \"chrom\", \"start\", \"end\", \"ref\", \"alt\", \"ref_count\", \"alt_count\", \"vaf\"]\n",
    "with open(\"indels.txt\") as infile:\n",
    "    for line in infile:\n",
    "        # Parse line\n",
    "        indel = dict(zip(headers, line.rstrip(\"\\n\").split(\"\\t\")))\n",
    "        id_num = int(indel[\"id\"])\n",
    "        # Obtain sequences\n",
    "        ref_seq, alt_seq = get_seqs(indel[\"chrom\"], int(indel[\"start\"]), indel[\"ref\"], indel[\"alt\"], margin=MARGIN)\n",
    "        indel[\"ref_seq\"], indel[\"alt_seq\"] = ref_seq, alt_seq\n",
    "        # Store them for later\n",
    "        indels[id_num] = indel\n",
    "        # Limit number of indels for now\n",
    "        if id_num >= MAX_ID:\n",
    "            break"
   ]
  },
  {
   "cell_type": "code",
   "execution_count": 328,
   "metadata": {
    "collapsed": true
   },
   "outputs": [],
   "source": [
    "# Build dictionary of indels holding the values predicted by various methods\n",
    "# key: id\n",
    "# value: list of dict(ref_count, alt_count, amb_count, vaf) for each method\n",
    "HEADERS = [\"id\", \"original\", \"kmer\", \"local_aln\"]\n",
    "results = defaultdict(lambda: [{}] * (len(HEADERS) - 1))"
   ]
  },
  {
   "cell_type": "code",
   "execution_count": 329,
   "metadata": {
    "collapsed": false
   },
   "outputs": [],
   "source": [
    "# Add original results from MAF file to results dict\n",
    "for i in range(1, MAX_ID+1):\n",
    "    # Iterate over reads\n",
    "    indel = indels[i]\n",
    "    results[indel[\"id\"]][0] = {\n",
    "            \"ref_count\": int(indel[\"ref_count\"]),\n",
    "            \"alt_count\": int(indel[\"alt_count\"]),\n",
    "            \"amb_count\": \"N/A\",\n",
    "            \"vaf\": float(indel[\"vaf\"])\n",
    "        }"
   ]
  },
  {
   "cell_type": "markdown",
   "metadata": {},
   "source": [
    "# K-mer Approach"
   ]
  },
  {
   "cell_type": "code",
   "execution_count": 330,
   "metadata": {
    "collapsed": true
   },
   "outputs": [],
   "source": [
    "# Some constants\n",
    "K = 10\n",
    "IVAL = 2"
   ]
  },
  {
   "cell_type": "code",
   "execution_count": 331,
   "metadata": {
    "collapsed": true
   },
   "outputs": [],
   "source": [
    "def kmer_iter(seq, k, step, ival):\n",
    "    \"\"\"Iterate over k-mers using the same \n",
    "    subsequence pattern.\n",
    "    \n",
    "    Returns generator.\n",
    "    \"\"\"\n",
    "    num_kmers = (len(seq) - k * ival)//step + 1\n",
    "    for i in range(num_kmers):\n",
    "        kmer = seq[i*step:i*step+k*ival:ival]\n",
    "        yield kmer"
   ]
  },
  {
   "cell_type": "code",
   "execution_count": 332,
   "metadata": {
    "collapsed": true
   },
   "outputs": [],
   "source": [
    "def kmer_idx(seq, k, step, ival):\n",
    "    \"\"\"Generate a k-mer index from a given text.\n",
    "    \n",
    "    Returns index of k-mer positions.\n",
    "    \"\"\"\n",
    "    kmer_idx = defaultdict(set)\n",
    "    for offset, kmer in enumerate(kmer_iter(seq, k, step, ival)):\n",
    "        kmer_idx[kmer].add(offset)\n",
    "    return kmer_idx"
   ]
  },
  {
   "cell_type": "code",
   "execution_count": 333,
   "metadata": {
    "collapsed": true
   },
   "outputs": [],
   "source": [
    "def kmer_count(seq, kmer_idx, k, step, ival):\n",
    "    \"\"\"Returns score for k-mers present\n",
    "    in the given k-mer index.\n",
    "    \n",
    "    Returns the count/score.\n",
    "    \"\"\"\n",
    "    kmer_count = 0\n",
    "    num_kmers = (len(seq) - k)//step + 1\n",
    "    for kmer in kmer_iter(seq, k, step, ival):\n",
    "        if kmer in kmer_idx:\n",
    "            kmer_count += 1\n",
    "    return kmer_count"
   ]
  },
  {
   "cell_type": "code",
   "execution_count": 334,
   "metadata": {
    "collapsed": true
   },
   "outputs": [],
   "source": [
    "def calc_delta(read_seq, ref_seq, alt_seq, min_delta=1, max_ival=3):\n",
    "    \"\"\"Determines whether read has more k-mers\n",
    "    in common with reference sequence or alternate\n",
    "    sequence. \n",
    "    \n",
    "    abs(difference) >= min_delta\n",
    "    Attempts with interval lengths <= max_ival\n",
    "    \n",
    "    Returns delta in score between the two.\n",
    "    If positive, aligns better to reference.\n",
    "    If negative, aligns better to alternate.\n",
    "    If zero, abs(difference) < min_delta\n",
    "    \"\"\"\n",
    "    fread = read_seq\n",
    "    rread = rev_comp(read_seq)\n",
    "    ival = 1\n",
    "    ref_score = 0\n",
    "    alt_score = 0\n",
    "    while (abs(ref_score - alt_score) < min_delta) and ival <= max_ival:\n",
    "        # Generate k-mer indexes for this ival\n",
    "        ref_idx = kmer_idx(ref_seq, k=K, step=1, ival=ival)\n",
    "        alt_idx = kmer_idx(alt_seq, k=K, step=1, ival=ival)\n",
    "        # Find ref scores for forward and reverse and take max\n",
    "        ref_score += max(kmer_count(fread, ref_idx, k=K, step=1, ival=ival),\n",
    "                         kmer_count(rread, ref_idx, k=K, step=1, ival=ival))\n",
    "        # Find alt scores for forward and reverse and take max\n",
    "        alt_score += max(kmer_count(fread, alt_idx, k=K, step=1, ival=ival),\n",
    "                         kmer_count(rread, alt_idx, k=K, step=1, ival=ival))\n",
    "        # Increment ival\n",
    "        ival += 1\n",
    "    if abs(ref_score - alt_score) < min_delta:\n",
    "        return 0\n",
    "    else:\n",
    "        return ref_score - alt_score"
   ]
  },
  {
   "cell_type": "code",
   "execution_count": 335,
   "metadata": {
    "collapsed": true
   },
   "outputs": [],
   "source": [
    "def is_forward(read_seq, ref_seq):\n",
    "    \"\"\"Returns whether read is forward.\"\"\"\n",
    "    fread = read_seq\n",
    "    rread = rev_comp(read_seq)\n",
    "    ref_idx = kmer_idx(ref_seq, k=K, step=1, ival=2)\n",
    "    fscore = kmer_count(fread, ref_idx, k=K, step=1, ival=2)\n",
    "    rscore = kmer_count(rread, ref_idx, k=K, step=1, ival=2)\n",
    "    return fscore > rscore"
   ]
  },
  {
   "cell_type": "code",
   "execution_count": 337,
   "metadata": {
    "collapsed": false
   },
   "outputs": [],
   "source": [
    "for i in range(1, MAX_ID+1):\n",
    "    # Iterate over reads\n",
    "    temp = \"reads/reads_{}.txt\"\n",
    "    with open(temp.format(i)) as reads:\n",
    "        ref_count = 0\n",
    "        alt_count = 0\n",
    "        amb_count = 0\n",
    "        indel = indels[i]\n",
    "        # Iterate over reads\n",
    "        for read in reads:\n",
    "            read = read.rstrip(\"\\n\")\n",
    "            kmer_delta = calc_delta(read, indel[\"ref_seq\"], indel[\"alt_seq\"], min_delta=3, max_ival=5)\n",
    "            if kmer_delta > 0:\n",
    "                ref_count += 1\n",
    "            elif kmer_delta < 0:\n",
    "                alt_count += 1\n",
    "            else:\n",
    "                amb_count += 1\n",
    "        vaf = round(alt_count/(alt_count + ref_count), 2)\n",
    "        results[indel[\"id\"]][1] = {\n",
    "            \"ref_count\": ref_count,\n",
    "            \"alt_count\": alt_count,\n",
    "            \"amb_count\": amb_count,\n",
    "            \"vaf\": vaf\n",
    "        }"
   ]
  },
  {
   "cell_type": "code",
   "execution_count": 338,
   "metadata": {
    "collapsed": false
   },
   "outputs": [
    {
     "name": "stdout",
     "output_type": "stream",
     "text": [
      "  id  original                 kmer               local_aln\n",
      "----  -----------------------  -----------------  ------------------------\n",
      "   1  (13, 7, 'N/A', 0.35)     (16, 20, 7, 0.56)  (None, None, None, None)\n",
      "  10  (69, 0, 'N/A', 0.0)      (69, 12, 1, 0.15)  (None, None, None, None)\n",
      "   2  (36, 0, 'N/A', 0.0)      (33, 0, 9, 0.0)    (None, None, None, None)\n",
      "   3  (30, 0, 'N/A', 0.0)      (30, 0, 4, 0.0)    (None, None, None, None)\n",
      "   4  (79, 0, 'N/A', 0.0)      (71, 0, 19, 0.0)   (None, None, None, None)\n",
      "   5  (12, 0, 'N/A', 0.0)      (8, 0, 12, 0.0)    (None, None, None, None)\n",
      "   6  (11, 0, 'N/A', 0.0)      (11, 0, 5, 0.0)    (None, None, None, None)\n",
      "   7  (8, 0, 'N/A', 0.0)       (8, 0, 7, 0.0)     (None, None, None, None)\n",
      "   8  (7, 4, 'N/A', 0.363636)  (7, 4, 0, 0.36)    (None, None, None, None)\n",
      "   9  (11, 0, 'N/A', 0.0)      (10, 0, 4, 0.0)    (None, None, None, None)\n"
     ]
    }
   ],
   "source": [
    "print(print_results(results, headers=HEADERS))"
   ]
  },
  {
   "cell_type": "markdown",
   "metadata": {},
   "source": [
    "# Local Alignment Approach"
   ]
  },
  {
   "cell_type": "code",
   "execution_count": 339,
   "metadata": {
    "collapsed": true
   },
   "outputs": [],
   "source": [
    "alphabet = ['A', 'C', 'G', 'T']\n",
    "score = [[0, 4, 2, 4, 8],\n",
    "         [4, 0, 4, 2, 8],\n",
    "         [2, 4, 0, 4, 8],\n",
    "         [4, 2, 4, 0, 8],\n",
    "         [8, 8, 8, 8, 8]]"
   ]
  },
  {
   "cell_type": "code",
   "execution_count": 340,
   "metadata": {
    "collapsed": true
   },
   "outputs": [],
   "source": [
    "import numpy as np\n",
    "def local_aln_score(t, p, offset=None):\n",
    "\n",
    "    # Create distance matrix\n",
    "    D = np.zeros((len(p)+1,len(t)+1), dtype=np.int)\n",
    "    \n",
    "    # Initialize first row\n",
    "    for i in range(1, len(t)+1):\n",
    "        D[0,i] = 0\n",
    "    \n",
    "    # Initialize first column\n",
    "    for i in range(1, len(p)+1):\n",
    "        D[i,0] = D[i-1,0] + score[alphabet.index(p[i-1])][-1]\n",
    "        \n",
    "    # Fill rest of the matrix\n",
    "    for i in range(1, len(p)+1):\n",
    "        for j in range(1, len(t)+1):\n",
    "            distHor = D[i,j-1] + score[-1][alphabet.index(t[j-1])]\n",
    "            distVer = D[i-1,j] + score[alphabet.index(p[i-1])][-1]\n",
    "            distDiag = D[i-1,j-1] + score[alphabet.index(p[i-1])][alphabet.index(t[j-1])]\n",
    "            D[i][j] = min(distHor, distVer, distDiag)\n",
    "    \n",
    "    # Return min of bottom row\n",
    "    return min(D[-1])"
   ]
  },
  {
   "cell_type": "code",
   "execution_count": 342,
   "metadata": {
    "collapsed": false
   },
   "outputs": [],
   "source": [
    "for i in range(1, MAX_ID+1):\n",
    "    # Iterate over reads\n",
    "    temp = \"reads/reads_{}.txt\"\n",
    "    with open(temp.format(i)) as reads:\n",
    "        ref_count = 0\n",
    "        alt_count = 0\n",
    "        amb_count = 0\n",
    "        indel = indels[i]\n",
    "        ref_seq, alt_seq = indel[\"ref_seq\"], indel[\"alt_seq\"]\n",
    "        for read in reads:\n",
    "            read = read.rstrip(\"\\n\")\n",
    "            # Lower score is better\n",
    "            ref_score = min(local_aln_score(ref_seq, read), local_aln_score(rev_comp(ref_seq), read))\n",
    "            alt_score = min(local_aln_score(alt_seq, read), local_aln_score(rev_comp(alt_seq), read))\n",
    "            if ref_score < alt_score:\n",
    "                ref_count += 1\n",
    "            elif ref_score > alt_score:\n",
    "                alt_count += 1\n",
    "            else:\n",
    "                amb_count += 1\n",
    "        if alt_count + ref_count == 0:\n",
    "            vaf = 0\n",
    "        else:\n",
    "            vaf = round(alt_count/(alt_count + ref_count), 2)\n",
    "        results[indel[\"id\"]][2] = {\n",
    "            \"ref_count\": ref_count,\n",
    "            \"alt_count\": alt_count,\n",
    "            \"amb_count\": amb_count,\n",
    "            \"vaf\": vaf\n",
    "        }"
   ]
  },
  {
   "cell_type": "code",
   "execution_count": 343,
   "metadata": {
    "collapsed": false
   },
   "outputs": [
    {
     "name": "stdout",
     "output_type": "stream",
     "text": [
      "  id  original                 kmer               local_aln\n",
      "----  -----------------------  -----------------  -----------------\n",
      "   1  (13, 7, 'N/A', 0.35)     (16, 20, 7, 0.56)  (25, 15, 3, 0.38)\n",
      "  10  (69, 0, 'N/A', 0.0)      (69, 12, 1, 0.15)  (12, 69, 1, 0.85)\n",
      "   2  (36, 0, 'N/A', 0.0)      (33, 0, 9, 0.0)    (0, 33, 9, 1.0)\n",
      "   3  (30, 0, 'N/A', 0.0)      (30, 0, 4, 0.0)    (0, 30, 4, 1.0)\n",
      "   4  (79, 0, 'N/A', 0.0)      (71, 0, 19, 0.0)   (0, 80, 10, 1.0)\n",
      "   5  (12, 0, 'N/A', 0.0)      (8, 0, 12, 0.0)    (4, 9, 7, 0.69)\n",
      "   6  (11, 0, 'N/A', 0.0)      (11, 0, 5, 0.0)    (4, 11, 1, 0.73)\n",
      "   7  (8, 0, 'N/A', 0.0)       (8, 0, 7, 0.0)     (3, 10, 2, 0.77)\n",
      "   8  (7, 4, 'N/A', 0.363636)  (7, 4, 0, 0.36)    (4, 7, 0, 0.64)\n",
      "   9  (11, 0, 'N/A', 0.0)      (10, 0, 4, 0.0)    (2, 10, 2, 0.83)\n"
     ]
    }
   ],
   "source": [
    "print(print_results(results, headers=HEADERS))"
   ]
  },
  {
   "cell_type": "markdown",
   "metadata": {
    "collapsed": true
   },
   "source": [
    "# Hybrid Approach"
   ]
  },
  {
   "cell_type": "code",
   "execution_count": 68,
   "metadata": {
    "collapsed": true
   },
   "outputs": [],
   "source": [
    "def find_offset(p, kmer_idx, k, step, ival, min_support=3):\n",
    "    \"\"\"Find offset of pattern p in k-mer index.\n",
    "    \n",
    "    Returns offset as int.\n",
    "    \"\"\"\n",
    "    offset_support = defaultdict(int)\n",
    "    for pos, kmer in enumerate(kmer_iter(p, k, step, ival)):\n",
    "        offsets = kmer_idx[kmer] | kmer_idx[rev_comp(kmer)]\n",
    "        for offset in offsets:\n",
    "            offset_support[offset - pos] += 1\n",
    "        if any(map(lambda x: x >= min_support, offset_support.values())):\n",
    "            max_support = max(offset_support.values())\n",
    "            if offset_support.values().count(max_support) > 1:\n",
    "                continue\n",
    "            else:\n",
    "                idx = offset_support.values().index(max_support)\n",
    "                return offset_support[idx]"
   ]
  },
  {
   "cell_type": "code",
   "execution_count": 70,
   "metadata": {
    "collapsed": false
   },
   "outputs": [],
   "source": [
    "for i in range(1, MAX_ID+1): \n",
    "    # Iterate over reads\n",
    "    temp = \"reads/reads_{}.txt\"\n",
    "    with open(temp.format(i)) as reads:\n",
    "        ref_count = 0\n",
    "        alt_count = 0\n",
    "        amb_count = 0\n",
    "        indel = indels[i]\n",
    "        ref_kmer_idx = create_kmer_idx(indel[\"ref_seq\"], k=K, step=1, ival=IVAL)\n",
    "        alt_kmer_idx = create_kmer_idx(indel[\"alt_seq\"], k=K, step=1, ival=IVAL)\n",
    "        for read in reads:\n",
    "            read = read.rstrip(\"\\n\")\n",
    "            find_offset(read, ref_kmer_idx, k=K, step=1, ival=IVAL)\n",
    "#             ref_score = calc_score(read, ref_kmers, k=K, step=2, ival=IVAL)\n",
    "#             alt_score = calc_score(read, alt_kmers, k=K, step=2, ival=IVAL)\n",
    "#             if ref_score > alt_score:\n",
    "#                 ref_count += 1\n",
    "#             elif ref_score < alt_score:\n",
    "#                 alt_count += 1\n",
    "#             else:\n",
    "#                 amb_count += 1\n",
    "#         vaf = round(alt_count/(alt_count + ref_count), 2)"
   ]
  },
  {
   "cell_type": "code",
   "execution_count": null,
   "metadata": {
    "collapsed": true
   },
   "outputs": [],
   "source": []
  }
 ],
 "metadata": {
  "kernelspec": {
   "display_name": "Python 2",
   "language": "python",
   "name": "python2"
  },
  "language_info": {
   "codemirror_mode": {
    "name": "ipython",
    "version": 2
   },
   "file_extension": ".py",
   "mimetype": "text/x-python",
   "name": "python",
   "nbconvert_exporter": "python",
   "pygments_lexer": "ipython2",
   "version": "2.7.10"
  }
 },
 "nbformat": 4,
 "nbformat_minor": 0
}
