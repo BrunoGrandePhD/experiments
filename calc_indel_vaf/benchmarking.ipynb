{
 "cells": [
  {
   "cell_type": "markdown",
   "metadata": {},
   "source": [
    "# Shared Functions"
   ]
  },
  {
   "cell_type": "markdown",
   "metadata": {},
   "source": [
    "## Imports and Parameters"
   ]
  },
  {
   "cell_type": "code",
   "execution_count": 12,
   "metadata": {
    "collapsed": true
   },
   "outputs": [],
   "source": [
    "from __future__ import print_function\n",
    "from __future__ import division"
   ]
  },
  {
   "cell_type": "code",
   "execution_count": 13,
   "metadata": {
    "collapsed": true
   },
   "outputs": [],
   "source": [
    "from collections import defaultdict"
   ]
  },
  {
   "cell_type": "code",
   "execution_count": 38,
   "metadata": {
    "collapsed": true
   },
   "outputs": [],
   "source": [
    "MARGIN = 200\n",
    "MAX_ID = 100\n",
    "K = 10\n",
    "IVAL = 2\n",
    "MIN_OLAP = 5\n",
    "TEMP = \"reads/normal_reads_{}.txt\""
   ]
  },
  {
   "cell_type": "markdown",
   "metadata": {},
   "source": [
    "## Sequence Functions"
   ]
  },
  {
   "cell_type": "code",
   "execution_count": 15,
   "metadata": {
    "collapsed": true
   },
   "outputs": [],
   "source": [
    "import requests\n",
    "def get_seqs(chrom, pos, ref, alt, margin):\n",
    "    \"\"\"Obtain reference and alternate sequences \n",
    "    from Ensembl.\n",
    "    \n",
    "    Returns (ref_seq, alt_seq) tuple\n",
    "    \"\"\"\n",
    "    # Calculate start and end positions\n",
    "    start = pos - margin\n",
    "    end = pos + margin\n",
    "    # Construct the URL for the REST query\n",
    "    server = \"http://grch37.rest.ensembl.org/\"\n",
    "    ext = \"/sequence/region/human/{}:{}..{}:1?\".format(chrom, start, end)\n",
    "    # Send the HTTP request\n",
    "    r = requests.get(server+ext, headers={ \"Content-Type\" : \"text/plain\"})\n",
    "    # Extract reference sequence\n",
    "    ref_seq = str(r.text)\n",
    "    # Strip away any gaps when calculating length\n",
    "    ref_len = len(ref.strip(\"-\"))\n",
    "    alt_len = len(alt.strip(\"-\"))\n",
    "    # Categorize the variant\n",
    "    if ref_len < alt_len:  # Insertion\n",
    "        prefix = ref_seq[:margin+1]\n",
    "        suffix = ref_seq[margin+1:]\n",
    "        alt_seq = prefix + alt + suffix\n",
    "    elif ref_len > alt_len:  # Deletion\n",
    "        prefix = ref_seq[:margin]\n",
    "        suffix = ref_seq[margin+len(ref):]\n",
    "        alt_seq = prefix + suffix\n",
    "    else:  # SNP\n",
    "        prefix = ref_seq[:margin]\n",
    "        suffix = ref_seq[margin+1:]\n",
    "        alt_seq = prefix + alt + suffix\n",
    "    return ref_seq, alt_seq"
   ]
  },
  {
   "cell_type": "code",
   "execution_count": 16,
   "metadata": {
    "collapsed": true
   },
   "outputs": [],
   "source": [
    "def rev_comp(seq):\n",
    "    \"\"\"Return reverse complement\"\"\"\n",
    "    cbases = {\"A\": \"T\",\n",
    "              \"T\": \"A\",\n",
    "              \"G\": \"C\",\n",
    "              \"C\": \"G\",\n",
    "              \"N\": \"N\"}\n",
    "    comp = \"\"\n",
    "    for base in seq[::-1]:\n",
    "        comp += cbases[base]\n",
    "    return comp"
   ]
  },
  {
   "cell_type": "markdown",
   "metadata": {},
   "source": [
    "## K-mer Functions"
   ]
  },
  {
   "cell_type": "code",
   "execution_count": 17,
   "metadata": {
    "collapsed": true
   },
   "outputs": [],
   "source": [
    "class SeqIndexSet(object):\n",
    "    \n",
    "    def __init__(self, seq):\n",
    "        self.seq = seq\n",
    "        self.kmer_idxs = {}\n",
    "    \n",
    "    def get_idx(self, k, step, ival):\n",
    "        \"\"\"Return k-mer index. Create it if not \n",
    "        precomputed.\n",
    "        \"\"\"\n",
    "        # Create param key\n",
    "        key = (k, step, ival)\n",
    "        # Check if precomputed\n",
    "        if key in self.kmer_idxs:\n",
    "            idx = self.kmer_idxs[key]\n",
    "        else:\n",
    "            # Create a new index\n",
    "            idx = defaultdict(set)\n",
    "            for offset, kmer in kmer_iter(self.seq, k, step, ival):\n",
    "                idx[kmer].add(offset)\n",
    "            # Store it for later\n",
    "            self.kmer_idxs[key] = idx\n",
    "        return idx"
   ]
  },
  {
   "cell_type": "code",
   "execution_count": 18,
   "metadata": {
    "collapsed": true
   },
   "outputs": [],
   "source": [
    "from random import shuffle\n",
    "def kmer_iter(seq, k, step, ival):\n",
    "    \"\"\"Iterate over k-mers using the same \n",
    "    subsequence pattern.\n",
    "    \n",
    "    Yields (offset, kmer).\n",
    "    \"\"\"\n",
    "    num_kmers = (len(seq) - k * ival)//step + 1\n",
    "    kmer_ids = range(num_kmers)\n",
    "    shuffle(kmer_ids)\n",
    "    for i in kmer_ids:\n",
    "        start = i*step\n",
    "        end = i*step+k*ival\n",
    "        kmer = seq[start:end:ival]\n",
    "        yield start, kmer"
   ]
  },
  {
   "cell_type": "code",
   "execution_count": 19,
   "metadata": {
    "collapsed": true
   },
   "outputs": [],
   "source": [
    "def kmer_count(seq, kmer_idx, k, step, ival):\n",
    "    \"\"\"Returns score for k-mers present\n",
    "    in the given k-mer index.\n",
    "    \n",
    "    Returns the count/score.\n",
    "    \"\"\"\n",
    "    kmer_count = 0\n",
    "    num_kmers = (len(seq) - k)//step + 1\n",
    "    for offset, kmer in kmer_iter(seq, k, step, ival):\n",
    "        if kmer in kmer_idx:\n",
    "            kmer_count += 1\n",
    "    return kmer_count"
   ]
  },
  {
   "cell_type": "code",
   "execution_count": 20,
   "metadata": {
    "collapsed": true
   },
   "outputs": [],
   "source": [
    "def calc_kmer_delta(read_seq, ref_idxs, alt_idxs, min_delta=1, max_ival=3):\n",
    "    \"\"\"Determines whether read has more k-mers\n",
    "    in common with reference sequence or alternate\n",
    "    sequence. \n",
    "    \n",
    "    abs(difference) >= min_delta\n",
    "    Attempts with interval lengths <= max_ival\n",
    "    \n",
    "    Returns delta in score between the two.\n",
    "    If positive, aligns better to reference.\n",
    "    If negative, aligns better to alternate.\n",
    "    If zero, abs(difference) < min_delta\n",
    "    \"\"\"\n",
    "    ival = 1\n",
    "    ref_score = 0\n",
    "    alt_score = 0\n",
    "    while (abs(ref_score - alt_score) < min_delta) and ival <= max_ival:\n",
    "        # Generate k-mer indexes for this ival\n",
    "        ref_idx = ref_idxs.get_idx(k=K, step=1, ival=ival)\n",
    "        alt_idx = alt_idxs.get_idx(k=K, step=1, ival=ival)\n",
    "        # Find ref scores for forward and reverse and take max\n",
    "        ref_score += kmer_count(read_seq, ref_idx, k=K, step=1, ival=ival)\n",
    "        # Find alt scores for forward and reverse and take max\n",
    "        alt_score += kmer_count(read_seq, alt_idx, k=K, step=1, ival=ival)\n",
    "        # Increment ival\n",
    "        ival += 1\n",
    "    if abs(ref_score - alt_score) < min_delta:\n",
    "        delta = 0\n",
    "    else:\n",
    "        delta = ref_score - alt_score\n",
    "    return delta"
   ]
  },
  {
   "cell_type": "code",
   "execution_count": 21,
   "metadata": {
    "collapsed": true
   },
   "outputs": [],
   "source": [
    "def is_forward(read_seq, ref_idxs):\n",
    "    \"\"\"Returns whether read is forward.\"\"\"\n",
    "    fread = read_seq\n",
    "    rread = rev_comp(read_seq)\n",
    "    ref_idx = ref_idxs.get_idx(k=K, step=1, ival=2)\n",
    "    fscore = kmer_count(fread, ref_idx, k=K, step=1, ival=2)\n",
    "    rscore = kmer_count(rread, ref_idx, k=K, step=1, ival=2)\n",
    "    return fscore > rscore"
   ]
  },
  {
   "cell_type": "markdown",
   "metadata": {},
   "source": [
    "## Alignment Functions"
   ]
  },
  {
   "cell_type": "code",
   "execution_count": 22,
   "metadata": {
    "collapsed": true
   },
   "outputs": [],
   "source": [
    "alphabet = ['A', 'C', 'G', 'T']\n",
    "score = [[0, 4, 2, 4, 8],\n",
    "         [4, 0, 4, 2, 8],\n",
    "         [2, 4, 0, 4, 8],\n",
    "         [4, 2, 4, 0, 8],\n",
    "         [8, 8, 8, 8, 8]]"
   ]
  },
  {
   "cell_type": "code",
   "execution_count": 23,
   "metadata": {
    "collapsed": true
   },
   "outputs": [],
   "source": [
    "import numpy as np\n",
    "def aln_score(read, ref, offset=None, margin=5):\n",
    "    \n",
    "    # Edit ref if offset is given\n",
    "    if offset:\n",
    "        ref = ref[offset-margin:offset+len(read)+margin]\n",
    "\n",
    "    # Create distance matrix\n",
    "    D = np.zeros((len(read)+1,len(ref)+1), dtype=np.int)\n",
    "    \n",
    "    # Initialize first row\n",
    "    for i in range(1, len(ref)+1):\n",
    "        D[0,i] = 0\n",
    "    \n",
    "    # Initialize first column\n",
    "    for i in range(1, len(read)+1):\n",
    "        D[i,0] = D[i-1,0] + score[alphabet.index(read[i-1])][-1]\n",
    "        \n",
    "    # Fill rest of the matrix\n",
    "    for i in range(1, len(read)+1):\n",
    "        for j in range(1, len(ref)+1):\n",
    "            distHor = D[i,j-1] + score[-1][alphabet.index(ref[j-1])]\n",
    "            distVer = D[i-1,j] + score[alphabet.index(read[i-1])][-1]\n",
    "            distDiag = D[i-1,j-1] + score[alphabet.index(read[i-1])][alphabet.index(ref[j-1])]\n",
    "            D[i][j] = min(distHor, distVer, distDiag)\n",
    "    \n",
    "    # Return min of bottom row\n",
    "    return min(D[-1])"
   ]
  },
  {
   "cell_type": "code",
   "execution_count": 24,
   "metadata": {
    "collapsed": true
   },
   "outputs": [],
   "source": [
    "def calc_aln_delta(read_seq, ref_seq, alt_seq, min_delta=8, offset=None, margin=None):\n",
    "    \"\"\"Calculate difference in score between\n",
    "    a local alignment to the reference sequence\n",
    "    and one to the alternate sequence.\n",
    "    \n",
    "    Returns the difference in score.\n",
    "    If positive, alignment to reference is better\n",
    "    If negative, alignment to alternate is better\n",
    "    If zero, abs(difference) < min_delta\n",
    "    \"\"\"\n",
    "    ref_score = aln_score(read_seq, ref_seq, offset=offset, margin=margin)\n",
    "    alt_score = aln_score(read_seq, alt_seq, offset=offset, margin=margin)\n",
    "    if abs(ref_score - alt_score) < min_delta:\n",
    "        delta = 0\n",
    "    else:\n",
    "        delta = -(ref_score - alt_score)\n",
    "    return delta"
   ]
  },
  {
   "cell_type": "markdown",
   "metadata": {},
   "source": [
    "## Seeding Functions"
   ]
  },
  {
   "cell_type": "code",
   "execution_count": 25,
   "metadata": {
    "collapsed": true
   },
   "outputs": [],
   "source": [
    "def find_offset(read, ref_idxs, k, step, ival, min_support=3):\n",
    "    \"\"\"Find offset of pattern p in k-mer index.\n",
    "    \n",
    "    Returns offset as int.\n",
    "    \"\"\"\n",
    "    offset_support = defaultdict(int)\n",
    "    ref_idx = ref_idxs.get_idx(k, step, ival)\n",
    "    for pos, kmer in kmer_iter(read, k, step, ival):\n",
    "        offsets = ref_idx[kmer]\n",
    "        for offset in offsets:\n",
    "            offset_support[offset - pos] += 1\n",
    "        vals = offset_support.values()\n",
    "        if any(map(lambda x: x >= min_support, vals)):\n",
    "            max_support = max(vals)\n",
    "            best_offsets = [offset for offset, support in offset_support.items() if support == max_support]\n",
    "            if len(best_offsets) > 1:\n",
    "                continue\n",
    "            else:\n",
    "                return best_offsets[0]\n",
    "    return None"
   ]
  },
  {
   "cell_type": "code",
   "execution_count": 26,
   "metadata": {
    "collapsed": true
   },
   "outputs": [],
   "source": [
    "def is_overlap(read, ref_seq, offset, min_olap=2):\n",
    "    \"\"\"Returns whether read overlaps with\n",
    "    mutation position.\n",
    "    \"\"\"\n",
    "    mid = len(ref_seq) / 2\n",
    "    return (offset + min_olap <= mid) and (offset + len(read) - min_olap >= mid)"
   ]
  },
  {
   "cell_type": "markdown",
   "metadata": {},
   "source": [
    "## Benchmarking Functions"
   ]
  },
  {
   "cell_type": "code",
   "execution_count": 27,
   "metadata": {
    "collapsed": true
   },
   "outputs": [],
   "source": [
    "# Build dictionary of indels holding the values predicted by various methods\n",
    "# key: id\n",
    "# value: list of dict(ref_count, alt_count, amb_count, vaf) for each method\n",
    "HEADERS = [\"id\", \"original\", \"kmer\", \"aln\", \"seeded_aln\", \"hybrid\"]\n",
    "results = defaultdict(lambda: [{}] * (len(HEADERS) - 1))"
   ]
  },
  {
   "cell_type": "code",
   "execution_count": 28,
   "metadata": {
    "collapsed": false
   },
   "outputs": [],
   "source": [
    "from tabulate import tabulate\n",
    "def print_results(results, headers):\n",
    "    \"\"\"Return results in pretty format\"\"\"\n",
    "    s_results = sorted(results.items(), key=lambda x: int(x[0]))\n",
    "    table = [[int(i)] + [(method.get(\"ref_count\", 0), method.get(\"alt_count\", 0), \n",
    "                     method.get(\"amb_count\", 0), method.get(\"vaf\", 0)) for method in result] for i, result in s_results]\n",
    "    return tabulate(table, headers)"
   ]
  },
  {
   "cell_type": "markdown",
   "metadata": {},
   "source": [
    "# Parsing Indels and Getting Sequences"
   ]
  },
  {
   "cell_type": "code",
   "execution_count": 29,
   "metadata": {
    "collapsed": false
   },
   "outputs": [
    {
     "name": "stdout",
     "output_type": "stream",
     "text": [
      "CPU times: user 203 ms, sys: 51.2 ms, total: 254 ms\n",
      "Wall time: 48.4 s\n"
     ]
    }
   ],
   "source": [
    "%%time\n",
    "# Parse indels file\n",
    "indels = {}\n",
    "headers = [\"id\", \"chrom\", \"start\", \"end\", \"ref\", \"alt\", \"ref_count\", \"alt_count\", \"vaf\"]\n",
    "with open(\"indels.txt\") as infile:\n",
    "    for line in infile:\n",
    "        # Parse line\n",
    "        indel = dict(zip(headers, line.rstrip(\"\\n\").split(\"\\t\")))\n",
    "        id_num = int(indel[\"id\"])\n",
    "        # Obtain sequences\n",
    "        ref_seq, alt_seq = get_seqs(indel[\"chrom\"], int(indel[\"start\"]), indel[\"ref\"], indel[\"alt\"], margin=MARGIN)\n",
    "        indel[\"ref_seq\"], indel[\"alt_seq\"] = ref_seq, alt_seq\n",
    "        # Create SeqIndexSet objects for ref and alt sequences\n",
    "        ref_idxs = SeqIndexSet(ref_seq)\n",
    "        alt_idxs = SeqIndexSet(alt_seq)\n",
    "        indel[\"ref_idxs\"], indel[\"alt_idxs\"] = ref_idxs, alt_idxs\n",
    "        # Store them for later\n",
    "        indels[id_num] = indel\n",
    "        # Store in results\n",
    "        results[indel[\"id\"]][0] = {\n",
    "            \"ref_count\": int(indel[\"ref_count\"]),\n",
    "            \"alt_count\": int(indel[\"alt_count\"]),\n",
    "            \"amb_count\": 0,\n",
    "            \"vaf\": round(float(indel[\"vaf\"]), 2)\n",
    "        }\n",
    "        # Limit number of indels for now\n",
    "        if id_num >= MAX_ID:\n",
    "            break"
   ]
  },
  {
   "cell_type": "markdown",
   "metadata": {},
   "source": [
    "# K-mer Approach"
   ]
  },
  {
   "cell_type": "code",
   "execution_count": 39,
   "metadata": {
    "collapsed": false
   },
   "outputs": [
    {
     "name": "stdout",
     "output_type": "stream",
     "text": [
      "CPU times: user 5.32 s, sys: 39.1 ms, total: 5.36 s\n",
      "Wall time: 5.54 s\n"
     ]
    }
   ],
   "source": [
    "%%time\n",
    "for i in range(1, MAX_ID+1):\n",
    "    # Iterate over reads\n",
    "    temp = TEMP\n",
    "    with open(temp.format(i)) as reads:\n",
    "        ref_count = 0\n",
    "        alt_count = 0\n",
    "        amb_count = 0\n",
    "        indel = indels[i]\n",
    "        ref_idxs = indel[\"ref_idxs\"]\n",
    "        alt_idxs = indel[\"alt_idxs\"]\n",
    "        # Iterate over reads\n",
    "        for read in reads:\n",
    "            read = read.rstrip(\"\\n\").replace(\"N\", \"A\")\n",
    "            # Reverse read if applicable\n",
    "            if not is_forward(read, ref_idxs):\n",
    "                read = rev_comp(read)\n",
    "            # Calculate score delta\n",
    "            kmer_delta = calc_kmer_delta(read, ref_idxs, alt_idxs, min_delta=3, max_ival=5)\n",
    "            if kmer_delta > 0:\n",
    "                ref_count += 1\n",
    "            elif kmer_delta < 0:\n",
    "                alt_count += 1\n",
    "            else:\n",
    "                amb_count += 1\n",
    "        if alt_count + ref_count == 0:\n",
    "            vaf = 0\n",
    "        else:\n",
    "            vaf = round(alt_count/(alt_count + ref_count), 2)\n",
    "        results[indel[\"id\"]][1] = {\n",
    "            \"ref_count\": ref_count,\n",
    "            \"alt_count\": alt_count,\n",
    "            \"amb_count\": amb_count,\n",
    "            \"vaf\": vaf\n",
    "        }"
   ]
  },
  {
   "cell_type": "markdown",
   "metadata": {},
   "source": [
    "# Alignment Approach"
   ]
  },
  {
   "cell_type": "code",
   "execution_count": 31,
   "metadata": {
    "collapsed": false
   },
   "outputs": [],
   "source": [
    "# %%time\n",
    "# for i in range(1, MAX_ID+1):\n",
    "#     # Iterate over reads\n",
    "#     temp = TEMP\n",
    "#     with open(temp.format(i)) as reads:\n",
    "#         ref_count = 0\n",
    "#         alt_count = 0\n",
    "#         amb_count = 0\n",
    "#         indel = indels[i]\n",
    "#         ref_seq, alt_seq = indel[\"ref_seq\"], indel[\"alt_seq\"]\n",
    "#         ref_idxs = indel[\"ref_idxs\"]\n",
    "#         for read in reads:\n",
    "#             read = read.rstrip(\"\\n\").replace(\"N\", \"A\")\n",
    "#             # Reverse read if applicable\n",
    "#             if not is_forward(read, ref_idxs):\n",
    "#                 read = rev_comp(read)\n",
    "#             # Find offset\n",
    "#             offset = find_offset(read, ref_idxs, k=K, step=1, ival=IVAL)\n",
    "#             # Determine if overlaps with mutation position\n",
    "#             if offset and not is_overlap(read, ref_seq, offset, min_olap=MIN_OLAP):\n",
    "#                 continue\n",
    "#             # Lower score is better\n",
    "#             aln_delta = calc_aln_delta(read, ref_seq, alt_seq)\n",
    "#             if aln_delta > 0:\n",
    "#                 ref_count += 1\n",
    "#             elif aln_delta < 0:\n",
    "#                 alt_count += 1\n",
    "#             else:\n",
    "#                 amb_count += 1\n",
    "#         if alt_count + ref_count == 0:\n",
    "#             vaf = 0\n",
    "#         else:\n",
    "#             vaf = round(alt_count/(alt_count + ref_count), 2)\n",
    "#         results[indel[\"id\"]][2] = {\n",
    "#             \"ref_count\": ref_count,\n",
    "#             \"alt_count\": alt_count,\n",
    "#             \"amb_count\": amb_count, \n",
    "#             \"vaf\": vaf\n",
    "#         }"
   ]
  },
  {
   "cell_type": "markdown",
   "metadata": {
    "collapsed": true
   },
   "source": [
    "# Seeded Alignment Approach"
   ]
  },
  {
   "cell_type": "code",
   "execution_count": 32,
   "metadata": {
    "collapsed": false
   },
   "outputs": [
    {
     "name": "stdout",
     "output_type": "stream",
     "text": [
      "CPU times: user 9min 37s, sys: 4.49 s, total: 9min 42s\n",
      "Wall time: 10min 14s\n"
     ]
    }
   ],
   "source": [
    "%%time\n",
    "for i in range(1, MAX_ID+1):\n",
    "    # Iterate over reads\n",
    "    temp = TEMP\n",
    "    with open(temp.format(i)) as reads:\n",
    "        ref_count = 0\n",
    "        alt_count = 0\n",
    "        amb_count = 0\n",
    "        indel = indels[i]\n",
    "        ref_seq, alt_seq = indel[\"ref_seq\"], indel[\"alt_seq\"]\n",
    "        ref_idxs = indel[\"ref_idxs\"]\n",
    "        for read in reads:\n",
    "            read = read.rstrip(\"\\n\").replace(\"N\", \"A\")\n",
    "            # Reverse read if applicable\n",
    "            if not is_forward(read, ref_idxs):\n",
    "                read = rev_comp(read)\n",
    "            # Find offset\n",
    "            offset = find_offset(read, ref_idxs, k=K, step=1, ival=IVAL)\n",
    "            # Determine if overlaps with mutation position\n",
    "            if offset and not is_overlap(read, ref_seq, offset, min_olap=MIN_OLAP):\n",
    "                continue\n",
    "            # Estimate appropriate margin (esp. if insertion)\n",
    "            if len(alt_seq) - len(ref_seq) > 0:\n",
    "                margin = len(alt_seq) - len(ref_seq) + 5\n",
    "            else:\n",
    "                margin = 5\n",
    "            aln_delta = calc_aln_delta(read, ref_seq, alt_seq, min_delta=2, offset=offset, margin=margin)\n",
    "            if aln_delta > 0:\n",
    "                ref_count += 1\n",
    "            elif aln_delta < 0:\n",
    "                alt_count += 1\n",
    "            else:\n",
    "                amb_count += 1\n",
    "        if alt_count + ref_count == 0:\n",
    "            vaf = 0\n",
    "        else:\n",
    "            vaf = round(alt_count/(alt_count + ref_count), 2)\n",
    "        results[indel[\"id\"]][3] = {\n",
    "            \"ref_count\": ref_count,\n",
    "            \"alt_count\": alt_count,\n",
    "            \"amb_count\": amb_count,\n",
    "            \"vaf\": vaf\n",
    "        }"
   ]
  },
  {
   "cell_type": "markdown",
   "metadata": {},
   "source": [
    "# Hybrid Approach"
   ]
  },
  {
   "cell_type": "code",
   "execution_count": 46,
   "metadata": {
    "collapsed": false
   },
   "outputs": [
    {
     "name": "stdout",
     "output_type": "stream",
     "text": [
      "CPU times: user 1min 39s, sys: 110 ms, total: 1min 39s\n",
      "Wall time: 1min 39s\n"
     ]
    }
   ],
   "source": [
    "%%time\n",
    "for i in range(1, MAX_ID+1):\n",
    "    # Iterate over reads\n",
    "    temp = TEMP\n",
    "    with open(temp.format(i)) as reads:\n",
    "        ref_count = 0\n",
    "        alt_count = 0\n",
    "        amb_count = 0\n",
    "        indel = indels[i]\n",
    "        ref_idxs = indel[\"ref_idxs\"]\n",
    "        alt_idxs = indel[\"alt_idxs\"]\n",
    "        # Iterate over reads\n",
    "        for read in reads:\n",
    "            read = read.rstrip(\"\\n\").replace(\"N\", \"A\")\n",
    "            # Reverse read if applicable\n",
    "            if not is_forward(read, ref_idxs):\n",
    "                read = rev_comp(read)\n",
    "            # Find offset\n",
    "            offset = find_offset(read, ref_idxs, k=K, step=1, ival=IVAL)\n",
    "            # Determine if overlaps with mutation position\n",
    "            if offset and not is_overlap(read, ref_seq, offset, min_olap=MIN_OLAP):\n",
    "                continue\n",
    "            # Calculate score delta\n",
    "            kmer_delta = calc_kmer_delta(read, ref_idxs, alt_idxs, min_delta=3, max_ival=5)\n",
    "            if kmer_delta > 0:\n",
    "                ref_count += 1\n",
    "            elif kmer_delta < 0:\n",
    "                alt_count += 1\n",
    "            else:\n",
    "                # If k-mer method can't discriminate between ref and alt, use alignment method\n",
    "                # Estimate appropriate margin (esp. if insertion)\n",
    "                if len(alt_seq) - len(ref_seq) > 0:\n",
    "                    margin = len(alt_seq) - len(ref_seq) + 5\n",
    "                else:\n",
    "                    margin = 5\n",
    "                aln_delta = calc_aln_delta(read, ref_seq, alt_seq, min_delta=8, offset=offset, margin=margin)\n",
    "                if aln_delta > 0:\n",
    "                    ref_count += 1\n",
    "                elif aln_delta < 0:\n",
    "                    alt_count += 1\n",
    "                else:\n",
    "                    amb_count += 1\n",
    "        vaf = round(alt_count/(alt_count + ref_count), 2)\n",
    "        results[indel[\"id\"]][4] = {\n",
    "            \"ref_count\": ref_count,\n",
    "            \"alt_count\": alt_count,\n",
    "            \"amb_count\": amb_count,\n",
    "            \"vaf\": vaf\n",
    "        }"
   ]
  },
  {
   "cell_type": "code",
   "execution_count": 47,
   "metadata": {
    "collapsed": false
   },
   "outputs": [
    {
     "name": "stdout",
     "output_type": "stream",
     "text": [
      "  id  original              kmer                 aln           seeded_aln            hybrid\n",
      "----  --------------------  -------------------  ------------  --------------------  -------------------\n",
      "   1  (13, 7, 0, 0.35)      (52, 0, 6, 0.0)      (0, 0, 0, 0)  (14, 24, 2, 0.63)     (52, 0, 2, 0.0)\n",
      "   2  (36, 0, 0, 0.0)       (178, 0, 2, 0.0)     (0, 0, 0, 0)  (33, 0, 0, 0.0)       (172, 0, 0, 0.0)\n",
      "   3  (30, 0, 0, 0.0)       (133, 0, 5, 0.0)     (0, 0, 0, 0)  (30, 0, 0, 0.0)       (129, 0, 0, 0.0)\n",
      "   4  (79, 0, 0, 0.0)       (74, 0, 0, 0.0)      (0, 0, 0, 0)  (70, 0, 0, 0.0)       (72, 0, 0, 0.0)\n",
      "   5  (12, 0, 0, 0.0)       (90, 0, 0, 0.0)      (0, 0, 0, 0)  (8, 0, 0, 0.0)        (87, 0, 0, 0.0)\n",
      "   6  (11, 0, 0, 0.0)       (99, 0, 1, 0.0)      (0, 0, 0, 0)  (10, 0, 0, 0.0)       (87, 0, 0, 0.0)\n",
      "   7  (8, 0, 0, 0.0)        (94, 0, 2, 0.0)      (0, 0, 0, 0)  (8, 0, 0, 0.0)        (87, 0, 0, 0.0)\n",
      "   8  (7, 4, 0, 0.36)       (122, 0, 4, 0.0)     (0, 0, 0, 0)  (7, 4, 0, 0.36)       (109, 0, 3, 0.0)\n",
      "   9  (11, 0, 0, 0.0)       (77, 0, 0, 0.0)      (0, 0, 0, 0)  (8, 2, 0, 0.2)        (71, 0, 0, 0.0)\n",
      "  10  (69, 0, 0, 0.0)       (178, 0, 3, 0.0)     (0, 0, 0, 0)  (66, 12, 0, 0.15)     (166, 0, 0, 0.0)\n",
      "  11  (62, 0, 0, 0.0)       (48, 0, 0, 0.0)      (0, 0, 0, 0)  (59, 38, 16, 0.39)    (36, 0, 0, 0.0)\n",
      "  12  (21, 0, 0, 0.0)       (83, 0, 0, 0.0)      (0, 0, 0, 0)  (18, 0, 4, 0.0)       (77, 0, 0, 0.0)\n",
      "  13  (10, 0, 0, 0.0)       (29, 0, 1, 0.0)      (0, 0, 0, 0)  (15, 3, 1, 0.17)      (26, 0, 0, 0.0)\n",
      "  14  (88, 4, 0, 0.04)      (155, 0, 1, 0.0)     (0, 0, 0, 0)  (80, 1, 1, 0.01)      (150, 0, 0, 0.0)\n",
      "  15  (85, 4, 0, 0.04)      (161, 0, 2, 0.0)     (0, 0, 0, 0)  (80, 0, 1, 0.0)       (153, 0, 0, 0.0)\n",
      "  16  (84, 0, 0, 0.0)       (669, 4, 35, 0.01)   (0, 0, 0, 0)  (70, 1, 1, 0.01)      (597, 4, 11, 0.01)\n",
      "  17  (41, 0, 0, 0.0)       (88, 0, 4, 0.0)      (0, 0, 0, 0)  (29, 0, 0, 0.0)       (85, 0, 0, 0.0)\n",
      "  18  (35, 2, 0, 0.05)      (94, 0, 1, 0.0)      (0, 0, 0, 0)  (28, 0, 0, 0.0)       (84, 0, 0, 0.0)\n",
      "  19  (23, 2, 0, 0.08)      (96, 0, 1, 0.0)      (0, 0, 0, 0)  (17, 2, 0, 0.11)      (83, 0, 0, 0.0)\n",
      "  20  (14, 0, 0, 0.0)       (28, 1, 1, 0.03)     (0, 0, 0, 0)  (31, 41, 6, 0.57)     (18, 1, 0, 0.05)\n",
      "  21  (10, 4, 0, 0.29)      (39, 0, 4, 0.0)      (0, 0, 0, 0)  (7, 6, 0, 0.46)       (34, 0, 2, 0.0)\n",
      "  22  (45, 16, 0, 0.26)     (43, 53, 99, 0.55)   (0, 0, 0, 0)  (25, 3, 0, 0.11)      (45, 9, 71, 0.17)\n",
      "  23  (24, 5, 0, 0.17)      (103, 1, 20, 0.01)   (0, 0, 0, 0)  (21, 5, 0, 0.19)      (91, 0, 17, 0.0)\n",
      "  24  (13, 0, 0, 0.0)       (175, 0, 0, 0.0)     (0, 0, 0, 0)  (29, 0, 0, 0.0)       (159, 0, 0, 0.0)\n",
      "  25  (126, 17, 0, 0.12)    (128, 0, 2, 0.0)     (0, 0, 0, 0)  (111, 16, 0, 0.13)    (122, 0, 0, 0.0)\n",
      "  26  (41, 1, 0, 0.02)      (120, 0, 5, 0.0)     (0, 0, 0, 0)  (41, 0, 0, 0.0)       (107, 0, 0, 0.0)\n",
      "  27  (7, 0, 0, 0.0)        (35, 0, 1, 0.0)      (0, 0, 0, 0)  (6, 10, 1, 0.63)      (35, 0, 0, 0.0)\n",
      "  28  (13, 0, 0, 0.0)       (93, 0, 2, 0.0)      (0, 0, 0, 0)  (10, 3, 0, 0.23)      (88, 0, 0, 0.0)\n",
      "  29  (12, 2, 0, 0.14)      (88, 0, 0, 0.0)      (0, 0, 0, 0)  (14, 0, 0, 0.0)       (75, 0, 0, 0.0)\n",
      "  30  (10, 0, 0, 0.0)       (86, 0, 0, 0.0)      (0, 0, 0, 0)  (11, 1, 2, 0.08)      (75, 0, 0, 0.0)\n",
      "  31  (12, 1, 0, 0.08)      (101, 0, 1, 0.0)     (0, 0, 0, 0)  (14, 26, 0, 0.65)     (90, 0, 0, 0.0)\n",
      "  32  (143, 0, 0, 0.0)      (65, 0, 2, 0.0)      (0, 0, 0, 0)  (49, 62, 19, 0.56)    (61, 0, 0, 0.0)\n",
      "  33  (23, 3, 0, 0.12)      (72, 0, 7, 0.0)      (0, 0, 0, 0)  (19, 3, 2, 0.14)      (62, 0, 3, 0.0)\n",
      "  34  (30, 3, 0, 0.09)      (101, 0, 7, 0.0)     (0, 0, 0, 0)  (23, 3, 3, 0.12)      (95, 0, 3, 0.0)\n",
      "  35  (11, 0, 0, 0.0)       (75, 0, 4, 0.0)      (0, 0, 0, 0)  (11, 0, 0, 0.0)       (72, 0, 0, 0.0)\n",
      "  36  (47, 33, 0, 0.41)     (136, 1, 9, 0.01)    (0, 0, 0, 0)  (47, 31, 0, 0.4)      (129, 1, 0, 0.01)\n",
      "  37  (12, 0, 0, 0.0)       (201, 0, 6, 0.0)     (0, 0, 0, 0)  (11, 2, 4, 0.15)      (182, 0, 0, 0.0)\n",
      "  38  (8, 10, 0, 0.56)      (73, 0, 4, 0.0)      (0, 0, 0, 0)  (8, 10, 0, 0.56)      (70, 0, 4, 0.0)\n",
      "  39  (107, 0, 0, 0.0)      (104, 0, 2, 0.0)     (0, 0, 0, 0)  (97, 74, 0, 0.43)     (101, 0, 0, 0.0)\n",
      "  40  (4, 0, 0, 0.0)        (68, 40, 4, 0.37)    (0, 0, 0, 0)  (14, 3, 0, 0.18)      (62, 39, 0, 0.39)\n",
      "  41  (12, 0, 0, 0.0)       (22, 0, 0, 0.0)      (0, 0, 0, 0)  (9, 2, 0, 0.18)       (20, 0, 0, 0.0)\n",
      "  42  (9, 0, 0, 0.0)        (23, 0, 0, 0.0)      (0, 0, 0, 0)  (9, 2, 0, 0.18)       (22, 0, 0, 0.0)\n",
      "  43  (51, 1, 0, 0.02)      (231, 0, 1471, 0.0)  (0, 0, 0, 0)  (42, 1, 8, 0.02)      (263, 0, 1255, 0.0)\n",
      "  44  (41, 0, 0, 0.0)       (162, 0, 4, 0.0)     (0, 0, 0, 0)  (125, 0, 0, 0.0)      (143, 0, 0, 0.0)\n",
      "  45  (9, 9, 0, 0.5)        (172, 0, 0, 0.0)     (0, 0, 0, 0)  (11, 5, 4, 0.31)      (151, 0, 0, 0.0)\n",
      "  46  (14, 2, 0, 0.13)      (74, 0, 0, 0.0)      (0, 0, 0, 0)  (10, 3, 0, 0.23)      (66, 0, 0, 0.0)\n",
      "  47  (28, 1, 0, 0.03)      (118, 0, 0, 0.0)     (0, 0, 0, 0)  (27, 0, 1, 0.0)       (107, 0, 0, 0.0)\n",
      "  48  (42, 0, 0, 0.0)       (56, 0, 0, 0.0)      (0, 0, 0, 0)  (30, 1, 6, 0.03)      (55, 0, 0, 0.0)\n",
      "  49  (8, 2, 0, 0.2)        (53, 0, 0, 0.0)      (0, 0, 0, 0)  (6, 0, 0, 0.0)        (51, 0, 0, 0.0)\n",
      "  50  (19, 0, 0, 0.0)       (115, 0, 2, 0.0)     (0, 0, 0, 0)  (14, 0, 0, 0.0)       (94, 0, 0, 0.0)\n",
      "  51  (29, 1, 0, 0.03)      (123, 0, 5, 0.0)     (0, 0, 0, 0)  (27, 0, 0, 0.0)       (118, 0, 0, 0.0)\n",
      "  52  (66, 0, 0, 0.0)       (84, 0, 0, 0.0)      (0, 0, 0, 0)  (53, 5, 0, 0.09)      (78, 0, 0, 0.0)\n",
      "  53  (12, 2, 0, 0.14)      (41, 0, 1, 0.0)      (0, 0, 0, 0)  (8, 3, 2, 0.27)       (41, 0, 0, 0.0)\n",
      "  54  (2, 3, 0, 0.6)        (64, 0, 0, 0.0)      (0, 0, 0, 0)  (7, 0, 1, 0.0)        (63, 0, 0, 0.0)\n",
      "  55  (74, 0, 0, 0.0)       (57, 0, 0, 0.0)      (0, 0, 0, 0)  (68, 3, 0, 0.04)      (52, 0, 0, 0.0)\n",
      "  56  (90, 0, 0, 0.0)       (58, 0, 0, 0.0)      (0, 0, 0, 0)  (83, 6, 0, 0.07)      (54, 0, 0, 0.0)\n",
      "  57  (4, 0, 0, 0.0)        (33, 0, 0, 0.0)      (0, 0, 0, 0)  (4, 0, 0, 0.0)        (30, 0, 0, 0.0)\n",
      "  58  (70, 2, 0, 0.03)      (87, 0, 4, 0.0)      (0, 0, 0, 0)  (62, 1, 3, 0.02)      (86, 0, 0, 0.0)\n",
      "  59  (37, 0, 0, 0.0)       (95, 0, 0, 0.0)      (0, 0, 0, 0)  (29, 3, 0, 0.09)      (91, 0, 0, 0.0)\n",
      "  60  (70, 0, 0, 0.0)       (314, 2, 12, 0.01)   (0, 0, 0, 0)  (62, 11, 0, 0.15)     (290, 2, 0, 0.01)\n",
      "  61  (37, 2, 0, 0.05)      (142, 0, 4, 0.0)     (0, 0, 0, 0)  (32, 31, 0, 0.49)     (129, 0, 0, 0.0)\n",
      "  62  (20, 0, 0, 0.0)       (98, 0, 3, 0.0)      (0, 0, 0, 0)  (18, 0, 0, 0.0)       (95, 0, 0, 0.0)\n",
      "  63  (18, 0, 0, 0.0)       (100, 0, 6, 0.0)     (0, 0, 0, 0)  (15, 1, 0, 0.06)      (97, 0, 0, 0.0)\n",
      "  64  (19, 2, 0, 0.1)       (106, 0, 1, 0.0)     (0, 0, 0, 0)  (15, 1, 0, 0.06)      (98, 0, 0, 0.0)\n",
      "  65  (21, 0, 0, 0.0)       (108, 0, 0, 0.0)     (0, 0, 0, 0)  (20, 0, 0, 0.0)       (101, 0, 0, 0.0)\n",
      "  66  (5, 0, 0, 0.0)        (31, 0, 0, 0.0)      (0, 0, 0, 0)  (3, 0, 0, 0.0)        (30, 0, 0, 0.0)\n",
      "  67  (173, 2, 0, 0.01)     (368, 1, 13, 0.0)    (0, 0, 0, 0)  (144, 0, 1, 0.0)      (331, 0, 0, 0.0)\n",
      "  68  (37, 4, 0, 0.1)       (137, 2, 2, 0.01)    (0, 0, 0, 0)  (37, 0, 2, 0.0)       (128, 0, 0, 0.0)\n",
      "  69  (34, 4, 0, 0.11)      (140, 0, 6, 0.0)     (0, 0, 0, 0)  (36, 0, 0, 0.0)       (129, 0, 0, 0.0)\n",
      "  70  (34, 0, 0, 0.0)       (146, 0, 2, 0.0)     (0, 0, 0, 0)  (36, 0, 0, 0.0)       (138, 0, 0, 0.0)\n",
      "  71  (7, 2, 0, 0.22)       (271, 0, 0, 0.0)     (0, 0, 0, 0)  (2, 0, 0, 0.0)        (234, 0, 0, 0.0)\n",
      "  72  (13, 0, 0, 0.0)       (56, 3, 0, 0.05)     (0, 0, 0, 0)  (14, 0, 0, 0.0)       (52, 3, 0, 0.05)\n",
      "  73  (7, 0, 0, 0.0)        (107, 0, 2, 0.0)     (0, 0, 0, 0)  (7, 4, 0, 0.36)       (103, 0, 0, 0.0)\n",
      "  74  (21, 4, 0, 0.16)      (64, 0, 10, 0.0)     (0, 0, 0, 0)  (4, 0, 0, 0.0)        (60, 0, 0, 0.0)\n",
      "  75  (11, 0, 0, 0.0)       (71, 0, 6, 0.0)      (0, 0, 0, 0)  (5, 0, 0, 0.0)        (67, 0, 1, 0.0)\n",
      "  76  (30, 0, 0, 0.0)       (97, 0, 2, 0.0)      (0, 0, 0, 0)  (29, 0, 0, 0.0)       (90, 0, 0, 0.0)\n",
      "  77  (19, 0, 0, 0.0)       (92, 0, 2, 0.0)      (0, 0, 0, 0)  (17, 0, 0, 0.0)       (89, 0, 0, 0.0)\n",
      "  78  (17, 0, 0, 0.0)       (89, 0, 1, 0.0)      (0, 0, 0, 0)  (16, 0, 0, 0.0)       (85, 0, 0, 0.0)\n",
      "  79  (24, 0, 0, 0.0)       (277, 0, 6, 0.0)     (0, 0, 0, 0)  (104, 0, 1, 0.0)      (258, 0, 0, 0.0)\n",
      "  80  (0, 25, 0, 1.0)       (379, 0, 11, 0.0)    (0, 0, 0, 0)  (43, 3, 3, 0.07)      (354, 0, 0, 0.0)\n",
      "  81  (124, 75, 0, 0.38)    (70, 0, 1, 0.0)      (0, 0, 0, 0)  (130, 70, 0, 0.35)    (67, 0, 0, 0.0)\n",
      "  82  (1, 28, 0, 0.97)      (12, 0, 0, 0.0)      (0, 0, 0, 0)  (1, 13, 1, 0.93)      (10, 0, 0, 0.0)\n",
      "  83  (24, 27, 0, 0.53)     (30, 1, 0, 0.03)     (0, 0, 0, 0)  (23, 23, 1, 0.5)      (27, 1, 0, 0.04)\n",
      "  84  (0, 2, 0, 1.0)        (35, 0, 0, 0.0)      (0, 0, 0, 0)  (0, 2, 0, 1.0)        (31, 0, 0, 0.0)\n",
      "  85  (68, 2, 0, 0.03)      (200, 1, 2, 0.0)     (0, 0, 0, 0)  (116, 43, 0, 0.27)    (189, 1, 0, 0.01)\n",
      "  86  (73, 54, 0, 0.43)     (22, 0, 0, 0.0)      (0, 0, 0, 0)  (73, 57, 0, 0.44)     (20, 0, 0, 0.0)\n",
      "  87  (40, 8, 0, 0.17)      (164, 0, 0, 0.0)     (0, 0, 0, 0)  (50, 40, 0, 0.44)     (155, 0, 0, 0.0)\n",
      "  88  (494, 14, 0, 0.03)    (63, 0, 0, 0.0)      (0, 0, 0, 0)  (902, 21, 4, 0.02)    (59, 0, 0, 0.0)\n",
      "  89  (1095, 75, 0, 0.06)   (167, 0, 0, 0.0)     (0, 0, 0, 0)  (1233, 85, 3, 0.06)   (148, 0, 0, 0.0)\n",
      "  90  (163, 33, 0, 0.17)    (21, 0, 0, 0.0)      (0, 0, 0, 0)  (171, 32, 0, 0.16)    (20, 0, 0, 0.0)\n",
      "  91  (282, 69, 0, 0.2)     (36, 0, 0, 0.0)      (0, 0, 0, 0)  (396, 76, 0, 0.16)    (34, 0, 0, 0.0)\n",
      "  92  (549, 134, 0, 0.2)    (22, 0, 0, 0.0)      (0, 0, 0, 0)  (524, 137, 0, 0.21)   (21, 0, 0, 0.0)\n",
      "  93  (1119, 219, 0, 0.16)  (19, 1, 0, 0.05)     (0, 0, 0, 0)  (1100, 215, 0, 0.16)  (19, 1, 0, 0.05)\n",
      "  94  (1092, 200, 0, 0.15)  (19, 0, 0, 0.0)      (0, 0, 0, 0)  (1121, 205, 0, 0.15)  (18, 0, 0, 0.0)\n",
      "  95  (770, 50, 0, 0.06)    (75, 0, 0, 0.0)      (0, 0, 0, 0)  (1064, 111, 0, 0.09)  (66, 0, 0, 0.0)\n",
      "  96  (19, 10, 0, 0.34)     (58, 0, 0, 0.0)      (0, 0, 0, 0)  (23, 13, 0, 0.36)     (54, 0, 0, 0.0)\n",
      "  97  (46, 6, 0, 0.12)      (55, 0, 1, 0.0)      (0, 0, 0, 0)  (45, 5, 0, 0.1)       (52, 0, 0, 0.0)\n",
      "  98  (19, 3, 0, 0.14)      (112, 0, 0, 0.0)     (0, 0, 0, 0)  (20, 3, 0, 0.13)      (100, 0, 0, 0.0)\n",
      "  99  (22, 3, 0, 0.12)      (96, 0, 0, 0.0)      (0, 0, 0, 0)  (21, 3, 0, 0.13)      (83, 0, 0, 0.0)\n",
      " 100  (171, 6, 0, 0.03)     (238, 0, 7, 0.0)     (0, 0, 0, 0)  (172, 6, 0, 0.03)     (219, 0, 0, 0.0)\n"
     ]
    }
   ],
   "source": [
    "print(print_results(results, headers=HEADERS))"
   ]
  },
  {
   "cell_type": "markdown",
   "metadata": {},
   "source": [
    "# BWA Approach"
   ]
  },
  {
   "cell_type": "markdown",
   "metadata": {},
   "source": [
    "**Note:** This method requires `bwa` and `samtools` to be installed in PATH."
   ]
  },
  {
   "cell_type": "code",
   "execution_count": 42,
   "metadata": {
    "collapsed": true
   },
   "outputs": [],
   "source": [
    "import os\n",
    "import subprocess\n",
    "def bwa_index(name, ref_seq, alt_seq):\n",
    "    # Create directory and FASTA file\n",
    "    try:\n",
    "        os.mkdir(\"bams/{}\".format(name))\n",
    "    except OSError:\n",
    "        pass\n",
    "    with open(\"bams/{}/genome.fa\".format(name), \"w\") as fasta:\n",
    "        fasta.write(\">ref_allele\\n{}\\n>alt_allele\\n{}\\n\".format(ref_seq, alt_seq))\n",
    "    # Index FASTA file\n",
    "    output = subprocess.check_output([\"bwa\", \"index\", \"bams/{}/genome.fa\".format(name)])\n",
    "    return output"
   ]
  },
  {
   "cell_type": "code",
   "execution_count": 43,
   "metadata": {
    "collapsed": false
   },
   "outputs": [],
   "source": [
    "def bwa_mem(name, reads):\n",
    "    # Create FASTQ file\n",
    "    with open(\"bams/{}/reads.fa\".format(name), \"w\") as fasta:\n",
    "        for i, read in enumerate(reads, 1):\n",
    "            fasta.write(\">read_{}\\n{}\\n\".format(i, read))\n",
    "    # Call BWA MEM\n",
    "    output = subprocess.check_output(\"bwa mem bams/{0}/genome.fa bams/{0}/reads.fa | \"\n",
    "                                     \"samtools view -bS - > bams/{0}/{0}.bam\".format(name), shell=True)\n",
    "    return output"
   ]
  },
  {
   "cell_type": "code",
   "execution_count": 44,
   "metadata": {
    "collapsed": true
   },
   "outputs": [],
   "source": [
    "def sort_and_index(name):\n",
    "    # Sort BAM file\n",
    "    output = subprocess.check_output(\"samtools sort bams/{0}/{0}.bam bams/{0}/{0}.sort\".format(name), shell=True)\n",
    "    # Index sorted BAM file\n",
    "    output = subprocess.check_output(\"samtools index bams/{0}/{0}.sort.bam\".format(name), shell=True)"
   ]
  },
  {
   "cell_type": "code",
   "execution_count": 45,
   "metadata": {
    "collapsed": false
   },
   "outputs": [
    {
     "name": "stdout",
     "output_type": "stream",
     "text": [
      "CPU times: user 114 ms, sys: 611 ms, total: 726 ms\n",
      "Wall time: 4.56 s\n"
     ]
    }
   ],
   "source": [
    "%%time\n",
    "for i in range(1, MAX_ID+1):\n",
    "    # Iterate over reads\n",
    "    temp = TEMP\n",
    "    with open(temp.format(i)) as reads:\n",
    "        ref_count = 0\n",
    "        alt_count = 0\n",
    "        amb_count = 0\n",
    "        indel = indels[i]\n",
    "        ref_seq = indel[\"ref_seq\"]\n",
    "        alt_seq = indel[\"alt_seq\"]\n",
    "        ref_idxs = indel[\"ref_idxs\"]\n",
    "        alt_idxs = indel[\"alt_idxs\"]\n",
    "        name = \"indel_normal_{}\".format(str(i))\n",
    "        try:\n",
    "            os.mkdir(\"bams\")\n",
    "        except OSError:\n",
    "            pass\n",
    "        # Index reference\n",
    "        bwa_index(name, ref_seq, alt_seq)\n",
    "        # Align reads\n",
    "        reads = [read.rstrip(\"\\n\") for read in reads]\n",
    "        bwa_mem(name, reads)\n",
    "        # Sort and index BAM file\n",
    "        sort_and_index(name)"
   ]
  },
  {
   "cell_type": "code",
   "execution_count": null,
   "metadata": {
    "collapsed": true
   },
   "outputs": [],
   "source": []
  }
 ],
 "metadata": {
  "kernelspec": {
   "display_name": "Python 2",
   "language": "python",
   "name": "python2"
  },
  "language_info": {
   "codemirror_mode": {
    "name": "ipython",
    "version": 2
   },
   "file_extension": ".py",
   "mimetype": "text/x-python",
   "name": "python",
   "nbconvert_exporter": "python",
   "pygments_lexer": "ipython2",
   "version": "2.7.10"
  }
 },
 "nbformat": 4,
 "nbformat_minor": 0
}
