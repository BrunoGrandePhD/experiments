{
 "cells": [
  {
   "cell_type": "code",
   "execution_count": 128,
   "metadata": {
    "collapsed": true
   },
   "outputs": [],
   "source": [
    "import datetime, time\n",
    "import timeit\n",
    "import matplotlib\n",
    "import matplotlib.pyplot as plt"
   ]
  },
  {
   "cell_type": "code",
   "execution_count": 129,
   "metadata": {
    "collapsed": true
   },
   "outputs": [],
   "source": [
    "%matplotlib inline"
   ]
  },
  {
   "cell_type": "code",
   "execution_count": 130,
   "metadata": {
    "collapsed": true
   },
   "outputs": [],
   "source": [
    "import numpy.random\n",
    "def generate(array_len):\n",
    "    \"\"\"Generate random num and array \n",
    "    given a array length.\n",
    "    \n",
    "    Returns (num, array)\n",
    "    \"\"\"\n",
    "    num = numpy.random.randint(-1000000, 1000000)\n",
    "    array = list(numpy.random.randint(-1000000, 1000000, array_len))\n",
    "    return num, array"
   ]
  },
  {
   "cell_type": "code",
   "execution_count": 131,
   "metadata": {
    "collapsed": true
   },
   "outputs": [],
   "source": [
    "steps = [100, 1000, 10000, 100000, 1000000]"
   ]
  },
  {
   "cell_type": "code",
   "execution_count": 132,
   "metadata": {
    "collapsed": true
   },
   "outputs": [],
   "source": [
    "def santina(num, array):\n",
    "    \"\"\"Determines whether there are two numbers in\n",
    "    the list array that add up to the number num.\n",
    "    \"\"\"\n",
    "    # Sort array\n",
    "    array = sorted(array)\n",
    "    # Initialize pointers\n",
    "    left = 0\n",
    "    right = len(array) - 1\n",
    "    # Iterate until left and right pointers cross each other\n",
    "    is_two_num_sum = False\n",
    "    while left < right and not is_two_num_sum:\n",
    "        if array[left] + array[right] < num:\n",
    "            left += 1\n",
    "        elif array[left] + array[right] > num:\n",
    "            right -= 1\n",
    "        elif array[left] + array[right] == num:\n",
    "            is_two_num_sum = True\n",
    "        else:\n",
    "            pass\n",
    "    return is_two_num_sum"
   ]
  },
  {
   "cell_type": "code",
   "execution_count": 133,
   "metadata": {
    "collapsed": true
   },
   "outputs": [],
   "source": [
    "def bruno(num, array):\n",
    "    \"\"\"Determines whether there are two numbers in\n",
    "    the list array that add up to the number num.\n",
    "    \"\"\"\n",
    "    # Create set of numbers\n",
    "    numbers = set(array)\n",
    "    # Iterate over numbers\n",
    "    is_two_num_sum = False\n",
    "    for n in numbers:\n",
    "        if num - n in numbers:\n",
    "            is_two_num_sum = True\n",
    "            break\n",
    "    return is_two_num_sum"
   ]
  },
  {
   "cell_type": "code",
   "execution_count": 134,
   "metadata": {
    "collapsed": false
   },
   "outputs": [],
   "source": [
    "s_times = []\n",
    "b_times = []\n",
    "for step in steps:\n",
    "    # Generate num and array\n",
    "    num, array = generate(step)\n",
    "    # Generate santina's results\n",
    "    s_timer = %timeit -q -o santina(num, array)\n",
    "    s_times.append(int(s_timer.best * 1000000))\n",
    "    # Generate bruno's results\n",
    "    b_timer = %timeit -q -o bruno(num, array)\n",
    "    b_times.append(int(b_timer.best * 1000000))"
   ]
  },
  {
   "cell_type": "code",
   "execution_count": 135,
   "metadata": {
    "collapsed": false
   },
   "outputs": [
    {
     "data": {
      "image/png": "[encoded data removed]",
      "text/plain": [
       "<matplotlib.figure.Figure at 0x1058c9a10>"
      ]
     },
     "metadata": {},
     "output_type": "display_data"
    }
   ],
   "source": [
    "# Add santina's results to the plot\n",
    "plt.plot(steps, s_times, label=\"santina\")\n",
    "# Add bruno's results to the plot\n",
    "plt.plot(steps, b_times, label=\"bruno\")\n",
    "# Display\n",
    "plt.legend()\n",
    "plt.xlabel(\"Length of array\")\n",
    "plt.ylabel(\"Microseconds\")\n",
    "plt.show()"
   ]
  }
 ],
 "metadata": {
  "kernelspec": {
   "display_name": "Python 2",
   "language": "python",
   "name": "python2"
  },
  "language_info": {
   "codemirror_mode": {
    "name": "ipython",
    "version": 2
   },
   "file_extension": ".py",
   "mimetype": "text/x-python",
   "name": "python",
   "nbconvert_exporter": "python",
   "pygments_lexer": "ipython2",
   "version": "2.7.10"
  }
 },
 "nbformat": 4,
 "nbformat_minor": 0
}
